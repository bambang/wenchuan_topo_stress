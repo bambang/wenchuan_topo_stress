{
 "metadata": {
  "name": ""
 },
 "nbformat": 3,
 "nbformat_minor": 0,
 "worksheets": [
  {
   "cells": [
    {
     "cell_type": "markdown",
     "metadata": {},
     "source": [
      "# Let's talk about stress, baby.\n",
      "\n",
      "# Let's talk about $\\mu$ and me."
     ]
    },
    {
     "cell_type": "code",
     "collapsed": false,
     "input": [
      "%pylab inline\n",
      "%config InlineBackend.figure_format = 'retina'"
     ],
     "language": "python",
     "metadata": {},
     "outputs": [
      {
       "output_type": "stream",
       "stream": "stdout",
       "text": [
        "Populating the interactive namespace from numpy and matplotlib\n"
       ]
      }
     ],
     "prompt_number": 1
    },
    {
     "cell_type": "code",
     "collapsed": false,
     "input": [
      "import numpy as np\n",
      "import pandas as pd\n",
      "import halfspace.projections as hsp"
     ],
     "language": "python",
     "metadata": {},
     "outputs": [],
     "prompt_number": 2
    },
    {
     "cell_type": "code",
     "collapsed": false,
     "input": [
      "from itertools import chain"
     ],
     "language": "python",
     "metadata": {},
     "outputs": [],
     "prompt_number": 3
    },
    {
     "cell_type": "code",
     "collapsed": false,
     "input": [
      "reload(hsp)"
     ],
     "language": "python",
     "metadata": {},
     "outputs": [
      {
       "metadata": {},
       "output_type": "pyout",
       "prompt_number": 4,
       "text": [
        "<module 'halfspace.projections' from '/Users/itchy/school/halfspace/halfspace/projections.pyc'>"
       ]
      }
     ],
     "prompt_number": 4
    },
    {
     "cell_type": "markdown",
     "metadata": {},
     "source": [
      "## Load fault slip and stress data"
     ]
    },
    {
     "cell_type": "code",
     "collapsed": false,
     "input": [
      "repo_dir = '/Users/itchy/school/tibet/stress/fault_elev_stress/'\n",
      "wench_out_dir = repo_dir + 'wenchuan_eq/wench_output/'\n",
      "\n",
      "s1f = wench_out_dir + 's1_stress_4km.csv'\n",
      "s2f = wench_out_dir + 's2_stress_4km.csv'\n",
      "s3f = wench_out_dir + 's3_stress_4km.csv'\n",
      "s4f = wench_out_dir + 's4_stress_4km.csv'\n",
      "s5f = wench_out_dir + 's5_stress_4km.csv'"
     ],
     "language": "python",
     "metadata": {},
     "outputs": [],
     "prompt_number": 4
    },
    {
     "cell_type": "code",
     "collapsed": false,
     "input": [
      "s1 = pd.read_csv(s1f, index_col=0)\n",
      "s2 = pd.read_csv(s2f, index_col=0)\n",
      "s3 = pd.read_csv(s3f, index_col=0)\n",
      "s4 = pd.read_csv(s4f, index_col=0)\n",
      "s5 = pd.read_csv(s5f, index_col=0)"
     ],
     "language": "python",
     "metadata": {},
     "outputs": [],
     "prompt_number": 5
    },
    {
     "cell_type": "code",
     "collapsed": false,
     "input": [
      "s1['fault_seg'] = 's1'\n",
      "s2['fault_seg'] = 's2'\n",
      "s3['fault_seg'] = 's3'\n",
      "s4['fault_seg'] = 's4'\n",
      "s5['fault_seg'] = 's5'"
     ],
     "language": "python",
     "metadata": {},
     "outputs": [],
     "prompt_number": 6
    },
    {
     "cell_type": "code",
     "collapsed": false,
     "input": [
      "lms = pd.concat([s1, s2, s3, s4, s5], ignore_index=True)"
     ],
     "language": "python",
     "metadata": {},
     "outputs": [],
     "prompt_number": 7
    },
    {
     "cell_type": "code",
     "collapsed": false,
     "input": [
      "lms"
     ],
     "language": "python",
     "metadata": {},
     "outputs": [
      {
       "html": [
        "<pre>\n",
        "&lt;class 'pandas.core.frame.DataFrame'&gt;\n",
        "Int64Index: 702 entries, 0 to 701\n",
        "Data columns (total 21 columns):\n",
        "lat_deg       702  non-null values\n",
        "lon_deg       702  non-null values\n",
        "depth_km      702  non-null values\n",
        "x_local_km    702  non-null values\n",
        "y_local_km    702  non-null values\n",
        "utm_lon       702  non-null values\n",
        "utm_lat       702  non-null values\n",
        "x_pixel       702  non-null values\n",
        "y_pixel       702  non-null values\n",
        "z_pixel       702  non-null values\n",
        "zz_stress     702  non-null values\n",
        "xx_stress     702  non-null values\n",
        "yy_stress     702  non-null values\n",
        "xz_stress     702  non-null values\n",
        "xy_stress     702  non-null values\n",
        "yz_stress     702  non-null values\n",
        "sig_nn        702  non-null values\n",
        "tau_dd        702  non-null values\n",
        "tau_ss        702  non-null values\n",
        "tau_cs        702  non-null values\n",
        "fault_seg     702  non-null values\n",
        "dtypes: float64(20), object(1)\n",
        "</pre>"
       ],
       "metadata": {},
       "output_type": "pyout",
       "prompt_number": 8,
       "text": [
        "<class 'pandas.core.frame.DataFrame'>\n",
        "Int64Index: 702 entries, 0 to 701\n",
        "Data columns (total 21 columns):\n",
        "lat_deg       702  non-null values\n",
        "lon_deg       702  non-null values\n",
        "depth_km      702  non-null values\n",
        "x_local_km    702  non-null values\n",
        "y_local_km    702  non-null values\n",
        "utm_lon       702  non-null values\n",
        "utm_lat       702  non-null values\n",
        "x_pixel       702  non-null values\n",
        "y_pixel       702  non-null values\n",
        "z_pixel       702  non-null values\n",
        "zz_stress     702  non-null values\n",
        "xx_stress     702  non-null values\n",
        "yy_stress     702  non-null values\n",
        "xz_stress     702  non-null values\n",
        "xy_stress     702  non-null values\n",
        "yz_stress     702  non-null values\n",
        "sig_nn        702  non-null values\n",
        "tau_dd        702  non-null values\n",
        "tau_ss        702  non-null values\n",
        "tau_cs        702  non-null values\n",
        "fault_seg     702  non-null values\n",
        "dtypes: float64(20), object(1)"
       ]
      }
     ],
     "prompt_number": 8
    },
    {
     "cell_type": "code",
     "collapsed": false,
     "input": [
      "wench_slip_dir = (repo_dir\n",
      "                  + 'wenchuan_eq/Wenchuan_slip_model/4km-rakec/')\n",
      "\n",
      "s1_4km_f = wench_slip_dir + 's01_slip-f-0315-joint-90180.dat'\n",
      "s2_4km_f = wench_slip_dir + 's02_slip-f-0315-joint-90180.dat'\n",
      "s3_4km_f = wench_slip_dir + 's03_slip-f-0315-joint-90180.dat'\n",
      "s4_4km_f = wench_slip_dir + 's04_slip-f-0315-joint-90180.dat'\n",
      "s5_4km_f = wench_slip_dir + 's05_slip-f-0315-joint-90180.dat'\n",
      "\n",
      "s1_slip = pd.read_csv(s1_4km_f, sep=' ', delim_whitespace=True,\n",
      "                      skipinitialspace=True, index_col=0)\n",
      "s2_slip = pd.read_csv(s2_4km_f, sep=' ', delim_whitespace=True,\n",
      "                      skipinitialspace=True, index_col=0)\n",
      "s3_slip = pd.read_csv(s3_4km_f, sep=' ', delim_whitespace=True,\n",
      "                      skipinitialspace=True, index_col=0)\n",
      "s4_slip = pd.read_csv(s4_4km_f, sep=' ', delim_whitespace=True,\n",
      "                      skipinitialspace=True, index_col=0)\n",
      "s5_slip = pd.read_csv(s5_4km_f, sep=' ', delim_whitespace=True,\n",
      "                      skipinitialspace=True, index_col=0)\n",
      "\n",
      "lms_s = pd.concat( [s1_slip, s2_slip, s3_slip, s4_slip, s5_slip], \n",
      "                    ignore_index=True)"
     ],
     "language": "python",
     "metadata": {},
     "outputs": [],
     "prompt_number": 9
    },
    {
     "cell_type": "code",
     "collapsed": false,
     "input": [
      "lms_s"
     ],
     "language": "python",
     "metadata": {},
     "outputs": [
      {
       "html": [
        "<pre>\n",
        "&lt;class 'pandas.core.frame.DataFrame'&gt;\n",
        "Int64Index: 702 entries, 0 to 701\n",
        "Data columns (total 16 columns):\n",
        "lat_deg        702  non-null values\n",
        "lon_deg        702  non-null values\n",
        "depth_km       702  non-null values\n",
        "x_local_km     702  non-null values\n",
        "y_local_km     702  non-null values\n",
        "length_km      702  non-null values\n",
        "width_km       702  non-null values\n",
        "slp_strk_m     702  non-null values\n",
        "slp_ddip_m     702  non-null values\n",
        "slp_am_m       702  non-null values\n",
        "strike_deg     702  non-null values\n",
        "dip_deg        702  non-null values\n",
        "rake_deg       702  non-null values\n",
        "sig_stk_MPa    702  non-null values\n",
        "sig_ddi_MPa    702  non-null values\n",
        "sig_nrm_MPa    702  non-null values\n",
        "dtypes: float64(16)\n",
        "</pre>"
       ],
       "metadata": {},
       "output_type": "pyout",
       "prompt_number": 10,
       "text": [
        "<class 'pandas.core.frame.DataFrame'>\n",
        "Int64Index: 702 entries, 0 to 701\n",
        "Data columns (total 16 columns):\n",
        "lat_deg        702  non-null values\n",
        "lon_deg        702  non-null values\n",
        "depth_km       702  non-null values\n",
        "x_local_km     702  non-null values\n",
        "y_local_km     702  non-null values\n",
        "length_km      702  non-null values\n",
        "width_km       702  non-null values\n",
        "slp_strk_m     702  non-null values\n",
        "slp_ddip_m     702  non-null values\n",
        "slp_am_m       702  non-null values\n",
        "strike_deg     702  non-null values\n",
        "dip_deg        702  non-null values\n",
        "rake_deg       702  non-null values\n",
        "sig_stk_MPa    702  non-null values\n",
        "sig_ddi_MPa    702  non-null values\n",
        "sig_nrm_MPa    702  non-null values\n",
        "dtypes: float64(16)"
       ]
      }
     ],
     "prompt_number": 10
    },
    {
     "cell_type": "code",
     "collapsed": false,
     "input": [
      "slip_cols = ['lat_deg', 'lon_deg', 'depth_km','slp_strk_m', 'slp_ddip_m', \n",
      "             'slp_am_m', 'strike_deg', 'dip_deg', 'rake_deg']\n",
      "\n",
      "stress_cols = ['xx_stress', 'yy_stress', 'xy_stress', 'zz_stress',\n",
      "               'xz_stress', 'yz_stress']\n"
     ],
     "language": "python",
     "metadata": {},
     "outputs": [],
     "prompt_number": 19
    },
    {
     "cell_type": "code",
     "collapsed": false,
     "input": [
      "lms_df = pd.concat([lms_s[slip_cols], lms[stress_cols]], axis=1)"
     ],
     "language": "python",
     "metadata": {},
     "outputs": [],
     "prompt_number": 20
    },
    {
     "cell_type": "code",
     "collapsed": false,
     "input": [
      "lms_df.rake_deg.hist()"
     ],
     "language": "python",
     "metadata": {},
     "outputs": [
      {
       "metadata": {},
       "output_type": "pyout",
       "prompt_number": 21,
       "text": [
        "<matplotlib.axes.AxesSubplot at 0x10a1ac210>"
       ]
      },
      {
       "metadata": {
        "png": {
         "height": 255,
         "width": 376
        }
       },
       "output_type": "display_data",
       "png": "[encoded data removed]",
       "text": [
        "<matplotlib.figure.Figure at 0x10a1a7c10>"
       ]
      }
     ],
     "prompt_number": 21
    },
    {
     "cell_type": "code",
     "collapsed": false,
     "input": [
      "lms_df.slp_ddip_m *= -1"
     ],
     "language": "python",
     "metadata": {},
     "outputs": [],
     "prompt_number": 22
    },
    {
     "cell_type": "code",
     "collapsed": false,
     "input": [
      "lms_df.slp_strk_m *= -1"
     ],
     "language": "python",
     "metadata": {},
     "outputs": [],
     "prompt_number": 23
    },
    {
     "cell_type": "code",
     "collapsed": false,
     "input": [
      "lms_df.head() "
     ],
     "language": "python",
     "metadata": {},
     "outputs": [
      {
       "html": [
        "<div style=\"max-height:1000px;max-width:1500px;overflow:auto;\">\n",
        "<table border=\"1\" class=\"dataframe\">\n",
        "  <thead>\n",
        "    <tr style=\"text-align: right;\">\n",
        "      <th></th>\n",
        "      <th>lat_deg</th>\n",
        "      <th>lon_deg</th>\n",
        "      <th>depth_km</th>\n",
        "      <th>slp_strk_m</th>\n",
        "      <th>slp_ddip_m</th>\n",
        "      <th>slp_am_m</th>\n",
        "      <th>strike_deg</th>\n",
        "      <th>dip_deg</th>\n",
        "      <th>rake_deg</th>\n",
        "      <th>xx_stress</th>\n",
        "      <th>yy_stress</th>\n",
        "      <th>xy_stress</th>\n",
        "      <th>zz_stress</th>\n",
        "      <th>xz_stress</th>\n",
        "      <th>yz_stress</th>\n",
        "    </tr>\n",
        "  </thead>\n",
        "  <tbody>\n",
        "    <tr>\n",
        "      <th>0</th>\n",
        "      <td> 32.6006</td>\n",
        "      <td> 105.3810</td>\n",
        "      <td>  1.9696</td>\n",
        "      <td> 1.2616</td>\n",
        "      <td> 0.1872</td>\n",
        "      <td> 1.2755</td>\n",
        "      <td> 230</td>\n",
        "      <td> 80</td>\n",
        "      <td> 171.5579</td>\n",
        "      <td> 10.976253</td>\n",
        "      <td> 30.172523</td>\n",
        "      <td> 1.070611</td>\n",
        "      <td> 19.372076</td>\n",
        "      <td> 1.869993</td>\n",
        "      <td> 2.392969</td>\n",
        "    </tr>\n",
        "    <tr>\n",
        "      <th>1</th>\n",
        "      <td> 32.6054</td>\n",
        "      <td> 105.3762</td>\n",
        "      <td>  5.9088</td>\n",
        "      <td> 1.4475</td>\n",
        "      <td> 0.1238</td>\n",
        "      <td> 1.4528</td>\n",
        "      <td> 230</td>\n",
        "      <td> 80</td>\n",
        "      <td> 175.1122</td>\n",
        "      <td> 14.771017</td>\n",
        "      <td> 32.375621</td>\n",
        "      <td> 0.144774</td>\n",
        "      <td> 23.582459</td>\n",
        "      <td> 2.119628</td>\n",
        "      <td>-0.145302</td>\n",
        "    </tr>\n",
        "    <tr>\n",
        "      <th>2</th>\n",
        "      <td> 32.6102</td>\n",
        "      <td> 105.3715</td>\n",
        "      <td>  9.8481</td>\n",
        "      <td> 1.4525</td>\n",
        "      <td> 0.0435</td>\n",
        "      <td> 1.4532</td>\n",
        "      <td> 230</td>\n",
        "      <td> 80</td>\n",
        "      <td> 178.2863</td>\n",
        "      <td> 16.941882</td>\n",
        "      <td> 32.419915</td>\n",
        "      <td> 0.053586</td>\n",
        "      <td> 25.794262</td>\n",
        "      <td> 2.885399</td>\n",
        "      <td>-1.199046</td>\n",
        "    </tr>\n",
        "    <tr>\n",
        "      <th>3</th>\n",
        "      <td> 32.6150</td>\n",
        "      <td> 105.3667</td>\n",
        "      <td> 13.7873</td>\n",
        "      <td> 1.2829</td>\n",
        "      <td>-0.0000</td>\n",
        "      <td> 1.2829</td>\n",
        "      <td> 230</td>\n",
        "      <td> 80</td>\n",
        "      <td> 180.0000</td>\n",
        "      <td> 18.737585</td>\n",
        "      <td> 32.405041</td>\n",
        "      <td> 0.002823</td>\n",
        "      <td> 27.119895</td>\n",
        "      <td> 3.481674</td>\n",
        "      <td>-1.899954</td>\n",
        "    </tr>\n",
        "    <tr>\n",
        "      <th>4</th>\n",
        "      <td> 32.6198</td>\n",
        "      <td> 105.3619</td>\n",
        "      <td> 17.7265</td>\n",
        "      <td> 1.0385</td>\n",
        "      <td>-0.0000</td>\n",
        "      <td> 1.0385</td>\n",
        "      <td> 230</td>\n",
        "      <td> 80</td>\n",
        "      <td> 180.0000</td>\n",
        "      <td> 20.285801</td>\n",
        "      <td> 32.359863</td>\n",
        "      <td>-0.074297</td>\n",
        "      <td> 28.114629</td>\n",
        "      <td> 4.028200</td>\n",
        "      <td>-2.539007</td>\n",
        "    </tr>\n",
        "  </tbody>\n",
        "</table>\n",
        "</div>"
       ],
       "metadata": {},
       "output_type": "pyout",
       "prompt_number": 24,
       "text": [
        "   lat_deg   lon_deg  depth_km  slp_strk_m  slp_ddip_m  slp_am_m  strike_deg  \\\n",
        "0  32.6006  105.3810    1.9696      1.2616      0.1872    1.2755         230   \n",
        "1  32.6054  105.3762    5.9088      1.4475      0.1238    1.4528         230   \n",
        "2  32.6102  105.3715    9.8481      1.4525      0.0435    1.4532         230   \n",
        "3  32.6150  105.3667   13.7873      1.2829     -0.0000    1.2829         230   \n",
        "4  32.6198  105.3619   17.7265      1.0385     -0.0000    1.0385         230   \n",
        "\n",
        "   dip_deg  rake_deg  xx_stress  yy_stress  xy_stress  zz_stress  xz_stress  \\\n",
        "0       80  171.5579  10.976253  30.172523   1.070611  19.372076   1.869993   \n",
        "1       80  175.1122  14.771017  32.375621   0.144774  23.582459   2.119628   \n",
        "2       80  178.2863  16.941882  32.419915   0.053586  25.794262   2.885399   \n",
        "3       80  180.0000  18.737585  32.405041   0.002823  27.119895   3.481674   \n",
        "4       80  180.0000  20.285801  32.359863  -0.074297  28.114629   4.028200   \n",
        "\n",
        "   yz_stress  \n",
        "0   2.392969  \n",
        "1  -0.145302  \n",
        "2  -1.199046  \n",
        "3  -1.899954  \n",
        "4  -2.539007  "
       ]
      }
     ],
     "prompt_number": 24
    },
    {
     "cell_type": "code",
     "collapsed": false,
     "input": [
      "lms_df.rake_deg = hsp.get_rake_from_shear_components(\n",
      "                                   strike_shear=lms_df.slp_strk_m,\n",
      "                                   dip_shear = lms_df.slp_ddip_m)"
     ],
     "language": "python",
     "metadata": {},
     "outputs": [],
     "prompt_number": 17
    },
    {
     "cell_type": "code",
     "collapsed": false,
     "input": [
      "lms_df.rake_deg.hist()"
     ],
     "language": "python",
     "metadata": {},
     "outputs": [
      {
       "metadata": {},
       "output_type": "pyout",
       "prompt_number": 18,
       "text": [
        "<matplotlib.axes.AxesSubplot at 0x10a1902d0>"
       ]
      },
      {
       "metadata": {
        "png": {
         "height": 255,
         "width": 376
        }
       },
       "output_type": "display_data",
       "png": "[encoded data removed]",
       "text": [
        "<matplotlib.figure.Figure at 0x10a18c2d0>"
       ]
      }
     ],
     "prompt_number": 18
    },
    {
     "cell_type": "code",
     "collapsed": false,
     "input": [
      "lms_df.to_csv('../slip_models/zhang/lms_stress_slip.csv')"
     ],
     "language": "python",
     "metadata": {},
     "outputs": []
    },
    {
     "cell_type": "markdown",
     "metadata": {},
     "source": [
      "## Stress projections"
     ]
    },
    {
     "cell_type": "markdown",
     "metadata": {},
     "source": [
      "what do i want to do here?\n",
      "\n",
      "- make a stress tensor\n",
      "- project it onto the faults\n",
      "- add that to the topographic stresses\n",
      "- compare it to slip"
     ]
    },
    {
     "cell_type": "markdown",
     "metadata": {},
     "source": [
      "### Make search dataframe\n",
      "\n",
      "#### make lists of indices"
     ]
    },
    {
     "cell_type": "code",
     "collapsed": false,
     "input": [
      "stress_step = 20\n",
      "s_xx = np.arange(0, 200+stress_step, stress_step)\n",
      "s_yy = np.arange(0, 200+stress_step, stress_step)\n",
      "s_xy = np.arange(-50, 50+stress_step, stress_step)"
     ],
     "language": "python",
     "metadata": {},
     "outputs": [],
     "prompt_number": 20
    },
    {
     "cell_type": "code",
     "collapsed": false,
     "input": [
      "len(s_xx) * len(s_yy) * len(s_xy)"
     ],
     "language": "python",
     "metadata": {},
     "outputs": [
      {
       "metadata": {},
       "output_type": "pyout",
       "prompt_number": 21,
       "text": [
        "726"
       ]
      }
     ],
     "prompt_number": 21
    },
    {
     "cell_type": "code",
     "collapsed": false,
     "input": [
      "tect_comp_list = [[x, y, xy] for x in s_xx for y in s_yy for xy in s_xy]\n",
      "search_iter = np.arange(len(tect_comp_list))"
     ],
     "language": "python",
     "metadata": {},
     "outputs": [],
     "prompt_number": 22
    },
    {
     "cell_type": "code",
     "collapsed": false,
     "input": [
      "len(tect_comp_list), len(tect_comp_list) * 702"
     ],
     "language": "python",
     "metadata": {},
     "outputs": [
      {
       "metadata": {},
       "output_type": "pyout",
       "prompt_number": 23,
       "text": [
        "(726, 509652)"
       ]
      }
     ],
     "prompt_number": 23
    },
    {
     "cell_type": "code",
     "collapsed": false,
     "input": [
      "search_index_list = [[search_iter[ii], x, y, xy] \n",
      "                   for (ii, (x, y, xy)) in enumerate(tect_comp_list)]\n"
     ],
     "language": "python",
     "metadata": {},
     "outputs": [],
     "prompt_number": 24
    },
    {
     "cell_type": "code",
     "collapsed": false,
     "input": [
      "pt_index  = np.arange(len(lms_df.index))"
     ],
     "language": "python",
     "metadata": {},
     "outputs": [],
     "prompt_number": 25
    },
    {
     "cell_type": "code",
     "collapsed": false,
     "input": [
      "new_index  = [[si, x, y, xy, pi] for (si, x, y, xy) in search_index_list\n",
      "                                 for pi in pt_index]"
     ],
     "language": "python",
     "metadata": {},
     "outputs": [],
     "prompt_number": 26
    },
    {
     "cell_type": "code",
     "collapsed": false,
     "input": [
      "len(new_index)"
     ],
     "language": "python",
     "metadata": {},
     "outputs": [
      {
       "metadata": {},
       "output_type": "pyout",
       "prompt_number": 27,
       "text": [
        "509652"
       ]
      }
     ],
     "prompt_number": 27
    },
    {
     "cell_type": "code",
     "collapsed": false,
     "input": [
      "ind_array = np.array(new_index, dtype='int')"
     ],
     "language": "python",
     "metadata": {},
     "outputs": [],
     "prompt_number": 28
    },
    {
     "cell_type": "code",
     "collapsed": false,
     "input": [
      "ind_array"
     ],
     "language": "python",
     "metadata": {},
     "outputs": [
      {
       "metadata": {},
       "output_type": "pyout",
       "prompt_number": 29,
       "text": [
        "array([[  0,   0,   0, -50,   0],\n",
        "       [  0,   0,   0, -50,   1],\n",
        "       [  0,   0,   0, -50,   2],\n",
        "       ..., \n",
        "       [725, 200, 200,  50, 699],\n",
        "       [725, 200, 200,  50, 700],\n",
        "       [725, 200, 200,  50, 701]])"
       ]
      }
     ],
     "prompt_number": 29
    },
    {
     "cell_type": "code",
     "collapsed": false,
     "input": [
      "search_iter_index = ind_array[:,0]\n",
      "\n",
      "len(search_iter_index)"
     ],
     "language": "python",
     "metadata": {},
     "outputs": [
      {
       "metadata": {},
       "output_type": "pyout",
       "prompt_number": 30,
       "text": [
        "509652"
       ]
      }
     ],
     "prompt_number": 30
    },
    {
     "cell_type": "code",
     "collapsed": false,
     "input": [
      "search_df_cols = ['iter', 'tect_xx', 'tect_yy', 'tect_xy', 'pt_index',\n",
      "                  'topo_xx', 'topo_yy', 'topo_xy', 'topo_zz',\n",
      "                  'topo_xz', 'topo_yz', 'slip_m', 'slip_rake',\n",
      "                  'tau_rake', 'tau_mag', 'misfit', 'weighted_misfit']"
     ],
     "language": "python",
     "metadata": {},
     "outputs": [],
     "prompt_number": 31
    },
    {
     "cell_type": "code",
     "collapsed": false,
     "input": [
      "## Actually"
     ],
     "language": "python",
     "metadata": {},
     "outputs": []
    },
    {
     "cell_type": "markdown",
     "metadata": {},
     "source": [
      "#### Probably did too much there...\n",
      "\n",
      "#### make dataframe and fill in"
     ]
    },
    {
     "cell_type": "code",
     "collapsed": false,
     "input": [
      "search_df = pd.DataFrame(index=np.arange(len(new_index)),\n",
      "                         columns=search_df_cols)"
     ],
     "language": "python",
     "metadata": {},
     "outputs": [],
     "prompt_number": 32
    },
    {
     "cell_type": "code",
     "collapsed": false,
     "input": [
      "search_df[search_df_cols[:5]] = ind_array"
     ],
     "language": "python",
     "metadata": {},
     "outputs": [],
     "prompt_number": 33
    },
    {
     "cell_type": "code",
     "collapsed": false,
     "input": [
      "search_df["
     ],
     "language": "python",
     "metadata": {},
     "outputs": [
      {
       "ename": "SyntaxError",
       "evalue": "unexpected EOF while parsing (<ipython-input-34-33305373d882>, line 1)",
       "output_type": "pyerr",
       "traceback": [
        "\u001b[0;36m  File \u001b[0;32m\"<ipython-input-34-33305373d882>\"\u001b[0;36m, line \u001b[0;32m1\u001b[0m\n\u001b[0;31m    search_df[\u001b[0m\n\u001b[0m              ^\u001b[0m\n\u001b[0;31mSyntaxError\u001b[0m\u001b[0;31m:\u001b[0m unexpected EOF while parsing\n"
       ]
      }
     ],
     "prompt_number": 34
    },
    {
     "cell_type": "code",
     "collapsed": false,
     "input": [
      "def fill_row_vals(row, lms_df=lms_df):\n",
      "    pt = row['pt_index']\n",
      "    \n",
      "    ser = pd.Series(index = ['topo_xx', 'topo_yy', 'topo_xy', 'topo_zz',\n",
      "                             'topo_xz', 'topo_yz', 'slip_m', 'slip_rake'],\n",
      "                    data = lms_df[['xx_stress', 'yy_stress', 'xy_stress',\n",
      "                                   'zz_stress', 'slp_am_m','xz_stress',\n",
      "                                  'yz_stress', 'rake_deg']].iloc[pt].values )\n",
      "    return ser"
     ],
     "language": "python",
     "metadata": {},
     "outputs": [],
     "prompt_number": 35
    },
    {
     "cell_type": "code",
     "collapsed": false,
     "input": [],
     "language": "python",
     "metadata": {},
     "outputs": []
    },
    {
     "cell_type": "code",
     "collapsed": false,
     "input": [
      "search_df['topo_xx', 'topo_yy', 'topo_xy', 'topo_zz',\n",
      "          'topo_xz', 'topo_yz', 'slip_m', 'slip_rake'] = search_df.apply(fill_row_vals, axis=1)"
     ],
     "language": "python",
     "metadata": {},
     "outputs": [],
     "prompt_number": "*"
    },
    {
     "cell_type": "code",
     "collapsed": false,
     "input": [
      "%%timeit\n",
      "\n",
      "test_s = pd.Series( index = ['topo_xx', 'topo_yy', 'topo_xy', 'topo_zz',\n",
      "                             'topo_xz', 'topo_yz', 'slip_m', 'slip_rake'],\n",
      "                   data=lms_df[['xx_stress', 'yy_stress', 'xy_stress',\n",
      "                                'zz_stress', 'slp_am_m','xz_stress',\n",
      "                                'yz_stress', 'rake_deg']].iloc[0].values )"
     ],
     "language": "python",
     "metadata": {},
     "outputs": [
      {
       "output_type": "stream",
       "stream": "stdout",
       "text": [
        "1000 loops, best of 3: 576 \u00b5s per loop\n"
       ]
      }
     ],
     "prompt_number": 130
    },
    {
     "cell_type": "code",
     "collapsed": false,
     "input": [
      "test_s"
     ],
     "language": "python",
     "metadata": {},
     "outputs": [
      {
       "metadata": {},
       "output_type": "pyout",
       "prompt_number": 128,
       "text": [
        "topo_xx      10.976253\n",
        "topo_yy      30.172523\n",
        "topo_xy       1.070611\n",
        "topo_zz      19.372076\n",
        "topo_xz       1.275500\n",
        "topo_yz       1.869993\n",
        "slip_m        2.392969\n",
        "slip_rake    81.559864\n",
        "dtype: float64"
       ]
      }
     ],
     "prompt_number": 128
    },
    {
     "cell_type": "code",
     "collapsed": false,
     "input": [],
     "language": "python",
     "metadata": {},
     "outputs": []
    },
    {
     "cell_type": "code",
     "collapsed": false,
     "input": [],
     "language": "python",
     "metadata": {},
     "outputs": []
    },
    {
     "cell_type": "code",
     "collapsed": false,
     "input": [],
     "language": "python",
     "metadata": {},
     "outputs": []
    },
    {
     "cell_type": "code",
     "collapsed": false,
     "input": [],
     "language": "python",
     "metadata": {},
     "outputs": []
    },
    {
     "cell_type": "code",
     "collapsed": false,
     "input": [
      "def calc_stresses(s_xx=0, s_yy=0, s_xy=0, xx_stress=0, yy_stress=0,\n",
      "                  zz_stress=0, xy_stress=0, xz_stress=0, yz_stress=0,\n",
      "                  dip=90, strike=0):\n",
      "    \"\"\"\n",
      "    Wrapper function around individual stress component calculations.\n",
      "    \"\"\"\n",
      "    \n",
      "    T = hsp.make_xyz_stress_tensor(sig_xx=(s_xx + xx_stress),\n",
      "                                   sig_yy=(s_yy + yy_stress),\n",
      "                                   sig_xy=(s_xy + xy_stress),\n",
      "                                   sig_zz=zz_stress,\n",
      "                                   sig_xz=xz_stress,\n",
      "                                   sig_yz=yz_stress)\n",
      "    \n",
      "    tau_ss = hsp.strike_shear_stress_from_xyz(strike=strike, dip=dip,\n",
      "                                              stress_tensor=T)\n",
      "    tau_dd = hsp.dip_shear_stress_from_xyz(strike=strike, dip=dip,\n",
      "                                              stress_tensor=T)\n",
      "    sig_nn = hsp.normal_stress_from_xyz(strike=strike, dip=dip,\n",
      "                                              stress_tensor=T)\n",
      "    \n",
      "    tau_rake = np.arctan2(tau_dd, tau_ss)\n",
      "    \n",
      "    #return tau_ss, tau_dd, sig_nn, tau_rake\n",
      "    return tau_\n",
      "    \n",
      "def calc_misfit("
     ],
     "language": "python",
     "metadata": {},
     "outputs": []
    },
    {
     "cell_type": "code",
     "collapsed": false,
     "input": [
      "s1"
     ],
     "language": "python",
     "metadata": {},
     "outputs": [
      {
       "html": [
        "<pre>\n",
        "&lt;class 'pandas.core.frame.DataFrame'&gt;\n",
        "Int64Index: 128 entries, 0 to 127\n",
        "Data columns (total 21 columns):\n",
        "lat_deg       128  non-null values\n",
        "lon_deg       128  non-null values\n",
        "depth_km      128  non-null values\n",
        "x_local_km    128  non-null values\n",
        "y_local_km    128  non-null values\n",
        "utm_lon       128  non-null values\n",
        "utm_lat       128  non-null values\n",
        "x_pixel       128  non-null values\n",
        "y_pixel       128  non-null values\n",
        "z_pixel       128  non-null values\n",
        "zz_stress     128  non-null values\n",
        "xx_stress     128  non-null values\n",
        "yy_stress     128  non-null values\n",
        "xz_stress     128  non-null values\n",
        "xy_stress     128  non-null values\n",
        "yz_stress     128  non-null values\n",
        "sig_nn        128  non-null values\n",
        "tau_dd        128  non-null values\n",
        "tau_ss        128  non-null values\n",
        "tau_cs        128  non-null values\n",
        "fault_seg     128  non-null values\n",
        "dtypes: float64(20), object(1)\n",
        "</pre>"
       ],
       "metadata": {},
       "output_type": "pyout",
       "prompt_number": 12,
       "text": [
        "<class 'pandas.core.frame.DataFrame'>\n",
        "Int64Index: 128 entries, 0 to 127\n",
        "Data columns (total 21 columns):\n",
        "lat_deg       128  non-null values\n",
        "lon_deg       128  non-null values\n",
        "depth_km      128  non-null values\n",
        "x_local_km    128  non-null values\n",
        "y_local_km    128  non-null values\n",
        "utm_lon       128  non-null values\n",
        "utm_lat       128  non-null values\n",
        "x_pixel       128  non-null values\n",
        "y_pixel       128  non-null values\n",
        "z_pixel       128  non-null values\n",
        "zz_stress     128  non-null values\n",
        "xx_stress     128  non-null values\n",
        "yy_stress     128  non-null values\n",
        "xz_stress     128  non-null values\n",
        "xy_stress     128  non-null values\n",
        "yz_stress     128  non-null values\n",
        "sig_nn        128  non-null values\n",
        "tau_dd        128  non-null values\n",
        "tau_ss        128  non-null values\n",
        "tau_cs        128  non-null values\n",
        "fault_seg     128  non-null values\n",
        "dtypes: float64(20), object(1)"
       ]
      }
     ],
     "prompt_number": 12
    },
    {
     "cell_type": "code",
     "collapsed": false,
     "input": [],
     "language": "python",
     "metadata": {},
     "outputs": []
    }
   ],
   "metadata": {}
  }
 ]
}