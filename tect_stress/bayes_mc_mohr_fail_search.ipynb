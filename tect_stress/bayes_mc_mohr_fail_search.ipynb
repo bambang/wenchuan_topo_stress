{
 "metadata": {
  "name": ""
 },
 "nbformat": 3,
 "nbformat_minor": 0,
 "worksheets": [
  {
   "cells": [
    {
     "cell_type": "code",
     "collapsed": false,
     "input": [
      "%pylab inline\n",
      "%config InlineBackend.figure_format = 'retina'"
     ],
     "language": "python",
     "metadata": {},
     "outputs": [
      {
       "output_type": "stream",
       "stream": "stdout",
       "text": [
        "Populating the interactive namespace from numpy and matplotlib\n"
       ]
      }
     ],
     "prompt_number": 1
    },
    {
     "cell_type": "code",
     "collapsed": false,
     "input": [
      "import numpy as np\n",
      "import pandas as pd\n",
      "import halfspace.projections as hsp\n",
      "import stress_comps_vectorized as scv\n",
      "import time"
     ],
     "language": "python",
     "metadata": {},
     "outputs": [],
     "prompt_number": 2
    },
    {
     "cell_type": "code",
     "collapsed": false,
     "input": [
      "lms = pd.read_csv('../slip_models/zhang/lms_stress_slip.csv', index_col=0)\n",
      "\n",
      "lms.head()"
     ],
     "language": "python",
     "metadata": {},
     "outputs": [
      {
       "html": [
        "<div style=\"max-height:1000px;max-width:1500px;overflow:auto;\">\n",
        "<table border=\"1\" class=\"dataframe\">\n",
        "  <thead>\n",
        "    <tr style=\"text-align: right;\">\n",
        "      <th></th>\n",
        "      <th>lat_deg</th>\n",
        "      <th>lon_deg</th>\n",
        "      <th>depth_km</th>\n",
        "      <th>slp_strk_m</th>\n",
        "      <th>slp_ddip_m</th>\n",
        "      <th>slp_am_m</th>\n",
        "      <th>strike_deg</th>\n",
        "      <th>dip_deg</th>\n",
        "      <th>rake_deg</th>\n",
        "      <th>xx_stress</th>\n",
        "      <th>yy_stress</th>\n",
        "      <th>xy_stress</th>\n",
        "      <th>zz_stress</th>\n",
        "      <th>xz_stress</th>\n",
        "      <th>yz_stress</th>\n",
        "    </tr>\n",
        "  </thead>\n",
        "  <tbody>\n",
        "    <tr>\n",
        "      <th>0</th>\n",
        "      <td> 32.6006</td>\n",
        "      <td> 105.3810</td>\n",
        "      <td>  1.9696</td>\n",
        "      <td> 1.2616</td>\n",
        "      <td> 0.1872</td>\n",
        "      <td> 1.2755</td>\n",
        "      <td> 230</td>\n",
        "      <td> 80</td>\n",
        "      <td> 81.559864</td>\n",
        "      <td> 10.976253</td>\n",
        "      <td> 30.172523</td>\n",
        "      <td> 1.070611</td>\n",
        "      <td> 19.372076</td>\n",
        "      <td> 1.869993</td>\n",
        "      <td> 2.392969</td>\n",
        "    </tr>\n",
        "    <tr>\n",
        "      <th>1</th>\n",
        "      <td> 32.6054</td>\n",
        "      <td> 105.3762</td>\n",
        "      <td>  5.9088</td>\n",
        "      <td> 1.4475</td>\n",
        "      <td> 0.1238</td>\n",
        "      <td> 1.4528</td>\n",
        "      <td> 230</td>\n",
        "      <td> 80</td>\n",
        "      <td> 85.111573</td>\n",
        "      <td> 14.771017</td>\n",
        "      <td> 32.375621</td>\n",
        "      <td> 0.144774</td>\n",
        "      <td> 23.582459</td>\n",
        "      <td> 2.119628</td>\n",
        "      <td>-0.145302</td>\n",
        "    </tr>\n",
        "    <tr>\n",
        "      <th>2</th>\n",
        "      <td> 32.6102</td>\n",
        "      <td> 105.3715</td>\n",
        "      <td>  9.8481</td>\n",
        "      <td> 1.4525</td>\n",
        "      <td> 0.0435</td>\n",
        "      <td> 1.4532</td>\n",
        "      <td> 230</td>\n",
        "      <td> 80</td>\n",
        "      <td> 88.284598</td>\n",
        "      <td> 16.941882</td>\n",
        "      <td> 32.419915</td>\n",
        "      <td> 0.053586</td>\n",
        "      <td> 25.794262</td>\n",
        "      <td> 2.885399</td>\n",
        "      <td>-1.199046</td>\n",
        "    </tr>\n",
        "    <tr>\n",
        "      <th>3</th>\n",
        "      <td> 32.6150</td>\n",
        "      <td> 105.3667</td>\n",
        "      <td> 13.7873</td>\n",
        "      <td> 1.2829</td>\n",
        "      <td>-0.0000</td>\n",
        "      <td> 1.2829</td>\n",
        "      <td> 230</td>\n",
        "      <td> 80</td>\n",
        "      <td> 90.000000</td>\n",
        "      <td> 18.737585</td>\n",
        "      <td> 32.405041</td>\n",
        "      <td> 0.002823</td>\n",
        "      <td> 27.119895</td>\n",
        "      <td> 3.481674</td>\n",
        "      <td>-1.899954</td>\n",
        "    </tr>\n",
        "    <tr>\n",
        "      <th>4</th>\n",
        "      <td> 32.6198</td>\n",
        "      <td> 105.3619</td>\n",
        "      <td> 17.7265</td>\n",
        "      <td> 1.0385</td>\n",
        "      <td>-0.0000</td>\n",
        "      <td> 1.0385</td>\n",
        "      <td> 230</td>\n",
        "      <td> 80</td>\n",
        "      <td> 90.000000</td>\n",
        "      <td> 20.285801</td>\n",
        "      <td> 32.359863</td>\n",
        "      <td>-0.074297</td>\n",
        "      <td> 28.114629</td>\n",
        "      <td> 4.028200</td>\n",
        "      <td>-2.539007</td>\n",
        "    </tr>\n",
        "  </tbody>\n",
        "</table>\n",
        "<p>5 rows \u00d7 15 columns</p>\n",
        "</div>"
       ],
       "metadata": {},
       "output_type": "pyout",
       "prompt_number": 3,
       "text": [
        "   lat_deg   lon_deg  depth_km  slp_strk_m  slp_ddip_m  slp_am_m  strike_deg  \\\n",
        "0  32.6006  105.3810    1.9696      1.2616      0.1872    1.2755         230   \n",
        "1  32.6054  105.3762    5.9088      1.4475      0.1238    1.4528         230   \n",
        "2  32.6102  105.3715    9.8481      1.4525      0.0435    1.4532         230   \n",
        "3  32.6150  105.3667   13.7873      1.2829     -0.0000    1.2829         230   \n",
        "4  32.6198  105.3619   17.7265      1.0385     -0.0000    1.0385         230   \n",
        "\n",
        "   dip_deg   rake_deg  xx_stress  yy_stress  xy_stress  zz_stress  xz_stress  \\\n",
        "0       80  81.559864  10.976253  30.172523   1.070611  19.372076   1.869993   \n",
        "1       80  85.111573  14.771017  32.375621   0.144774  23.582459   2.119628   \n",
        "2       80  88.284598  16.941882  32.419915   0.053586  25.794262   2.885399   \n",
        "3       80  90.000000  18.737585  32.405041   0.002823  27.119895   3.481674   \n",
        "4       80  90.000000  20.285801  32.359863  -0.074297  28.114629   4.028200   \n",
        "\n",
        "   yz_stress  \n",
        "0   2.392969  \n",
        "1  -0.145302  \n",
        "2  -1.199046  \n",
        "3  -1.899954  \n",
        "4  -2.539007  \n",
        "\n",
        "[5 rows x 15 columns]"
       ]
      }
     ],
     "prompt_number": 3
    },
    {
     "cell_type": "code",
     "collapsed": false,
     "input": [
      "t_prior_df = pd.read_csv('all_tau_posteriors.csv')"
     ],
     "language": "python",
     "metadata": {},
     "outputs": [],
     "prompt_number": 4
    },
    {
     "cell_type": "code",
     "collapsed": false,
     "input": [
      "# for testing's sake\n",
      "#t_prior_df = t_prior_df.iloc[:500]"
     ],
     "language": "python",
     "metadata": {},
     "outputs": [],
     "prompt_number": 5
    },
    {
     "cell_type": "code",
     "collapsed": false,
     "input": [
      "t_priors = t_prior_df.values\n",
      "\n",
      "del t_prior_df"
     ],
     "language": "python",
     "metadata": {},
     "outputs": [],
     "prompt_number": 7
    },
    {
     "cell_type": "code",
     "collapsed": false,
     "input": [
      "n_trials = t_priors.shape[0]\n",
      "\n",
      "n_points = len(lms.index)"
     ],
     "language": "python",
     "metadata": {},
     "outputs": [],
     "prompt_number": 16
    },
    {
     "cell_type": "code",
     "collapsed": false,
     "input": [
      "rho = 2700\n",
      "g = 9.81"
     ],
     "language": "python",
     "metadata": {},
     "outputs": [],
     "prompt_number": 17
    },
    {
     "cell_type": "code",
     "collapsed": false,
     "input": [
      "mu_lamb_priors = np.random.random([n_trials, 2])"
     ],
     "language": "python",
     "metadata": {},
     "outputs": [],
     "prompt_number": 18
    },
    {
     "cell_type": "code",
     "collapsed": false,
     "input": [
      "search_df_cols = ['iter','txx', 'tyy', 'txy', 'pt_index',\n",
      "                  'depth', 'strike', 'dip', 'slip_m',\n",
      "                  'slip_rake', 'mu', 'lamb']"
     ],
     "language": "python",
     "metadata": {},
     "outputs": [],
     "prompt_number": 19
    },
    {
     "cell_type": "code",
     "collapsed": false,
     "input": [
      "iter_range = np.arange(n_trials, dtype='float')\n",
      "pt_range = np.arange(n_points, dtype='float')"
     ],
     "language": "python",
     "metadata": {},
     "outputs": [],
     "prompt_number": 20
    },
    {
     "cell_type": "code",
     "collapsed": false,
     "input": [
      "index_list = [[iter_range[i], mu_lamb_priors[i,0], mu_lamb_priors[i,1], \n",
      "               t_priors[i,0], t_priors[i,1], t_priors[i,2], pi]\n",
      "             for i in iter_range for pi in pt_range]\n",
      "\n",
      "index_array= np.array(index_list)\n",
      "del index_list\n",
      "\n",
      "iter_index = np.int_(index_array[:,0].copy() )\n",
      "pt_index = np.int_(index_array[:,6].copy() )\n",
      "mu_lamb_prior_array = index_array[:,1:3]\n",
      "t_prior_array = index_array[:,3:6]\n",
      "\n",
      "del index_array"
     ],
     "language": "python",
     "metadata": {},
     "outputs": [],
     "prompt_number": 21
    },
    {
     "cell_type": "code",
     "collapsed": false,
     "input": [
      "t_prior_array.shape"
     ],
     "language": "python",
     "metadata": {},
     "outputs": [
      {
       "metadata": {},
       "output_type": "pyout",
       "prompt_number": 22,
       "text": [
        "(10649340, 3)"
       ]
      }
     ],
     "prompt_number": 22
    },
    {
     "cell_type": "code",
     "collapsed": false,
     "input": [
      "n_trials"
     ],
     "language": "python",
     "metadata": {},
     "outputs": [
      {
       "metadata": {},
       "output_type": "pyout",
       "prompt_number": 23,
       "text": [
        "15170"
       ]
      }
     ],
     "prompt_number": 23
    },
    {
     "cell_type": "code",
     "collapsed": false,
     "input": [
      "search_df=pd.DataFrame(index=np.arange(len(iter_index)), \n",
      "                       columns=search_df_cols, dtype=float)"
     ],
     "language": "python",
     "metadata": {},
     "outputs": [],
     "prompt_number": 24
    },
    {
     "cell_type": "code",
     "collapsed": false,
     "input": [
      "search_df['iter'] = iter_index\n",
      "search_df[['mu', 'lamb']] = mu_lamb_prior_array\n",
      "search_df['pt_index'] = pt_index\n",
      "search_df[['txx', 'tyy', 'txy']] = t_prior_array"
     ],
     "language": "python",
     "metadata": {},
     "outputs": [],
     "prompt_number": 25
    },
    {
     "cell_type": "code",
     "collapsed": false,
     "input": [
      "search_df['mxx'] = 0.\n",
      "search_df['myy'] = 0.\n",
      "search_df['mxy'] = 0.\n",
      "search_df['mxz'] = 0.\n",
      "search_df['myz'] = 0.\n",
      "search_df['mzz'] = 0."
     ],
     "language": "python",
     "metadata": {},
     "outputs": [],
     "prompt_number": 26
    },
    {
     "cell_type": "code",
     "collapsed": false,
     "input": [
      "lms_fill_cols = ['depth', 'strike', 'dip', 'slip_m', 'slip_rake',\n",
      "                       'mxx', 'myy', 'mxy', 'mzz', 'mxz', 'myz']"
     ],
     "language": "python",
     "metadata": {},
     "outputs": [],
     "prompt_number": 27
    },
    {
     "cell_type": "code",
     "collapsed": false,
     "input": [
      "lms_copy_cols = ['depth_km', 'strike_deg','dip_deg','slp_am_m', 'rake_deg',\n",
      "                'xx_stress', 'yy_stress', 'xy_stress', 'zz_stress',\n",
      "                'xz_stress', 'yz_stress']\n",
      "\n",
      "lms_col_array = lms[lms_copy_cols].values\n",
      "\n",
      "lms_reps = np.tile(lms_col_array, [n_trials, 1])\n",
      "\n",
      "search_df[lms_fill_cols] = lms_reps\n",
      "\n",
      "search_df.depth *= 1000\n",
      "\n",
      "search_df[['mxx', 'myy', 'mxy', 'mzz', 'mxz', 'myz']] *= 1e6"
     ],
     "language": "python",
     "metadata": {},
     "outputs": [],
     "prompt_number": 28
    },
    {
     "cell_type": "code",
     "collapsed": false,
     "input": [
      "search_df.head()"
     ],
     "language": "python",
     "metadata": {},
     "outputs": [
      {
       "html": [
        "<div style=\"max-height:1000px;max-width:1500px;overflow:auto;\">\n",
        "<table border=\"1\" class=\"dataframe\">\n",
        "  <thead>\n",
        "    <tr style=\"text-align: right;\">\n",
        "      <th></th>\n",
        "      <th>iter</th>\n",
        "      <th>txx</th>\n",
        "      <th>tyy</th>\n",
        "      <th>txy</th>\n",
        "      <th>pt_index</th>\n",
        "      <th>depth</th>\n",
        "      <th>strike</th>\n",
        "      <th>dip</th>\n",
        "      <th>slip_m</th>\n",
        "      <th>slip_rake</th>\n",
        "      <th>mu</th>\n",
        "      <th>lamb</th>\n",
        "      <th>mxx</th>\n",
        "      <th>myy</th>\n",
        "      <th>mxy</th>\n",
        "      <th>mxz</th>\n",
        "      <th>myz</th>\n",
        "      <th>mzz</th>\n",
        "    </tr>\n",
        "  </thead>\n",
        "  <tbody>\n",
        "    <tr>\n",
        "      <th>0</th>\n",
        "      <td> 0</td>\n",
        "      <td> 1.137443</td>\n",
        "      <td>-0.893377</td>\n",
        "      <td> 0.518141</td>\n",
        "      <td> 0</td>\n",
        "      <td>  1969.6</td>\n",
        "      <td> 230</td>\n",
        "      <td> 80</td>\n",
        "      <td> 1.2755</td>\n",
        "      <td> 81.559864</td>\n",
        "      <td> 0.157822</td>\n",
        "      <td> 0.322012</td>\n",
        "      <td> 10976253.429215</td>\n",
        "      <td> 30172522.971082</td>\n",
        "      <td> 1070610.613817</td>\n",
        "      <td> 1869992.542014</td>\n",
        "      <td> 2392968.966096</td>\n",
        "      <td> 19372076.331012</td>\n",
        "    </tr>\n",
        "    <tr>\n",
        "      <th>1</th>\n",
        "      <td> 0</td>\n",
        "      <td> 1.137443</td>\n",
        "      <td>-0.893377</td>\n",
        "      <td> 0.518141</td>\n",
        "      <td> 1</td>\n",
        "      <td>  5908.8</td>\n",
        "      <td> 230</td>\n",
        "      <td> 80</td>\n",
        "      <td> 1.4528</td>\n",
        "      <td> 85.111573</td>\n",
        "      <td> 0.157822</td>\n",
        "      <td> 0.322012</td>\n",
        "      <td> 14771017.091866</td>\n",
        "      <td> 32375620.692125</td>\n",
        "      <td>  144773.771068</td>\n",
        "      <td> 2119627.817813</td>\n",
        "      <td> -145301.740365</td>\n",
        "      <td> 23582459.219956</td>\n",
        "    </tr>\n",
        "    <tr>\n",
        "      <th>2</th>\n",
        "      <td> 0</td>\n",
        "      <td> 1.137443</td>\n",
        "      <td>-0.893377</td>\n",
        "      <td> 0.518141</td>\n",
        "      <td> 2</td>\n",
        "      <td>  9848.1</td>\n",
        "      <td> 230</td>\n",
        "      <td> 80</td>\n",
        "      <td> 1.4532</td>\n",
        "      <td> 88.284598</td>\n",
        "      <td> 0.157822</td>\n",
        "      <td> 0.322012</td>\n",
        "      <td> 16941881.697796</td>\n",
        "      <td> 32419914.711392</td>\n",
        "      <td>   53585.715643</td>\n",
        "      <td> 2885398.716198</td>\n",
        "      <td>-1199046.070224</td>\n",
        "      <td> 25794262.126200</td>\n",
        "    </tr>\n",
        "    <tr>\n",
        "      <th>3</th>\n",
        "      <td> 0</td>\n",
        "      <td> 1.137443</td>\n",
        "      <td>-0.893377</td>\n",
        "      <td> 0.518141</td>\n",
        "      <td> 3</td>\n",
        "      <td> 13787.3</td>\n",
        "      <td> 230</td>\n",
        "      <td> 80</td>\n",
        "      <td> 1.2829</td>\n",
        "      <td> 90.000000</td>\n",
        "      <td> 0.157822</td>\n",
        "      <td> 0.322012</td>\n",
        "      <td> 18737584.977646</td>\n",
        "      <td> 32405040.891478</td>\n",
        "      <td>    2823.373489</td>\n",
        "      <td> 3481674.488299</td>\n",
        "      <td>-1899954.301269</td>\n",
        "      <td> 27119894.734741</td>\n",
        "    </tr>\n",
        "    <tr>\n",
        "      <th>4</th>\n",
        "      <td> 0</td>\n",
        "      <td> 1.137443</td>\n",
        "      <td>-0.893377</td>\n",
        "      <td> 0.518141</td>\n",
        "      <td> 4</td>\n",
        "      <td> 17726.5</td>\n",
        "      <td> 230</td>\n",
        "      <td> 80</td>\n",
        "      <td> 1.0385</td>\n",
        "      <td> 90.000000</td>\n",
        "      <td> 0.157822</td>\n",
        "      <td> 0.322012</td>\n",
        "      <td> 20285801.406380</td>\n",
        "      <td> 32359863.473484</td>\n",
        "      <td>  -74297.376346</td>\n",
        "      <td> 4028200.086796</td>\n",
        "      <td>-2539007.345327</td>\n",
        "      <td> 28114629.179667</td>\n",
        "    </tr>\n",
        "  </tbody>\n",
        "</table>\n",
        "<p>5 rows \u00d7 18 columns</p>\n",
        "</div>"
       ],
       "metadata": {},
       "output_type": "pyout",
       "prompt_number": 29,
       "text": [
        "   iter       txx       tyy       txy  pt_index    depth  strike  dip  slip_m  \\\n",
        "0     0  1.137443 -0.893377  0.518141         0   1969.6     230   80  1.2755   \n",
        "1     0  1.137443 -0.893377  0.518141         1   5908.8     230   80  1.4528   \n",
        "2     0  1.137443 -0.893377  0.518141         2   9848.1     230   80  1.4532   \n",
        "3     0  1.137443 -0.893377  0.518141         3  13787.3     230   80  1.2829   \n",
        "4     0  1.137443 -0.893377  0.518141         4  17726.5     230   80  1.0385   \n",
        "\n",
        "   slip_rake        mu      lamb              mxx              myy  \\\n",
        "0  81.559864  0.157822  0.322012  10976253.429215  30172522.971082   \n",
        "1  85.111573  0.157822  0.322012  14771017.091866  32375620.692125   \n",
        "2  88.284598  0.157822  0.322012  16941881.697796  32419914.711392   \n",
        "3  90.000000  0.157822  0.322012  18737584.977646  32405040.891478   \n",
        "4  90.000000  0.157822  0.322012  20285801.406380  32359863.473484   \n",
        "\n",
        "              mxy             mxz             myz              mzz  \n",
        "0  1070610.613817  1869992.542014  2392968.966096  19372076.331012  \n",
        "1   144773.771068  2119627.817813  -145301.740365  23582459.219956  \n",
        "2    53585.715643  2885398.716198 -1199046.070224  25794262.126200  \n",
        "3     2823.373489  3481674.488299 -1899954.301269  27119894.734741  \n",
        "4   -74297.376346  4028200.086796 -2539007.345327  28114629.179667  \n",
        "\n",
        "[5 rows x 18 columns]"
       ]
      }
     ],
     "prompt_number": 29
    },
    {
     "cell_type": "code",
     "collapsed": false,
     "input": [
      "search_df['tau_s'] = scv.strike_shear(strike = search_df.strike, \n",
      "                          dip=search_df.dip, rho=rho, g=g,\n",
      "                          mxx=search_df.mxx, myy=search_df.myy,\n",
      "                          mxy=search_df.mxy, mzz=search_df.mzz,\n",
      "                          mxz=search_df.mxz, myz=search_df.myz,\n",
      "                          txx=search_df.txx, tyy=search_df.tyy,\n",
      "                          txy=search_df.txy, depth=search_df.depth)"
     ],
     "language": "python",
     "metadata": {},
     "outputs": [],
     "prompt_number": 30
    },
    {
     "cell_type": "code",
     "collapsed": false,
     "input": [
      "search_df['tau_d'] = scv.dip_shear(strike = search_df.strike, \n",
      "                          dip=search_df.dip, rho=rho, g=g,\n",
      "                          mxx=search_df.mxx, myy=search_df.myy,\n",
      "                          mxy=search_df.mxy, mzz=search_df.mzz,\n",
      "                          mxz=search_df.mxz, myz=search_df.myz,\n",
      "                          txx=search_df.txx, tyy=search_df.tyy,\n",
      "                          txy=search_df.txy, depth=search_df.depth)"
     ],
     "language": "python",
     "metadata": {},
     "outputs": [],
     "prompt_number": 31
    },
    {
     "cell_type": "code",
     "collapsed": false,
     "input": [
      "search_df['sig_n_eff'] = scv.eff_normal_stress(strike = search_df.strike, \n",
      "                          dip=search_df.dip, rho=rho, g=g,\n",
      "                          mxx=search_df.mxx, myy=search_df.myy,\n",
      "                          mxy=search_df.mxy, mzz=search_df.mzz,\n",
      "                          mxz=search_df.mxz, myz=search_df.myz,\n",
      "                          txx=search_df.txx, tyy=search_df.tyy,\n",
      "                          txy=search_df.txy, depth=search_df.depth,\n",
      "                          lamb=search_df.lamb)"
     ],
     "language": "python",
     "metadata": {},
     "outputs": [],
     "prompt_number": 32
    },
    {
     "cell_type": "code",
     "collapsed": false,
     "input": [
      "search_df['tau_mag'] = np.sqrt(search_df.tau_s**2 + search_df.tau_d**2)"
     ],
     "language": "python",
     "metadata": {},
     "outputs": [],
     "prompt_number": 33
    },
    {
     "cell_type": "code",
     "collapsed": false,
     "input": [
      "mean_slip = lms.slp_am_m.mean()\n",
      "\n",
      "search_df['weighted_fail_misfit'] = (np.abs(search_df.tau_mag\n",
      "                                       - search_df.mu * search_df.sig_n_eff) \n",
      "                                     * (search_df.slip_m / mean_slip) )"
     ],
     "language": "python",
     "metadata": {},
     "outputs": [],
     "prompt_number": 34
    },
    {
     "cell_type": "code",
     "collapsed": false,
     "input": [
      "iters = search_df.groupby('iter')"
     ],
     "language": "python",
     "metadata": {},
     "outputs": [],
     "prompt_number": 35
    },
    {
     "cell_type": "code",
     "collapsed": false,
     "input": [
      "#iters.describe()"
     ],
     "language": "python",
     "metadata": {},
     "outputs": [],
     "prompt_number": 36
    },
    {
     "cell_type": "code",
     "collapsed": false,
     "input": [
      "def l2_norm(array):\n",
      "    return np.linalg.norm(array, 2)"
     ],
     "language": "python",
     "metadata": {},
     "outputs": [],
     "prompt_number": 37
    },
    {
     "cell_type": "code",
     "collapsed": false,
     "input": [
      "fail_misfit = iters.weighted_fail_misfit.apply(l2_norm)"
     ],
     "language": "python",
     "metadata": {},
     "outputs": [],
     "prompt_number": 38
    },
    {
     "cell_type": "code",
     "collapsed": false,
     "input": [
      "fail_likelihood = 1 / (fail_misfit / fail_misfit.min())"
     ],
     "language": "python",
     "metadata": {},
     "outputs": [],
     "prompt_number": 39
    },
    {
     "cell_type": "code",
     "collapsed": false,
     "input": [
      "rand_filter = np.random.random(n_trials)"
     ],
     "language": "python",
     "metadata": {},
     "outputs": [],
     "prompt_number": 40
    },
    {
     "cell_type": "code",
     "collapsed": false,
     "input": [
      "keeps = fail_likelihood[fail_likelihood**3 >= rand_filter]"
     ],
     "language": "python",
     "metadata": {},
     "outputs": [],
     "prompt_number": 41
    },
    {
     "cell_type": "code",
     "collapsed": false,
     "input": [
      "fail_likelihood.hist()"
     ],
     "language": "python",
     "metadata": {},
     "outputs": [
      {
       "metadata": {},
       "output_type": "pyout",
       "prompt_number": 43,
       "text": [
        "<matplotlib.axes.AxesSubplot at 0x1f9478d50>"
       ]
      },
      {
       "metadata": {
        "png": {
         "height": 255,
         "width": 385
        }
       },
       "output_type": "display_data",
       "png": "[encoded data removed]",
       "text": [
        "<matplotlib.figure.Figure at 0x1f947ae10>"
       ]
      }
     ],
     "prompt_number": 43
    },
    {
     "cell_type": "code",
     "collapsed": false,
     "input": [
      "keeps.hist()"
     ],
     "language": "python",
     "metadata": {},
     "outputs": [
      {
       "metadata": {},
       "output_type": "pyout",
       "prompt_number": 44,
       "text": [
        "<matplotlib.axes.AxesSubplot at 0x10efc0690>"
       ]
      },
      {
       "metadata": {
        "png": {
         "height": 255,
         "width": 368
        }
       },
       "output_type": "display_data",
       "png": "[encoded data removed]",
       "text": [
        "<matplotlib.figure.Figure at 0x10ad44950>"
       ]
      }
     ],
     "prompt_number": 44
    },
    {
     "cell_type": "code",
     "collapsed": false,
     "input": [],
     "language": "python",
     "metadata": {},
     "outputs": []
    }
   ],
   "metadata": {}
  }
 ]
}