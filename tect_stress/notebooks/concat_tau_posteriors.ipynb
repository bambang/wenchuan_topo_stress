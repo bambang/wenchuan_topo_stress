{
 "metadata": {
  "name": ""
 },
 "nbformat": 3,
 "nbformat_minor": 0,
 "worksheets": [
  {
   "cells": [
    {
     "cell_type": "code",
     "collapsed": false,
     "input": [
      "import pandas as pd"
     ],
     "language": "python",
     "metadata": {},
     "outputs": [],
     "prompt_number": 1
    },
    {
     "cell_type": "code",
     "collapsed": false,
     "input": [
      "ls tau_posteriors*.csv"
     ],
     "language": "python",
     "metadata": {},
     "outputs": [
      {
       "output_type": "stream",
       "stream": "stdout",
       "text": [
        "tau_posteriors.csv   tau_posteriors3.csv  tau_posteriors5.csv  tau_posteriors7.csv\r\n",
        "tau_posteriors2.csv  tau_posteriors4.csv  tau_posteriors6.csv\r\n"
       ]
      }
     ],
     "prompt_number": 2
    },
    {
     "cell_type": "code",
     "collapsed": false,
     "input": [
      "pt1 = pd.read_csv('tau_posteriors.csv')\n",
      "pt2 = pd.read_csv('tau_posteriors2.csv')\n",
      "pt3 = pd.read_csv('tau_posteriors3.csv')\n",
      "pt4 = pd.read_csv('tau_posteriors4.csv')\n",
      "pt5 = pd.read_csv('tau_posteriors5.csv')\n",
      "pt6 = pd.read_csv('tau_posteriors6.csv')\n",
      "pt7 = pd.read_csv('tau_posteriors7.csv')"
     ],
     "language": "python",
     "metadata": {},
     "outputs": [],
     "prompt_number": 3
    },
    {
     "cell_type": "code",
     "collapsed": false,
     "input": [
      "post = pd.concat([pt1, pt2, pt3, pt4, pt5, pt6, pt7], axis=0)"
     ],
     "language": "python",
     "metadata": {},
     "outputs": [],
     "prompt_number": 6
    },
    {
     "cell_type": "code",
     "collapsed": false,
     "input": [
      "post.describe()\n"
     ],
     "language": "python",
     "metadata": {},
     "outputs": [
      {
       "html": [
        "<div style=\"max-height:1000px;max-width:1500px;overflow:auto;\">\n",
        "<table border=\"1\" class=\"dataframe\">\n",
        "  <thead>\n",
        "    <tr style=\"text-align: right;\">\n",
        "      <th></th>\n",
        "      <th>txx</th>\n",
        "      <th>tyy</th>\n",
        "      <th>txy</th>\n",
        "    </tr>\n",
        "  </thead>\n",
        "  <tbody>\n",
        "    <tr>\n",
        "      <th>count</th>\n",
        "      <td> 15170.000000</td>\n",
        "      <td> 15170.000000</td>\n",
        "      <td> 15170.000000</td>\n",
        "    </tr>\n",
        "    <tr>\n",
        "      <th>mean</th>\n",
        "      <td>     1.020994</td>\n",
        "      <td>    -0.395891</td>\n",
        "      <td>    -0.717637</td>\n",
        "    </tr>\n",
        "    <tr>\n",
        "      <th>std</th>\n",
        "      <td>     0.761483</td>\n",
        "      <td>     0.987942</td>\n",
        "      <td>     0.890291</td>\n",
        "    </tr>\n",
        "    <tr>\n",
        "      <th>min</th>\n",
        "      <td>    -1.996487</td>\n",
        "      <td>    -1.999709</td>\n",
        "      <td>    -1.999938</td>\n",
        "    </tr>\n",
        "    <tr>\n",
        "      <th>25%</th>\n",
        "      <td>     0.582737</td>\n",
        "      <td>    -1.205800</td>\n",
        "      <td>    -1.440514</td>\n",
        "    </tr>\n",
        "    <tr>\n",
        "      <th>50%</th>\n",
        "      <td>     1.197734</td>\n",
        "      <td>    -0.494792</td>\n",
        "      <td>    -0.867544</td>\n",
        "    </tr>\n",
        "    <tr>\n",
        "      <th>75%</th>\n",
        "      <td>     1.626175</td>\n",
        "      <td>     0.323194</td>\n",
        "      <td>    -0.135745</td>\n",
        "    </tr>\n",
        "    <tr>\n",
        "      <th>max</th>\n",
        "      <td>     1.999965</td>\n",
        "      <td>     1.999542</td>\n",
        "      <td>     1.998103</td>\n",
        "    </tr>\n",
        "  </tbody>\n",
        "</table>\n",
        "<p>8 rows \u00d7 3 columns</p>\n",
        "</div>"
       ],
       "metadata": {},
       "output_type": "pyout",
       "prompt_number": 9,
       "text": [
        "                txx           tyy           txy\n",
        "count  15170.000000  15170.000000  15170.000000\n",
        "mean       1.020994     -0.395891     -0.717637\n",
        "std        0.761483      0.987942      0.890291\n",
        "min       -1.996487     -1.999709     -1.999938\n",
        "25%        0.582737     -1.205800     -1.440514\n",
        "50%        1.197734     -0.494792     -0.867544\n",
        "75%        1.626175      0.323194     -0.135745\n",
        "max        1.999965      1.999542      1.998103\n",
        "\n",
        "[8 rows x 3 columns]"
       ]
      }
     ],
     "prompt_number": 9
    },
    {
     "cell_type": "code",
     "collapsed": false,
     "input": [
      "post.to_csv('all_tau_posteriors.csv', index=False)"
     ],
     "language": "python",
     "metadata": {},
     "outputs": [],
     "prompt_number": 10
    },
    {
     "cell_type": "code",
     "collapsed": false,
     "input": [],
     "language": "python",
     "metadata": {},
     "outputs": []
    }
   ],
   "metadata": {}
  }
 ]
}