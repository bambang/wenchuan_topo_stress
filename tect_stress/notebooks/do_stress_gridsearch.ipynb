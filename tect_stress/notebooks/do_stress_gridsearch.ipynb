{
 "metadata": {
  "name": ""
 },
 "nbformat": 3,
 "nbformat_minor": 0,
 "worksheets": [
  {
   "cells": [
    {
     "cell_type": "markdown",
     "metadata": {},
     "source": [
      "# Let's talk about stress, baby.\n",
      "\n",
      "# Let's talk about $\\mu$ and me."
     ]
    },
    {
     "cell_type": "code",
     "collapsed": false,
     "input": [
      "%pylab inline\n",
      "%config InlineBackend.figure_format = 'retina'"
     ],
     "language": "python",
     "metadata": {},
     "outputs": [
      {
       "output_type": "stream",
       "stream": "stdout",
       "text": [
        "Populating the interactive namespace from numpy and matplotlib\n"
       ]
      }
     ],
     "prompt_number": 2
    },
    {
     "cell_type": "code",
     "collapsed": false,
     "input": [
      "from pylab import *"
     ],
     "language": "python",
     "metadata": {},
     "outputs": [],
     "prompt_number": 1
    },
    {
     "cell_type": "code",
     "collapsed": false,
     "input": [
      "import numpy as np\n",
      "import pandas as pd\n",
      "import halfspace.projections as hsp\n",
      "import time"
     ],
     "language": "python",
     "metadata": {},
     "outputs": [],
     "prompt_number": 2
    },
    {
     "cell_type": "markdown",
     "metadata": {},
     "source": [
      "## Load fault slip and stress data"
     ]
    },
    {
     "cell_type": "code",
     "collapsed": false,
     "input": [
      "lms_df = pd.read_csv('../slip_models/zhang/lms_stress_slip.csv',\n",
      "                     index_col=0)"
     ],
     "language": "python",
     "metadata": {},
     "outputs": [],
     "prompt_number": 21
    },
    {
     "cell_type": "code",
     "collapsed": false,
     "input": [
      "df = lms_df"
     ],
     "language": "python",
     "metadata": {},
     "outputs": [],
     "prompt_number": 22
    },
    {
     "cell_type": "markdown",
     "metadata": {},
     "source": [
      "## Stress projections"
     ]
    },
    {
     "cell_type": "markdown",
     "metadata": {},
     "source": [
      "what do i want to do here?\n",
      "\n",
      "- make a stress tensor\n",
      "- project it onto the faults\n",
      "- add that to the topographic stresses\n",
      "- compare it to slip"
     ]
    },
    {
     "cell_type": "markdown",
     "metadata": {},
     "source": [
      "### Make search dataframe\n",
      "\n",
      "#### make lists of indices"
     ]
    },
    {
     "cell_type": "code",
     "collapsed": false,
     "input": [
      "stress_step = 10\n",
      "s_xx = np.arange(0, 200+stress_step, stress_step)\n",
      "s_yy = np.arange(0, 200+stress_step, stress_step)\n",
      "s_xy = np.arange(-50, 50+stress_step, stress_step)"
     ],
     "language": "python",
     "metadata": {},
     "outputs": [],
     "prompt_number": 26
    },
    {
     "cell_type": "code",
     "collapsed": false,
     "input": [
      "len(s_xx) * len(s_yy) * len(s_xy)"
     ],
     "language": "python",
     "metadata": {},
     "outputs": [
      {
       "metadata": {},
       "output_type": "pyout",
       "prompt_number": 27,
       "text": [
        "4851"
       ]
      }
     ],
     "prompt_number": 27
    },
    {
     "cell_type": "code",
     "collapsed": false,
     "input": [
      "tect_comp_list = [[x, y, xy] for x in s_xx for y in s_yy for xy in s_xy]\n",
      "search_iter = np.arange(len(tect_comp_list))"
     ],
     "language": "python",
     "metadata": {},
     "outputs": [],
     "prompt_number": 28
    },
    {
     "cell_type": "code",
     "collapsed": false,
     "input": [
      "len(tect_comp_list), len(tect_comp_list) * 702"
     ],
     "language": "python",
     "metadata": {},
     "outputs": [
      {
       "metadata": {},
       "output_type": "pyout",
       "prompt_number": 29,
       "text": [
        "(4851, 3405402)"
       ]
      }
     ],
     "prompt_number": 29
    },
    {
     "cell_type": "code",
     "collapsed": false,
     "input": [
      "search_index_list = [[search_iter[ii], x, y, xy] \n",
      "                   for (ii, (x, y, xy)) in enumerate(tect_comp_list)]"
     ],
     "language": "python",
     "metadata": {},
     "outputs": [],
     "prompt_number": 30
    },
    {
     "cell_type": "code",
     "collapsed": false,
     "input": [
      "pt_index  = np.arange(len(lms_df.index))"
     ],
     "language": "python",
     "metadata": {},
     "outputs": [],
     "prompt_number": 31
    },
    {
     "cell_type": "code",
     "collapsed": false,
     "input": [
      "new_index  = [[si, x, y, xy, pi] for (si, x, y, xy) in search_index_list\n",
      "                                 for pi in pt_index]"
     ],
     "language": "python",
     "metadata": {},
     "outputs": [],
     "prompt_number": 32
    },
    {
     "cell_type": "code",
     "collapsed": false,
     "input": [
      "len(new_index)"
     ],
     "language": "python",
     "metadata": {},
     "outputs": [
      {
       "metadata": {},
       "output_type": "pyout",
       "prompt_number": 33,
       "text": [
        "3405402"
       ]
      }
     ],
     "prompt_number": 33
    },
    {
     "cell_type": "code",
     "collapsed": false,
     "input": [
      "ind_array = np.array(new_index, dtype='int')"
     ],
     "language": "python",
     "metadata": {},
     "outputs": [],
     "prompt_number": 34
    },
    {
     "cell_type": "code",
     "collapsed": false,
     "input": [
      "ind_array"
     ],
     "language": "python",
     "metadata": {},
     "outputs": [
      {
       "metadata": {},
       "output_type": "pyout",
       "prompt_number": 35,
       "text": [
        "array([[   0,    0,    0,  -50,    0],\n",
        "       [   0,    0,    0,  -50,    1],\n",
        "       [   0,    0,    0,  -50,    2],\n",
        "       ..., \n",
        "       [4850,  200,  200,   50,  699],\n",
        "       [4850,  200,  200,   50,  700],\n",
        "       [4850,  200,  200,   50,  701]])"
       ]
      }
     ],
     "prompt_number": 35
    },
    {
     "cell_type": "code",
     "collapsed": false,
     "input": [
      "search_iter_index = ind_array[:,0]\n",
      "\n",
      "len(search_iter_index)"
     ],
     "language": "python",
     "metadata": {},
     "outputs": [
      {
       "metadata": {},
       "output_type": "pyout",
       "prompt_number": 36,
       "text": [
        "3405402"
       ]
      }
     ],
     "prompt_number": 36
    },
    {
     "cell_type": "code",
     "collapsed": false,
     "input": [
      "search_df_cols = ['iter', 'tect_xx', 'tect_yy', 'tect_xy', 'pt_index',\n",
      "                  'lat', 'lon', 'depth', 'strike', 'dip', 'slip_m',\n",
      "                  'slip_rake', 'tau_rake', 'tau_mag', 'sig_nn', 'misfit',\n",
      "                  'weighted_misfit']"
     ],
     "language": "python",
     "metadata": {},
     "outputs": [],
     "prompt_number": 37
    },
    {
     "cell_type": "markdown",
     "metadata": {},
     "source": [
      "#### make dataframe and fill in"
     ]
    },
    {
     "cell_type": "code",
     "collapsed": false,
     "input": [
      "search_df = pd.DataFrame(index=np.arange(len(new_index)),\n",
      "                         columns=search_df_cols, dtype='float')"
     ],
     "language": "python",
     "metadata": {},
     "outputs": [],
     "prompt_number": 32
    },
    {
     "cell_type": "code",
     "collapsed": false,
     "input": [
      "search_df[search_df_cols[:5]] = search_df[search_df_cols[:5]].astype('int')\n",
      "\n",
      "search_df[search_df_cols[:5]] = ind_array"
     ],
     "language": "python",
     "metadata": {},
     "outputs": [],
     "prompt_number": 40
    },
    {
     "cell_type": "code",
     "collapsed": false,
     "input": [
      "del ind_array"
     ],
     "language": "python",
     "metadata": {},
     "outputs": [],
     "prompt_number": 38
    },
    {
     "cell_type": "code",
     "collapsed": false,
     "input": [
      "search_df"
     ],
     "language": "python",
     "metadata": {},
     "outputs": [
      {
       "html": [
        "<div style=\"max-height:1000px;max-width:1500px;overflow:auto;\">\n",
        "<table border=\"1\" class=\"dataframe\">\n",
        "  <thead>\n",
        "    <tr style=\"text-align: right;\">\n",
        "      <th></th>\n",
        "      <th>iter</th>\n",
        "      <th>tect_xx</th>\n",
        "      <th>tect_yy</th>\n",
        "      <th>tect_xy</th>\n",
        "      <th>pt_index</th>\n",
        "      <th>lat</th>\n",
        "      <th>lon</th>\n",
        "      <th>depth</th>\n",
        "      <th>strike</th>\n",
        "      <th>dip</th>\n",
        "      <th>slip_m</th>\n",
        "      <th>slip_rake</th>\n",
        "      <th>tau_rake</th>\n",
        "      <th>tau_mag</th>\n",
        "      <th>sig_nn</th>\n",
        "      <th>misfit</th>\n",
        "      <th>weighted_misfit</th>\n",
        "    </tr>\n",
        "  </thead>\n",
        "  <tbody>\n",
        "    <tr>\n",
        "      <th>0 </th>\n",
        "      <td> 0</td>\n",
        "      <td> 0</td>\n",
        "      <td> 0</td>\n",
        "      <td>-50</td>\n",
        "      <td>  0</td>\n",
        "      <td>NaN</td>\n",
        "      <td>NaN</td>\n",
        "      <td>NaN</td>\n",
        "      <td>NaN</td>\n",
        "      <td>NaN</td>\n",
        "      <td>NaN</td>\n",
        "      <td>NaN</td>\n",
        "      <td>NaN</td>\n",
        "      <td>NaN</td>\n",
        "      <td>NaN</td>\n",
        "      <td>NaN</td>\n",
        "      <td>NaN</td>\n",
        "    </tr>\n",
        "    <tr>\n",
        "      <th>1 </th>\n",
        "      <td> 0</td>\n",
        "      <td> 0</td>\n",
        "      <td> 0</td>\n",
        "      <td>-50</td>\n",
        "      <td>  1</td>\n",
        "      <td>NaN</td>\n",
        "      <td>NaN</td>\n",
        "      <td>NaN</td>\n",
        "      <td>NaN</td>\n",
        "      <td>NaN</td>\n",
        "      <td>NaN</td>\n",
        "      <td>NaN</td>\n",
        "      <td>NaN</td>\n",
        "      <td>NaN</td>\n",
        "      <td>NaN</td>\n",
        "      <td>NaN</td>\n",
        "      <td>NaN</td>\n",
        "    </tr>\n",
        "    <tr>\n",
        "      <th>2 </th>\n",
        "      <td> 0</td>\n",
        "      <td> 0</td>\n",
        "      <td> 0</td>\n",
        "      <td>-50</td>\n",
        "      <td>  2</td>\n",
        "      <td>NaN</td>\n",
        "      <td>NaN</td>\n",
        "      <td>NaN</td>\n",
        "      <td>NaN</td>\n",
        "      <td>NaN</td>\n",
        "      <td>NaN</td>\n",
        "      <td>NaN</td>\n",
        "      <td>NaN</td>\n",
        "      <td>NaN</td>\n",
        "      <td>NaN</td>\n",
        "      <td>NaN</td>\n",
        "      <td>NaN</td>\n",
        "    </tr>\n",
        "    <tr>\n",
        "      <th>3 </th>\n",
        "      <td> 0</td>\n",
        "      <td> 0</td>\n",
        "      <td> 0</td>\n",
        "      <td>-50</td>\n",
        "      <td>  3</td>\n",
        "      <td>NaN</td>\n",
        "      <td>NaN</td>\n",
        "      <td>NaN</td>\n",
        "      <td>NaN</td>\n",
        "      <td>NaN</td>\n",
        "      <td>NaN</td>\n",
        "      <td>NaN</td>\n",
        "      <td>NaN</td>\n",
        "      <td>NaN</td>\n",
        "      <td>NaN</td>\n",
        "      <td>NaN</td>\n",
        "      <td>NaN</td>\n",
        "    </tr>\n",
        "    <tr>\n",
        "      <th>4 </th>\n",
        "      <td> 0</td>\n",
        "      <td> 0</td>\n",
        "      <td> 0</td>\n",
        "      <td>-50</td>\n",
        "      <td>  4</td>\n",
        "      <td>NaN</td>\n",
        "      <td>NaN</td>\n",
        "      <td>NaN</td>\n",
        "      <td>NaN</td>\n",
        "      <td>NaN</td>\n",
        "      <td>NaN</td>\n",
        "      <td>NaN</td>\n",
        "      <td>NaN</td>\n",
        "      <td>NaN</td>\n",
        "      <td>NaN</td>\n",
        "      <td>NaN</td>\n",
        "      <td>NaN</td>\n",
        "    </tr>\n",
        "    <tr>\n",
        "      <th>5 </th>\n",
        "      <td> 0</td>\n",
        "      <td> 0</td>\n",
        "      <td> 0</td>\n",
        "      <td>-50</td>\n",
        "      <td>  5</td>\n",
        "      <td>NaN</td>\n",
        "      <td>NaN</td>\n",
        "      <td>NaN</td>\n",
        "      <td>NaN</td>\n",
        "      <td>NaN</td>\n",
        "      <td>NaN</td>\n",
        "      <td>NaN</td>\n",
        "      <td>NaN</td>\n",
        "      <td>NaN</td>\n",
        "      <td>NaN</td>\n",
        "      <td>NaN</td>\n",
        "      <td>NaN</td>\n",
        "    </tr>\n",
        "    <tr>\n",
        "      <th>6 </th>\n",
        "      <td> 0</td>\n",
        "      <td> 0</td>\n",
        "      <td> 0</td>\n",
        "      <td>-50</td>\n",
        "      <td>  6</td>\n",
        "      <td>NaN</td>\n",
        "      <td>NaN</td>\n",
        "      <td>NaN</td>\n",
        "      <td>NaN</td>\n",
        "      <td>NaN</td>\n",
        "      <td>NaN</td>\n",
        "      <td>NaN</td>\n",
        "      <td>NaN</td>\n",
        "      <td>NaN</td>\n",
        "      <td>NaN</td>\n",
        "      <td>NaN</td>\n",
        "      <td>NaN</td>\n",
        "    </tr>\n",
        "    <tr>\n",
        "      <th>7 </th>\n",
        "      <td> 0</td>\n",
        "      <td> 0</td>\n",
        "      <td> 0</td>\n",
        "      <td>-50</td>\n",
        "      <td>  7</td>\n",
        "      <td>NaN</td>\n",
        "      <td>NaN</td>\n",
        "      <td>NaN</td>\n",
        "      <td>NaN</td>\n",
        "      <td>NaN</td>\n",
        "      <td>NaN</td>\n",
        "      <td>NaN</td>\n",
        "      <td>NaN</td>\n",
        "      <td>NaN</td>\n",
        "      <td>NaN</td>\n",
        "      <td>NaN</td>\n",
        "      <td>NaN</td>\n",
        "    </tr>\n",
        "    <tr>\n",
        "      <th>8 </th>\n",
        "      <td> 0</td>\n",
        "      <td> 0</td>\n",
        "      <td> 0</td>\n",
        "      <td>-50</td>\n",
        "      <td>  8</td>\n",
        "      <td>NaN</td>\n",
        "      <td>NaN</td>\n",
        "      <td>NaN</td>\n",
        "      <td>NaN</td>\n",
        "      <td>NaN</td>\n",
        "      <td>NaN</td>\n",
        "      <td>NaN</td>\n",
        "      <td>NaN</td>\n",
        "      <td>NaN</td>\n",
        "      <td>NaN</td>\n",
        "      <td>NaN</td>\n",
        "      <td>NaN</td>\n",
        "    </tr>\n",
        "    <tr>\n",
        "      <th>9 </th>\n",
        "      <td> 0</td>\n",
        "      <td> 0</td>\n",
        "      <td> 0</td>\n",
        "      <td>-50</td>\n",
        "      <td>  9</td>\n",
        "      <td>NaN</td>\n",
        "      <td>NaN</td>\n",
        "      <td>NaN</td>\n",
        "      <td>NaN</td>\n",
        "      <td>NaN</td>\n",
        "      <td>NaN</td>\n",
        "      <td>NaN</td>\n",
        "      <td>NaN</td>\n",
        "      <td>NaN</td>\n",
        "      <td>NaN</td>\n",
        "      <td>NaN</td>\n",
        "      <td>NaN</td>\n",
        "    </tr>\n",
        "    <tr>\n",
        "      <th>10</th>\n",
        "      <td> 0</td>\n",
        "      <td> 0</td>\n",
        "      <td> 0</td>\n",
        "      <td>-50</td>\n",
        "      <td> 10</td>\n",
        "      <td>NaN</td>\n",
        "      <td>NaN</td>\n",
        "      <td>NaN</td>\n",
        "      <td>NaN</td>\n",
        "      <td>NaN</td>\n",
        "      <td>NaN</td>\n",
        "      <td>NaN</td>\n",
        "      <td>NaN</td>\n",
        "      <td>NaN</td>\n",
        "      <td>NaN</td>\n",
        "      <td>NaN</td>\n",
        "      <td>NaN</td>\n",
        "    </tr>\n",
        "    <tr>\n",
        "      <th>11</th>\n",
        "      <td> 0</td>\n",
        "      <td> 0</td>\n",
        "      <td> 0</td>\n",
        "      <td>-50</td>\n",
        "      <td> 11</td>\n",
        "      <td>NaN</td>\n",
        "      <td>NaN</td>\n",
        "      <td>NaN</td>\n",
        "      <td>NaN</td>\n",
        "      <td>NaN</td>\n",
        "      <td>NaN</td>\n",
        "      <td>NaN</td>\n",
        "      <td>NaN</td>\n",
        "      <td>NaN</td>\n",
        "      <td>NaN</td>\n",
        "      <td>NaN</td>\n",
        "      <td>NaN</td>\n",
        "    </tr>\n",
        "    <tr>\n",
        "      <th>12</th>\n",
        "      <td> 0</td>\n",
        "      <td> 0</td>\n",
        "      <td> 0</td>\n",
        "      <td>-50</td>\n",
        "      <td> 12</td>\n",
        "      <td>NaN</td>\n",
        "      <td>NaN</td>\n",
        "      <td>NaN</td>\n",
        "      <td>NaN</td>\n",
        "      <td>NaN</td>\n",
        "      <td>NaN</td>\n",
        "      <td>NaN</td>\n",
        "      <td>NaN</td>\n",
        "      <td>NaN</td>\n",
        "      <td>NaN</td>\n",
        "      <td>NaN</td>\n",
        "      <td>NaN</td>\n",
        "    </tr>\n",
        "    <tr>\n",
        "      <th>13</th>\n",
        "      <td> 0</td>\n",
        "      <td> 0</td>\n",
        "      <td> 0</td>\n",
        "      <td>-50</td>\n",
        "      <td> 13</td>\n",
        "      <td>NaN</td>\n",
        "      <td>NaN</td>\n",
        "      <td>NaN</td>\n",
        "      <td>NaN</td>\n",
        "      <td>NaN</td>\n",
        "      <td>NaN</td>\n",
        "      <td>NaN</td>\n",
        "      <td>NaN</td>\n",
        "      <td>NaN</td>\n",
        "      <td>NaN</td>\n",
        "      <td>NaN</td>\n",
        "      <td>NaN</td>\n",
        "    </tr>\n",
        "    <tr>\n",
        "      <th>14</th>\n",
        "      <td> 0</td>\n",
        "      <td> 0</td>\n",
        "      <td> 0</td>\n",
        "      <td>-50</td>\n",
        "      <td> 14</td>\n",
        "      <td>NaN</td>\n",
        "      <td>NaN</td>\n",
        "      <td>NaN</td>\n",
        "      <td>NaN</td>\n",
        "      <td>NaN</td>\n",
        "      <td>NaN</td>\n",
        "      <td>NaN</td>\n",
        "      <td>NaN</td>\n",
        "      <td>NaN</td>\n",
        "      <td>NaN</td>\n",
        "      <td>NaN</td>\n",
        "      <td>NaN</td>\n",
        "    </tr>\n",
        "    <tr>\n",
        "      <th>15</th>\n",
        "      <td> 0</td>\n",
        "      <td> 0</td>\n",
        "      <td> 0</td>\n",
        "      <td>-50</td>\n",
        "      <td> 15</td>\n",
        "      <td>NaN</td>\n",
        "      <td>NaN</td>\n",
        "      <td>NaN</td>\n",
        "      <td>NaN</td>\n",
        "      <td>NaN</td>\n",
        "      <td>NaN</td>\n",
        "      <td>NaN</td>\n",
        "      <td>NaN</td>\n",
        "      <td>NaN</td>\n",
        "      <td>NaN</td>\n",
        "      <td>NaN</td>\n",
        "      <td>NaN</td>\n",
        "    </tr>\n",
        "    <tr>\n",
        "      <th>16</th>\n",
        "      <td> 0</td>\n",
        "      <td> 0</td>\n",
        "      <td> 0</td>\n",
        "      <td>-50</td>\n",
        "      <td> 16</td>\n",
        "      <td>NaN</td>\n",
        "      <td>NaN</td>\n",
        "      <td>NaN</td>\n",
        "      <td>NaN</td>\n",
        "      <td>NaN</td>\n",
        "      <td>NaN</td>\n",
        "      <td>NaN</td>\n",
        "      <td>NaN</td>\n",
        "      <td>NaN</td>\n",
        "      <td>NaN</td>\n",
        "      <td>NaN</td>\n",
        "      <td>NaN</td>\n",
        "    </tr>\n",
        "    <tr>\n",
        "      <th>17</th>\n",
        "      <td> 0</td>\n",
        "      <td> 0</td>\n",
        "      <td> 0</td>\n",
        "      <td>-50</td>\n",
        "      <td> 17</td>\n",
        "      <td>NaN</td>\n",
        "      <td>NaN</td>\n",
        "      <td>NaN</td>\n",
        "      <td>NaN</td>\n",
        "      <td>NaN</td>\n",
        "      <td>NaN</td>\n",
        "      <td>NaN</td>\n",
        "      <td>NaN</td>\n",
        "      <td>NaN</td>\n",
        "      <td>NaN</td>\n",
        "      <td>NaN</td>\n",
        "      <td>NaN</td>\n",
        "    </tr>\n",
        "    <tr>\n",
        "      <th>18</th>\n",
        "      <td> 0</td>\n",
        "      <td> 0</td>\n",
        "      <td> 0</td>\n",
        "      <td>-50</td>\n",
        "      <td> 18</td>\n",
        "      <td>NaN</td>\n",
        "      <td>NaN</td>\n",
        "      <td>NaN</td>\n",
        "      <td>NaN</td>\n",
        "      <td>NaN</td>\n",
        "      <td>NaN</td>\n",
        "      <td>NaN</td>\n",
        "      <td>NaN</td>\n",
        "      <td>NaN</td>\n",
        "      <td>NaN</td>\n",
        "      <td>NaN</td>\n",
        "      <td>NaN</td>\n",
        "    </tr>\n",
        "    <tr>\n",
        "      <th>19</th>\n",
        "      <td> 0</td>\n",
        "      <td> 0</td>\n",
        "      <td> 0</td>\n",
        "      <td>-50</td>\n",
        "      <td> 19</td>\n",
        "      <td>NaN</td>\n",
        "      <td>NaN</td>\n",
        "      <td>NaN</td>\n",
        "      <td>NaN</td>\n",
        "      <td>NaN</td>\n",
        "      <td>NaN</td>\n",
        "      <td>NaN</td>\n",
        "      <td>NaN</td>\n",
        "      <td>NaN</td>\n",
        "      <td>NaN</td>\n",
        "      <td>NaN</td>\n",
        "      <td>NaN</td>\n",
        "    </tr>\n",
        "    <tr>\n",
        "      <th>20</th>\n",
        "      <td> 0</td>\n",
        "      <td> 0</td>\n",
        "      <td> 0</td>\n",
        "      <td>-50</td>\n",
        "      <td> 20</td>\n",
        "      <td>NaN</td>\n",
        "      <td>NaN</td>\n",
        "      <td>NaN</td>\n",
        "      <td>NaN</td>\n",
        "      <td>NaN</td>\n",
        "      <td>NaN</td>\n",
        "      <td>NaN</td>\n",
        "      <td>NaN</td>\n",
        "      <td>NaN</td>\n",
        "      <td>NaN</td>\n",
        "      <td>NaN</td>\n",
        "      <td>NaN</td>\n",
        "    </tr>\n",
        "    <tr>\n",
        "      <th>21</th>\n",
        "      <td> 0</td>\n",
        "      <td> 0</td>\n",
        "      <td> 0</td>\n",
        "      <td>-50</td>\n",
        "      <td> 21</td>\n",
        "      <td>NaN</td>\n",
        "      <td>NaN</td>\n",
        "      <td>NaN</td>\n",
        "      <td>NaN</td>\n",
        "      <td>NaN</td>\n",
        "      <td>NaN</td>\n",
        "      <td>NaN</td>\n",
        "      <td>NaN</td>\n",
        "      <td>NaN</td>\n",
        "      <td>NaN</td>\n",
        "      <td>NaN</td>\n",
        "      <td>NaN</td>\n",
        "    </tr>\n",
        "    <tr>\n",
        "      <th>22</th>\n",
        "      <td> 0</td>\n",
        "      <td> 0</td>\n",
        "      <td> 0</td>\n",
        "      <td>-50</td>\n",
        "      <td> 22</td>\n",
        "      <td>NaN</td>\n",
        "      <td>NaN</td>\n",
        "      <td>NaN</td>\n",
        "      <td>NaN</td>\n",
        "      <td>NaN</td>\n",
        "      <td>NaN</td>\n",
        "      <td>NaN</td>\n",
        "      <td>NaN</td>\n",
        "      <td>NaN</td>\n",
        "      <td>NaN</td>\n",
        "      <td>NaN</td>\n",
        "      <td>NaN</td>\n",
        "    </tr>\n",
        "    <tr>\n",
        "      <th>23</th>\n",
        "      <td> 0</td>\n",
        "      <td> 0</td>\n",
        "      <td> 0</td>\n",
        "      <td>-50</td>\n",
        "      <td> 23</td>\n",
        "      <td>NaN</td>\n",
        "      <td>NaN</td>\n",
        "      <td>NaN</td>\n",
        "      <td>NaN</td>\n",
        "      <td>NaN</td>\n",
        "      <td>NaN</td>\n",
        "      <td>NaN</td>\n",
        "      <td>NaN</td>\n",
        "      <td>NaN</td>\n",
        "      <td>NaN</td>\n",
        "      <td>NaN</td>\n",
        "      <td>NaN</td>\n",
        "    </tr>\n",
        "    <tr>\n",
        "      <th>24</th>\n",
        "      <td> 0</td>\n",
        "      <td> 0</td>\n",
        "      <td> 0</td>\n",
        "      <td>-50</td>\n",
        "      <td> 24</td>\n",
        "      <td>NaN</td>\n",
        "      <td>NaN</td>\n",
        "      <td>NaN</td>\n",
        "      <td>NaN</td>\n",
        "      <td>NaN</td>\n",
        "      <td>NaN</td>\n",
        "      <td>NaN</td>\n",
        "      <td>NaN</td>\n",
        "      <td>NaN</td>\n",
        "      <td>NaN</td>\n",
        "      <td>NaN</td>\n",
        "      <td>NaN</td>\n",
        "    </tr>\n",
        "    <tr>\n",
        "      <th>25</th>\n",
        "      <td> 0</td>\n",
        "      <td> 0</td>\n",
        "      <td> 0</td>\n",
        "      <td>-50</td>\n",
        "      <td> 25</td>\n",
        "      <td>NaN</td>\n",
        "      <td>NaN</td>\n",
        "      <td>NaN</td>\n",
        "      <td>NaN</td>\n",
        "      <td>NaN</td>\n",
        "      <td>NaN</td>\n",
        "      <td>NaN</td>\n",
        "      <td>NaN</td>\n",
        "      <td>NaN</td>\n",
        "      <td>NaN</td>\n",
        "      <td>NaN</td>\n",
        "      <td>NaN</td>\n",
        "    </tr>\n",
        "    <tr>\n",
        "      <th>26</th>\n",
        "      <td> 0</td>\n",
        "      <td> 0</td>\n",
        "      <td> 0</td>\n",
        "      <td>-50</td>\n",
        "      <td> 26</td>\n",
        "      <td>NaN</td>\n",
        "      <td>NaN</td>\n",
        "      <td>NaN</td>\n",
        "      <td>NaN</td>\n",
        "      <td>NaN</td>\n",
        "      <td>NaN</td>\n",
        "      <td>NaN</td>\n",
        "      <td>NaN</td>\n",
        "      <td>NaN</td>\n",
        "      <td>NaN</td>\n",
        "      <td>NaN</td>\n",
        "      <td>NaN</td>\n",
        "    </tr>\n",
        "    <tr>\n",
        "      <th>27</th>\n",
        "      <td> 0</td>\n",
        "      <td> 0</td>\n",
        "      <td> 0</td>\n",
        "      <td>-50</td>\n",
        "      <td> 27</td>\n",
        "      <td>NaN</td>\n",
        "      <td>NaN</td>\n",
        "      <td>NaN</td>\n",
        "      <td>NaN</td>\n",
        "      <td>NaN</td>\n",
        "      <td>NaN</td>\n",
        "      <td>NaN</td>\n",
        "      <td>NaN</td>\n",
        "      <td>NaN</td>\n",
        "      <td>NaN</td>\n",
        "      <td>NaN</td>\n",
        "      <td>NaN</td>\n",
        "    </tr>\n",
        "    <tr>\n",
        "      <th>28</th>\n",
        "      <td> 0</td>\n",
        "      <td> 0</td>\n",
        "      <td> 0</td>\n",
        "      <td>-50</td>\n",
        "      <td> 28</td>\n",
        "      <td>NaN</td>\n",
        "      <td>NaN</td>\n",
        "      <td>NaN</td>\n",
        "      <td>NaN</td>\n",
        "      <td>NaN</td>\n",
        "      <td>NaN</td>\n",
        "      <td>NaN</td>\n",
        "      <td>NaN</td>\n",
        "      <td>NaN</td>\n",
        "      <td>NaN</td>\n",
        "      <td>NaN</td>\n",
        "      <td>NaN</td>\n",
        "    </tr>\n",
        "    <tr>\n",
        "      <th>29</th>\n",
        "      <td> 0</td>\n",
        "      <td> 0</td>\n",
        "      <td> 0</td>\n",
        "      <td>-50</td>\n",
        "      <td> 29</td>\n",
        "      <td>NaN</td>\n",
        "      <td>NaN</td>\n",
        "      <td>NaN</td>\n",
        "      <td>NaN</td>\n",
        "      <td>NaN</td>\n",
        "      <td>NaN</td>\n",
        "      <td>NaN</td>\n",
        "      <td>NaN</td>\n",
        "      <td>NaN</td>\n",
        "      <td>NaN</td>\n",
        "      <td>NaN</td>\n",
        "      <td>NaN</td>\n",
        "    </tr>\n",
        "    <tr>\n",
        "      <th>30</th>\n",
        "      <td> 0</td>\n",
        "      <td> 0</td>\n",
        "      <td> 0</td>\n",
        "      <td>-50</td>\n",
        "      <td> 30</td>\n",
        "      <td>NaN</td>\n",
        "      <td>NaN</td>\n",
        "      <td>NaN</td>\n",
        "      <td>NaN</td>\n",
        "      <td>NaN</td>\n",
        "      <td>NaN</td>\n",
        "      <td>NaN</td>\n",
        "      <td>NaN</td>\n",
        "      <td>NaN</td>\n",
        "      <td>NaN</td>\n",
        "      <td>NaN</td>\n",
        "      <td>NaN</td>\n",
        "    </tr>\n",
        "    <tr>\n",
        "      <th>31</th>\n",
        "      <td> 0</td>\n",
        "      <td> 0</td>\n",
        "      <td> 0</td>\n",
        "      <td>-50</td>\n",
        "      <td> 31</td>\n",
        "      <td>NaN</td>\n",
        "      <td>NaN</td>\n",
        "      <td>NaN</td>\n",
        "      <td>NaN</td>\n",
        "      <td>NaN</td>\n",
        "      <td>NaN</td>\n",
        "      <td>NaN</td>\n",
        "      <td>NaN</td>\n",
        "      <td>NaN</td>\n",
        "      <td>NaN</td>\n",
        "      <td>NaN</td>\n",
        "      <td>NaN</td>\n",
        "    </tr>\n",
        "    <tr>\n",
        "      <th>32</th>\n",
        "      <td> 0</td>\n",
        "      <td> 0</td>\n",
        "      <td> 0</td>\n",
        "      <td>-50</td>\n",
        "      <td> 32</td>\n",
        "      <td>NaN</td>\n",
        "      <td>NaN</td>\n",
        "      <td>NaN</td>\n",
        "      <td>NaN</td>\n",
        "      <td>NaN</td>\n",
        "      <td>NaN</td>\n",
        "      <td>NaN</td>\n",
        "      <td>NaN</td>\n",
        "      <td>NaN</td>\n",
        "      <td>NaN</td>\n",
        "      <td>NaN</td>\n",
        "      <td>NaN</td>\n",
        "    </tr>\n",
        "    <tr>\n",
        "      <th>33</th>\n",
        "      <td> 0</td>\n",
        "      <td> 0</td>\n",
        "      <td> 0</td>\n",
        "      <td>-50</td>\n",
        "      <td> 33</td>\n",
        "      <td>NaN</td>\n",
        "      <td>NaN</td>\n",
        "      <td>NaN</td>\n",
        "      <td>NaN</td>\n",
        "      <td>NaN</td>\n",
        "      <td>NaN</td>\n",
        "      <td>NaN</td>\n",
        "      <td>NaN</td>\n",
        "      <td>NaN</td>\n",
        "      <td>NaN</td>\n",
        "      <td>NaN</td>\n",
        "      <td>NaN</td>\n",
        "    </tr>\n",
        "    <tr>\n",
        "      <th>34</th>\n",
        "      <td> 0</td>\n",
        "      <td> 0</td>\n",
        "      <td> 0</td>\n",
        "      <td>-50</td>\n",
        "      <td> 34</td>\n",
        "      <td>NaN</td>\n",
        "      <td>NaN</td>\n",
        "      <td>NaN</td>\n",
        "      <td>NaN</td>\n",
        "      <td>NaN</td>\n",
        "      <td>NaN</td>\n",
        "      <td>NaN</td>\n",
        "      <td>NaN</td>\n",
        "      <td>NaN</td>\n",
        "      <td>NaN</td>\n",
        "      <td>NaN</td>\n",
        "      <td>NaN</td>\n",
        "    </tr>\n",
        "    <tr>\n",
        "      <th>35</th>\n",
        "      <td> 0</td>\n",
        "      <td> 0</td>\n",
        "      <td> 0</td>\n",
        "      <td>-50</td>\n",
        "      <td> 35</td>\n",
        "      <td>NaN</td>\n",
        "      <td>NaN</td>\n",
        "      <td>NaN</td>\n",
        "      <td>NaN</td>\n",
        "      <td>NaN</td>\n",
        "      <td>NaN</td>\n",
        "      <td>NaN</td>\n",
        "      <td>NaN</td>\n",
        "      <td>NaN</td>\n",
        "      <td>NaN</td>\n",
        "      <td>NaN</td>\n",
        "      <td>NaN</td>\n",
        "    </tr>\n",
        "    <tr>\n",
        "      <th>36</th>\n",
        "      <td> 0</td>\n",
        "      <td> 0</td>\n",
        "      <td> 0</td>\n",
        "      <td>-50</td>\n",
        "      <td> 36</td>\n",
        "      <td>NaN</td>\n",
        "      <td>NaN</td>\n",
        "      <td>NaN</td>\n",
        "      <td>NaN</td>\n",
        "      <td>NaN</td>\n",
        "      <td>NaN</td>\n",
        "      <td>NaN</td>\n",
        "      <td>NaN</td>\n",
        "      <td>NaN</td>\n",
        "      <td>NaN</td>\n",
        "      <td>NaN</td>\n",
        "      <td>NaN</td>\n",
        "    </tr>\n",
        "    <tr>\n",
        "      <th>37</th>\n",
        "      <td> 0</td>\n",
        "      <td> 0</td>\n",
        "      <td> 0</td>\n",
        "      <td>-50</td>\n",
        "      <td> 37</td>\n",
        "      <td>NaN</td>\n",
        "      <td>NaN</td>\n",
        "      <td>NaN</td>\n",
        "      <td>NaN</td>\n",
        "      <td>NaN</td>\n",
        "      <td>NaN</td>\n",
        "      <td>NaN</td>\n",
        "      <td>NaN</td>\n",
        "      <td>NaN</td>\n",
        "      <td>NaN</td>\n",
        "      <td>NaN</td>\n",
        "      <td>NaN</td>\n",
        "    </tr>\n",
        "    <tr>\n",
        "      <th>38</th>\n",
        "      <td> 0</td>\n",
        "      <td> 0</td>\n",
        "      <td> 0</td>\n",
        "      <td>-50</td>\n",
        "      <td> 38</td>\n",
        "      <td>NaN</td>\n",
        "      <td>NaN</td>\n",
        "      <td>NaN</td>\n",
        "      <td>NaN</td>\n",
        "      <td>NaN</td>\n",
        "      <td>NaN</td>\n",
        "      <td>NaN</td>\n",
        "      <td>NaN</td>\n",
        "      <td>NaN</td>\n",
        "      <td>NaN</td>\n",
        "      <td>NaN</td>\n",
        "      <td>NaN</td>\n",
        "    </tr>\n",
        "    <tr>\n",
        "      <th>39</th>\n",
        "      <td> 0</td>\n",
        "      <td> 0</td>\n",
        "      <td> 0</td>\n",
        "      <td>-50</td>\n",
        "      <td> 39</td>\n",
        "      <td>NaN</td>\n",
        "      <td>NaN</td>\n",
        "      <td>NaN</td>\n",
        "      <td>NaN</td>\n",
        "      <td>NaN</td>\n",
        "      <td>NaN</td>\n",
        "      <td>NaN</td>\n",
        "      <td>NaN</td>\n",
        "      <td>NaN</td>\n",
        "      <td>NaN</td>\n",
        "      <td>NaN</td>\n",
        "      <td>NaN</td>\n",
        "    </tr>\n",
        "    <tr>\n",
        "      <th>40</th>\n",
        "      <td> 0</td>\n",
        "      <td> 0</td>\n",
        "      <td> 0</td>\n",
        "      <td>-50</td>\n",
        "      <td> 40</td>\n",
        "      <td>NaN</td>\n",
        "      <td>NaN</td>\n",
        "      <td>NaN</td>\n",
        "      <td>NaN</td>\n",
        "      <td>NaN</td>\n",
        "      <td>NaN</td>\n",
        "      <td>NaN</td>\n",
        "      <td>NaN</td>\n",
        "      <td>NaN</td>\n",
        "      <td>NaN</td>\n",
        "      <td>NaN</td>\n",
        "      <td>NaN</td>\n",
        "    </tr>\n",
        "    <tr>\n",
        "      <th>41</th>\n",
        "      <td> 0</td>\n",
        "      <td> 0</td>\n",
        "      <td> 0</td>\n",
        "      <td>-50</td>\n",
        "      <td> 41</td>\n",
        "      <td>NaN</td>\n",
        "      <td>NaN</td>\n",
        "      <td>NaN</td>\n",
        "      <td>NaN</td>\n",
        "      <td>NaN</td>\n",
        "      <td>NaN</td>\n",
        "      <td>NaN</td>\n",
        "      <td>NaN</td>\n",
        "      <td>NaN</td>\n",
        "      <td>NaN</td>\n",
        "      <td>NaN</td>\n",
        "      <td>NaN</td>\n",
        "    </tr>\n",
        "    <tr>\n",
        "      <th>42</th>\n",
        "      <td> 0</td>\n",
        "      <td> 0</td>\n",
        "      <td> 0</td>\n",
        "      <td>-50</td>\n",
        "      <td> 42</td>\n",
        "      <td>NaN</td>\n",
        "      <td>NaN</td>\n",
        "      <td>NaN</td>\n",
        "      <td>NaN</td>\n",
        "      <td>NaN</td>\n",
        "      <td>NaN</td>\n",
        "      <td>NaN</td>\n",
        "      <td>NaN</td>\n",
        "      <td>NaN</td>\n",
        "      <td>NaN</td>\n",
        "      <td>NaN</td>\n",
        "      <td>NaN</td>\n",
        "    </tr>\n",
        "    <tr>\n",
        "      <th>43</th>\n",
        "      <td> 0</td>\n",
        "      <td> 0</td>\n",
        "      <td> 0</td>\n",
        "      <td>-50</td>\n",
        "      <td> 43</td>\n",
        "      <td>NaN</td>\n",
        "      <td>NaN</td>\n",
        "      <td>NaN</td>\n",
        "      <td>NaN</td>\n",
        "      <td>NaN</td>\n",
        "      <td>NaN</td>\n",
        "      <td>NaN</td>\n",
        "      <td>NaN</td>\n",
        "      <td>NaN</td>\n",
        "      <td>NaN</td>\n",
        "      <td>NaN</td>\n",
        "      <td>NaN</td>\n",
        "    </tr>\n",
        "    <tr>\n",
        "      <th>44</th>\n",
        "      <td> 0</td>\n",
        "      <td> 0</td>\n",
        "      <td> 0</td>\n",
        "      <td>-50</td>\n",
        "      <td> 44</td>\n",
        "      <td>NaN</td>\n",
        "      <td>NaN</td>\n",
        "      <td>NaN</td>\n",
        "      <td>NaN</td>\n",
        "      <td>NaN</td>\n",
        "      <td>NaN</td>\n",
        "      <td>NaN</td>\n",
        "      <td>NaN</td>\n",
        "      <td>NaN</td>\n",
        "      <td>NaN</td>\n",
        "      <td>NaN</td>\n",
        "      <td>NaN</td>\n",
        "    </tr>\n",
        "    <tr>\n",
        "      <th>45</th>\n",
        "      <td> 0</td>\n",
        "      <td> 0</td>\n",
        "      <td> 0</td>\n",
        "      <td>-50</td>\n",
        "      <td> 45</td>\n",
        "      <td>NaN</td>\n",
        "      <td>NaN</td>\n",
        "      <td>NaN</td>\n",
        "      <td>NaN</td>\n",
        "      <td>NaN</td>\n",
        "      <td>NaN</td>\n",
        "      <td>NaN</td>\n",
        "      <td>NaN</td>\n",
        "      <td>NaN</td>\n",
        "      <td>NaN</td>\n",
        "      <td>NaN</td>\n",
        "      <td>NaN</td>\n",
        "    </tr>\n",
        "    <tr>\n",
        "      <th>46</th>\n",
        "      <td> 0</td>\n",
        "      <td> 0</td>\n",
        "      <td> 0</td>\n",
        "      <td>-50</td>\n",
        "      <td> 46</td>\n",
        "      <td>NaN</td>\n",
        "      <td>NaN</td>\n",
        "      <td>NaN</td>\n",
        "      <td>NaN</td>\n",
        "      <td>NaN</td>\n",
        "      <td>NaN</td>\n",
        "      <td>NaN</td>\n",
        "      <td>NaN</td>\n",
        "      <td>NaN</td>\n",
        "      <td>NaN</td>\n",
        "      <td>NaN</td>\n",
        "      <td>NaN</td>\n",
        "    </tr>\n",
        "    <tr>\n",
        "      <th>47</th>\n",
        "      <td> 0</td>\n",
        "      <td> 0</td>\n",
        "      <td> 0</td>\n",
        "      <td>-50</td>\n",
        "      <td> 47</td>\n",
        "      <td>NaN</td>\n",
        "      <td>NaN</td>\n",
        "      <td>NaN</td>\n",
        "      <td>NaN</td>\n",
        "      <td>NaN</td>\n",
        "      <td>NaN</td>\n",
        "      <td>NaN</td>\n",
        "      <td>NaN</td>\n",
        "      <td>NaN</td>\n",
        "      <td>NaN</td>\n",
        "      <td>NaN</td>\n",
        "      <td>NaN</td>\n",
        "    </tr>\n",
        "    <tr>\n",
        "      <th>48</th>\n",
        "      <td> 0</td>\n",
        "      <td> 0</td>\n",
        "      <td> 0</td>\n",
        "      <td>-50</td>\n",
        "      <td> 48</td>\n",
        "      <td>NaN</td>\n",
        "      <td>NaN</td>\n",
        "      <td>NaN</td>\n",
        "      <td>NaN</td>\n",
        "      <td>NaN</td>\n",
        "      <td>NaN</td>\n",
        "      <td>NaN</td>\n",
        "      <td>NaN</td>\n",
        "      <td>NaN</td>\n",
        "      <td>NaN</td>\n",
        "      <td>NaN</td>\n",
        "      <td>NaN</td>\n",
        "    </tr>\n",
        "    <tr>\n",
        "      <th>49</th>\n",
        "      <td> 0</td>\n",
        "      <td> 0</td>\n",
        "      <td> 0</td>\n",
        "      <td>-50</td>\n",
        "      <td> 49</td>\n",
        "      <td>NaN</td>\n",
        "      <td>NaN</td>\n",
        "      <td>NaN</td>\n",
        "      <td>NaN</td>\n",
        "      <td>NaN</td>\n",
        "      <td>NaN</td>\n",
        "      <td>NaN</td>\n",
        "      <td>NaN</td>\n",
        "      <td>NaN</td>\n",
        "      <td>NaN</td>\n",
        "      <td>NaN</td>\n",
        "      <td>NaN</td>\n",
        "    </tr>\n",
        "    <tr>\n",
        "      <th>50</th>\n",
        "      <td> 0</td>\n",
        "      <td> 0</td>\n",
        "      <td> 0</td>\n",
        "      <td>-50</td>\n",
        "      <td> 50</td>\n",
        "      <td>NaN</td>\n",
        "      <td>NaN</td>\n",
        "      <td>NaN</td>\n",
        "      <td>NaN</td>\n",
        "      <td>NaN</td>\n",
        "      <td>NaN</td>\n",
        "      <td>NaN</td>\n",
        "      <td>NaN</td>\n",
        "      <td>NaN</td>\n",
        "      <td>NaN</td>\n",
        "      <td>NaN</td>\n",
        "      <td>NaN</td>\n",
        "    </tr>\n",
        "    <tr>\n",
        "      <th>51</th>\n",
        "      <td> 0</td>\n",
        "      <td> 0</td>\n",
        "      <td> 0</td>\n",
        "      <td>-50</td>\n",
        "      <td> 51</td>\n",
        "      <td>NaN</td>\n",
        "      <td>NaN</td>\n",
        "      <td>NaN</td>\n",
        "      <td>NaN</td>\n",
        "      <td>NaN</td>\n",
        "      <td>NaN</td>\n",
        "      <td>NaN</td>\n",
        "      <td>NaN</td>\n",
        "      <td>NaN</td>\n",
        "      <td>NaN</td>\n",
        "      <td>NaN</td>\n",
        "      <td>NaN</td>\n",
        "    </tr>\n",
        "    <tr>\n",
        "      <th>52</th>\n",
        "      <td> 0</td>\n",
        "      <td> 0</td>\n",
        "      <td> 0</td>\n",
        "      <td>-50</td>\n",
        "      <td> 52</td>\n",
        "      <td>NaN</td>\n",
        "      <td>NaN</td>\n",
        "      <td>NaN</td>\n",
        "      <td>NaN</td>\n",
        "      <td>NaN</td>\n",
        "      <td>NaN</td>\n",
        "      <td>NaN</td>\n",
        "      <td>NaN</td>\n",
        "      <td>NaN</td>\n",
        "      <td>NaN</td>\n",
        "      <td>NaN</td>\n",
        "      <td>NaN</td>\n",
        "    </tr>\n",
        "    <tr>\n",
        "      <th>53</th>\n",
        "      <td> 0</td>\n",
        "      <td> 0</td>\n",
        "      <td> 0</td>\n",
        "      <td>-50</td>\n",
        "      <td> 53</td>\n",
        "      <td>NaN</td>\n",
        "      <td>NaN</td>\n",
        "      <td>NaN</td>\n",
        "      <td>NaN</td>\n",
        "      <td>NaN</td>\n",
        "      <td>NaN</td>\n",
        "      <td>NaN</td>\n",
        "      <td>NaN</td>\n",
        "      <td>NaN</td>\n",
        "      <td>NaN</td>\n",
        "      <td>NaN</td>\n",
        "      <td>NaN</td>\n",
        "    </tr>\n",
        "    <tr>\n",
        "      <th>54</th>\n",
        "      <td> 0</td>\n",
        "      <td> 0</td>\n",
        "      <td> 0</td>\n",
        "      <td>-50</td>\n",
        "      <td> 54</td>\n",
        "      <td>NaN</td>\n",
        "      <td>NaN</td>\n",
        "      <td>NaN</td>\n",
        "      <td>NaN</td>\n",
        "      <td>NaN</td>\n",
        "      <td>NaN</td>\n",
        "      <td>NaN</td>\n",
        "      <td>NaN</td>\n",
        "      <td>NaN</td>\n",
        "      <td>NaN</td>\n",
        "      <td>NaN</td>\n",
        "      <td>NaN</td>\n",
        "    </tr>\n",
        "    <tr>\n",
        "      <th>55</th>\n",
        "      <td> 0</td>\n",
        "      <td> 0</td>\n",
        "      <td> 0</td>\n",
        "      <td>-50</td>\n",
        "      <td> 55</td>\n",
        "      <td>NaN</td>\n",
        "      <td>NaN</td>\n",
        "      <td>NaN</td>\n",
        "      <td>NaN</td>\n",
        "      <td>NaN</td>\n",
        "      <td>NaN</td>\n",
        "      <td>NaN</td>\n",
        "      <td>NaN</td>\n",
        "      <td>NaN</td>\n",
        "      <td>NaN</td>\n",
        "      <td>NaN</td>\n",
        "      <td>NaN</td>\n",
        "    </tr>\n",
        "    <tr>\n",
        "      <th>56</th>\n",
        "      <td> 0</td>\n",
        "      <td> 0</td>\n",
        "      <td> 0</td>\n",
        "      <td>-50</td>\n",
        "      <td> 56</td>\n",
        "      <td>NaN</td>\n",
        "      <td>NaN</td>\n",
        "      <td>NaN</td>\n",
        "      <td>NaN</td>\n",
        "      <td>NaN</td>\n",
        "      <td>NaN</td>\n",
        "      <td>NaN</td>\n",
        "      <td>NaN</td>\n",
        "      <td>NaN</td>\n",
        "      <td>NaN</td>\n",
        "      <td>NaN</td>\n",
        "      <td>NaN</td>\n",
        "    </tr>\n",
        "    <tr>\n",
        "      <th>57</th>\n",
        "      <td> 0</td>\n",
        "      <td> 0</td>\n",
        "      <td> 0</td>\n",
        "      <td>-50</td>\n",
        "      <td> 57</td>\n",
        "      <td>NaN</td>\n",
        "      <td>NaN</td>\n",
        "      <td>NaN</td>\n",
        "      <td>NaN</td>\n",
        "      <td>NaN</td>\n",
        "      <td>NaN</td>\n",
        "      <td>NaN</td>\n",
        "      <td>NaN</td>\n",
        "      <td>NaN</td>\n",
        "      <td>NaN</td>\n",
        "      <td>NaN</td>\n",
        "      <td>NaN</td>\n",
        "    </tr>\n",
        "    <tr>\n",
        "      <th>58</th>\n",
        "      <td> 0</td>\n",
        "      <td> 0</td>\n",
        "      <td> 0</td>\n",
        "      <td>-50</td>\n",
        "      <td> 58</td>\n",
        "      <td>NaN</td>\n",
        "      <td>NaN</td>\n",
        "      <td>NaN</td>\n",
        "      <td>NaN</td>\n",
        "      <td>NaN</td>\n",
        "      <td>NaN</td>\n",
        "      <td>NaN</td>\n",
        "      <td>NaN</td>\n",
        "      <td>NaN</td>\n",
        "      <td>NaN</td>\n",
        "      <td>NaN</td>\n",
        "      <td>NaN</td>\n",
        "    </tr>\n",
        "    <tr>\n",
        "      <th>59</th>\n",
        "      <td> 0</td>\n",
        "      <td> 0</td>\n",
        "      <td> 0</td>\n",
        "      <td>-50</td>\n",
        "      <td> 59</td>\n",
        "      <td>NaN</td>\n",
        "      <td>NaN</td>\n",
        "      <td>NaN</td>\n",
        "      <td>NaN</td>\n",
        "      <td>NaN</td>\n",
        "      <td>NaN</td>\n",
        "      <td>NaN</td>\n",
        "      <td>NaN</td>\n",
        "      <td>NaN</td>\n",
        "      <td>NaN</td>\n",
        "      <td>NaN</td>\n",
        "      <td>NaN</td>\n",
        "    </tr>\n",
        "    <tr>\n",
        "      <th></th>\n",
        "      <td>...</td>\n",
        "      <td>...</td>\n",
        "      <td>...</td>\n",
        "      <td>...</td>\n",
        "      <td>...</td>\n",
        "      <td>...</td>\n",
        "      <td>...</td>\n",
        "      <td>...</td>\n",
        "      <td>...</td>\n",
        "      <td>...</td>\n",
        "      <td>...</td>\n",
        "      <td>...</td>\n",
        "      <td>...</td>\n",
        "      <td>...</td>\n",
        "      <td>...</td>\n",
        "      <td>...</td>\n",
        "      <td>...</td>\n",
        "    </tr>\n",
        "  </tbody>\n",
        "</table>\n",
        "<p>3405402 rows \u00d7 17 columns</p>\n",
        "</div>"
       ],
       "metadata": {},
       "output_type": "pyout",
       "prompt_number": 42,
       "text": [
        "    iter  tect_xx  tect_yy  tect_xy  pt_index  lat  lon  depth  strike  dip  \\\n",
        "0      0        0        0      -50         0  NaN  NaN    NaN     NaN  NaN   \n",
        "1      0        0        0      -50         1  NaN  NaN    NaN     NaN  NaN   \n",
        "2      0        0        0      -50         2  NaN  NaN    NaN     NaN  NaN   \n",
        "3      0        0        0      -50         3  NaN  NaN    NaN     NaN  NaN   \n",
        "4      0        0        0      -50         4  NaN  NaN    NaN     NaN  NaN   \n",
        "5      0        0        0      -50         5  NaN  NaN    NaN     NaN  NaN   \n",
        "6      0        0        0      -50         6  NaN  NaN    NaN     NaN  NaN   \n",
        "7      0        0        0      -50         7  NaN  NaN    NaN     NaN  NaN   \n",
        "8      0        0        0      -50         8  NaN  NaN    NaN     NaN  NaN   \n",
        "9      0        0        0      -50         9  NaN  NaN    NaN     NaN  NaN   \n",
        "10     0        0        0      -50        10  NaN  NaN    NaN     NaN  NaN   \n",
        "11     0        0        0      -50        11  NaN  NaN    NaN     NaN  NaN   \n",
        "12     0        0        0      -50        12  NaN  NaN    NaN     NaN  NaN   \n",
        "13     0        0        0      -50        13  NaN  NaN    NaN     NaN  NaN   \n",
        "14     0        0        0      -50        14  NaN  NaN    NaN     NaN  NaN   \n",
        "15     0        0        0      -50        15  NaN  NaN    NaN     NaN  NaN   \n",
        "16     0        0        0      -50        16  NaN  NaN    NaN     NaN  NaN   \n",
        "17     0        0        0      -50        17  NaN  NaN    NaN     NaN  NaN   \n",
        "18     0        0        0      -50        18  NaN  NaN    NaN     NaN  NaN   \n",
        "19     0        0        0      -50        19  NaN  NaN    NaN     NaN  NaN   \n",
        "20     0        0        0      -50        20  NaN  NaN    NaN     NaN  NaN   \n",
        "21     0        0        0      -50        21  NaN  NaN    NaN     NaN  NaN   \n",
        "22     0        0        0      -50        22  NaN  NaN    NaN     NaN  NaN   \n",
        "23     0        0        0      -50        23  NaN  NaN    NaN     NaN  NaN   \n",
        "24     0        0        0      -50        24  NaN  NaN    NaN     NaN  NaN   \n",
        "25     0        0        0      -50        25  NaN  NaN    NaN     NaN  NaN   \n",
        "26     0        0        0      -50        26  NaN  NaN    NaN     NaN  NaN   \n",
        "27     0        0        0      -50        27  NaN  NaN    NaN     NaN  NaN   \n",
        "28     0        0        0      -50        28  NaN  NaN    NaN     NaN  NaN   \n",
        "29     0        0        0      -50        29  NaN  NaN    NaN     NaN  NaN   \n",
        "30     0        0        0      -50        30  NaN  NaN    NaN     NaN  NaN   \n",
        "31     0        0        0      -50        31  NaN  NaN    NaN     NaN  NaN   \n",
        "32     0        0        0      -50        32  NaN  NaN    NaN     NaN  NaN   \n",
        "33     0        0        0      -50        33  NaN  NaN    NaN     NaN  NaN   \n",
        "34     0        0        0      -50        34  NaN  NaN    NaN     NaN  NaN   \n",
        "35     0        0        0      -50        35  NaN  NaN    NaN     NaN  NaN   \n",
        "36     0        0        0      -50        36  NaN  NaN    NaN     NaN  NaN   \n",
        "37     0        0        0      -50        37  NaN  NaN    NaN     NaN  NaN   \n",
        "38     0        0        0      -50        38  NaN  NaN    NaN     NaN  NaN   \n",
        "39     0        0        0      -50        39  NaN  NaN    NaN     NaN  NaN   \n",
        "40     0        0        0      -50        40  NaN  NaN    NaN     NaN  NaN   \n",
        "41     0        0        0      -50        41  NaN  NaN    NaN     NaN  NaN   \n",
        "42     0        0        0      -50        42  NaN  NaN    NaN     NaN  NaN   \n",
        "43     0        0        0      -50        43  NaN  NaN    NaN     NaN  NaN   \n",
        "44     0        0        0      -50        44  NaN  NaN    NaN     NaN  NaN   \n",
        "45     0        0        0      -50        45  NaN  NaN    NaN     NaN  NaN   \n",
        "46     0        0        0      -50        46  NaN  NaN    NaN     NaN  NaN   \n",
        "47     0        0        0      -50        47  NaN  NaN    NaN     NaN  NaN   \n",
        "48     0        0        0      -50        48  NaN  NaN    NaN     NaN  NaN   \n",
        "49     0        0        0      -50        49  NaN  NaN    NaN     NaN  NaN   \n",
        "50     0        0        0      -50        50  NaN  NaN    NaN     NaN  NaN   \n",
        "51     0        0        0      -50        51  NaN  NaN    NaN     NaN  NaN   \n",
        "52     0        0        0      -50        52  NaN  NaN    NaN     NaN  NaN   \n",
        "53     0        0        0      -50        53  NaN  NaN    NaN     NaN  NaN   \n",
        "54     0        0        0      -50        54  NaN  NaN    NaN     NaN  NaN   \n",
        "55     0        0        0      -50        55  NaN  NaN    NaN     NaN  NaN   \n",
        "56     0        0        0      -50        56  NaN  NaN    NaN     NaN  NaN   \n",
        "57     0        0        0      -50        57  NaN  NaN    NaN     NaN  NaN   \n",
        "58     0        0        0      -50        58  NaN  NaN    NaN     NaN  NaN   \n",
        "59     0        0        0      -50        59  NaN  NaN    NaN     NaN  NaN   \n",
        "     ...      ...      ...      ...       ...  ...  ...    ...     ...  ...   \n",
        "\n",
        "    slip_m  slip_rake  tau_rake  tau_mag  sig_nn  misfit  weighted_misfit  \n",
        "0      NaN        NaN       NaN      NaN     NaN     NaN              NaN  \n",
        "1      NaN        NaN       NaN      NaN     NaN     NaN              NaN  \n",
        "2      NaN        NaN       NaN      NaN     NaN     NaN              NaN  \n",
        "3      NaN        NaN       NaN      NaN     NaN     NaN              NaN  \n",
        "4      NaN        NaN       NaN      NaN     NaN     NaN              NaN  \n",
        "5      NaN        NaN       NaN      NaN     NaN     NaN              NaN  \n",
        "6      NaN        NaN       NaN      NaN     NaN     NaN              NaN  \n",
        "7      NaN        NaN       NaN      NaN     NaN     NaN              NaN  \n",
        "8      NaN        NaN       NaN      NaN     NaN     NaN              NaN  \n",
        "9      NaN        NaN       NaN      NaN     NaN     NaN              NaN  \n",
        "10     NaN        NaN       NaN      NaN     NaN     NaN              NaN  \n",
        "11     NaN        NaN       NaN      NaN     NaN     NaN              NaN  \n",
        "12     NaN        NaN       NaN      NaN     NaN     NaN              NaN  \n",
        "13     NaN        NaN       NaN      NaN     NaN     NaN              NaN  \n",
        "14     NaN        NaN       NaN      NaN     NaN     NaN              NaN  \n",
        "15     NaN        NaN       NaN      NaN     NaN     NaN              NaN  \n",
        "16     NaN        NaN       NaN      NaN     NaN     NaN              NaN  \n",
        "17     NaN        NaN       NaN      NaN     NaN     NaN              NaN  \n",
        "18     NaN        NaN       NaN      NaN     NaN     NaN              NaN  \n",
        "19     NaN        NaN       NaN      NaN     NaN     NaN              NaN  \n",
        "20     NaN        NaN       NaN      NaN     NaN     NaN              NaN  \n",
        "21     NaN        NaN       NaN      NaN     NaN     NaN              NaN  \n",
        "22     NaN        NaN       NaN      NaN     NaN     NaN              NaN  \n",
        "23     NaN        NaN       NaN      NaN     NaN     NaN              NaN  \n",
        "24     NaN        NaN       NaN      NaN     NaN     NaN              NaN  \n",
        "25     NaN        NaN       NaN      NaN     NaN     NaN              NaN  \n",
        "26     NaN        NaN       NaN      NaN     NaN     NaN              NaN  \n",
        "27     NaN        NaN       NaN      NaN     NaN     NaN              NaN  \n",
        "28     NaN        NaN       NaN      NaN     NaN     NaN              NaN  \n",
        "29     NaN        NaN       NaN      NaN     NaN     NaN              NaN  \n",
        "30     NaN        NaN       NaN      NaN     NaN     NaN              NaN  \n",
        "31     NaN        NaN       NaN      NaN     NaN     NaN              NaN  \n",
        "32     NaN        NaN       NaN      NaN     NaN     NaN              NaN  \n",
        "33     NaN        NaN       NaN      NaN     NaN     NaN              NaN  \n",
        "34     NaN        NaN       NaN      NaN     NaN     NaN              NaN  \n",
        "35     NaN        NaN       NaN      NaN     NaN     NaN              NaN  \n",
        "36     NaN        NaN       NaN      NaN     NaN     NaN              NaN  \n",
        "37     NaN        NaN       NaN      NaN     NaN     NaN              NaN  \n",
        "38     NaN        NaN       NaN      NaN     NaN     NaN              NaN  \n",
        "39     NaN        NaN       NaN      NaN     NaN     NaN              NaN  \n",
        "40     NaN        NaN       NaN      NaN     NaN     NaN              NaN  \n",
        "41     NaN        NaN       NaN      NaN     NaN     NaN              NaN  \n",
        "42     NaN        NaN       NaN      NaN     NaN     NaN              NaN  \n",
        "43     NaN        NaN       NaN      NaN     NaN     NaN              NaN  \n",
        "44     NaN        NaN       NaN      NaN     NaN     NaN              NaN  \n",
        "45     NaN        NaN       NaN      NaN     NaN     NaN              NaN  \n",
        "46     NaN        NaN       NaN      NaN     NaN     NaN              NaN  \n",
        "47     NaN        NaN       NaN      NaN     NaN     NaN              NaN  \n",
        "48     NaN        NaN       NaN      NaN     NaN     NaN              NaN  \n",
        "49     NaN        NaN       NaN      NaN     NaN     NaN              NaN  \n",
        "50     NaN        NaN       NaN      NaN     NaN     NaN              NaN  \n",
        "51     NaN        NaN       NaN      NaN     NaN     NaN              NaN  \n",
        "52     NaN        NaN       NaN      NaN     NaN     NaN              NaN  \n",
        "53     NaN        NaN       NaN      NaN     NaN     NaN              NaN  \n",
        "54     NaN        NaN       NaN      NaN     NaN     NaN              NaN  \n",
        "55     NaN        NaN       NaN      NaN     NaN     NaN              NaN  \n",
        "56     NaN        NaN       NaN      NaN     NaN     NaN              NaN  \n",
        "57     NaN        NaN       NaN      NaN     NaN     NaN              NaN  \n",
        "58     NaN        NaN       NaN      NaN     NaN     NaN              NaN  \n",
        "59     NaN        NaN       NaN      NaN     NaN     NaN              NaN  \n",
        "       ...        ...       ...      ...     ...     ...              ...  \n",
        "\n",
        "[3405402 rows x 17 columns]"
       ]
      }
     ],
     "prompt_number": 42
    },
    {
     "cell_type": "code",
     "collapsed": false,
     "input": [
      "fill_cols = ['lat', 'lon', 'depth', 'strike', 'dip', 'slip_m', 'slip_rake']"
     ],
     "language": "python",
     "metadata": {},
     "outputs": [],
     "prompt_number": 39
    },
    {
     "cell_type": "code",
     "collapsed": false,
     "input": [
      "def fill_row_vals(row):\n",
      "    pt = row['pt_index']\n",
      "\n",
      "    data = df[['lat_deg', 'lon_deg', 'depth_km', 'strike_deg',\n",
      "               'dip_deg', 'slp_am_m', 'rake_deg']].iloc[pt]\n",
      "    \n",
      "    s = pd.Series( data = data.values,\n",
      "                   index = ['lat', 'lon', 'depth', 'strike', 'dip',\n",
      "                            'slip_m', 'slip_rake'] )\n",
      "    \n",
      "    return s"
     ],
     "language": "python",
     "metadata": {},
     "outputs": [],
     "prompt_number": 40
    },
    {
     "cell_type": "code",
     "collapsed": false,
     "input": [
      "row_chunk=3e4\n",
      "chunk_min=0\n",
      "chunk_max = row_chunk\n",
      "n_iters = int(len(search_iter_index) / row_chunk) + 1"
     ],
     "language": "python",
     "metadata": {},
     "outputs": [],
     "prompt_number": 41
    },
    {
     "cell_type": "code",
     "collapsed": false,
     "input": [
      "search_df.head()"
     ],
     "language": "python",
     "metadata": {},
     "outputs": [
      {
       "html": [
        "<div style=\"max-height:1000px;max-width:1500px;overflow:auto;\">\n",
        "<table border=\"1\" class=\"dataframe\">\n",
        "  <thead>\n",
        "    <tr style=\"text-align: right;\">\n",
        "      <th></th>\n",
        "      <th>iter</th>\n",
        "      <th>tect_xx</th>\n",
        "      <th>tect_yy</th>\n",
        "      <th>tect_xy</th>\n",
        "      <th>pt_index</th>\n",
        "      <th>lat</th>\n",
        "      <th>lon</th>\n",
        "      <th>depth</th>\n",
        "      <th>strike</th>\n",
        "      <th>dip</th>\n",
        "      <th>slip_m</th>\n",
        "      <th>slip_rake</th>\n",
        "      <th>tau_rake</th>\n",
        "      <th>tau_mag</th>\n",
        "      <th>sig_nn</th>\n",
        "      <th>misfit</th>\n",
        "      <th>weighted_misfit</th>\n",
        "    </tr>\n",
        "  </thead>\n",
        "  <tbody>\n",
        "    <tr>\n",
        "      <th>0</th>\n",
        "      <td> 0</td>\n",
        "      <td> 0</td>\n",
        "      <td> 0</td>\n",
        "      <td>-50</td>\n",
        "      <td> 0</td>\n",
        "      <td>NaN</td>\n",
        "      <td>NaN</td>\n",
        "      <td>NaN</td>\n",
        "      <td>NaN</td>\n",
        "      <td>NaN</td>\n",
        "      <td>NaN</td>\n",
        "      <td>NaN</td>\n",
        "      <td>NaN</td>\n",
        "      <td>NaN</td>\n",
        "      <td>NaN</td>\n",
        "      <td>NaN</td>\n",
        "      <td>NaN</td>\n",
        "    </tr>\n",
        "    <tr>\n",
        "      <th>1</th>\n",
        "      <td> 0</td>\n",
        "      <td> 0</td>\n",
        "      <td> 0</td>\n",
        "      <td>-50</td>\n",
        "      <td> 1</td>\n",
        "      <td>NaN</td>\n",
        "      <td>NaN</td>\n",
        "      <td>NaN</td>\n",
        "      <td>NaN</td>\n",
        "      <td>NaN</td>\n",
        "      <td>NaN</td>\n",
        "      <td>NaN</td>\n",
        "      <td>NaN</td>\n",
        "      <td>NaN</td>\n",
        "      <td>NaN</td>\n",
        "      <td>NaN</td>\n",
        "      <td>NaN</td>\n",
        "    </tr>\n",
        "    <tr>\n",
        "      <th>2</th>\n",
        "      <td> 0</td>\n",
        "      <td> 0</td>\n",
        "      <td> 0</td>\n",
        "      <td>-50</td>\n",
        "      <td> 2</td>\n",
        "      <td>NaN</td>\n",
        "      <td>NaN</td>\n",
        "      <td>NaN</td>\n",
        "      <td>NaN</td>\n",
        "      <td>NaN</td>\n",
        "      <td>NaN</td>\n",
        "      <td>NaN</td>\n",
        "      <td>NaN</td>\n",
        "      <td>NaN</td>\n",
        "      <td>NaN</td>\n",
        "      <td>NaN</td>\n",
        "      <td>NaN</td>\n",
        "    </tr>\n",
        "    <tr>\n",
        "      <th>3</th>\n",
        "      <td> 0</td>\n",
        "      <td> 0</td>\n",
        "      <td> 0</td>\n",
        "      <td>-50</td>\n",
        "      <td> 3</td>\n",
        "      <td>NaN</td>\n",
        "      <td>NaN</td>\n",
        "      <td>NaN</td>\n",
        "      <td>NaN</td>\n",
        "      <td>NaN</td>\n",
        "      <td>NaN</td>\n",
        "      <td>NaN</td>\n",
        "      <td>NaN</td>\n",
        "      <td>NaN</td>\n",
        "      <td>NaN</td>\n",
        "      <td>NaN</td>\n",
        "      <td>NaN</td>\n",
        "    </tr>\n",
        "    <tr>\n",
        "      <th>4</th>\n",
        "      <td> 0</td>\n",
        "      <td> 0</td>\n",
        "      <td> 0</td>\n",
        "      <td>-50</td>\n",
        "      <td> 4</td>\n",
        "      <td>NaN</td>\n",
        "      <td>NaN</td>\n",
        "      <td>NaN</td>\n",
        "      <td>NaN</td>\n",
        "      <td>NaN</td>\n",
        "      <td>NaN</td>\n",
        "      <td>NaN</td>\n",
        "      <td>NaN</td>\n",
        "      <td>NaN</td>\n",
        "      <td>NaN</td>\n",
        "      <td>NaN</td>\n",
        "      <td>NaN</td>\n",
        "    </tr>\n",
        "  </tbody>\n",
        "</table>\n",
        "<p>5 rows \u00d7 17 columns</p>\n",
        "</div>"
       ],
       "metadata": {},
       "output_type": "pyout",
       "prompt_number": 51,
       "text": [
        "   iter  tect_xx  tect_yy  tect_xy  pt_index  lat  lon  depth  strike  dip  \\\n",
        "0     0        0        0      -50         0  NaN  NaN    NaN     NaN  NaN   \n",
        "1     0        0        0      -50         1  NaN  NaN    NaN     NaN  NaN   \n",
        "2     0        0        0      -50         2  NaN  NaN    NaN     NaN  NaN   \n",
        "3     0        0        0      -50         3  NaN  NaN    NaN     NaN  NaN   \n",
        "4     0        0        0      -50         4  NaN  NaN    NaN     NaN  NaN   \n",
        "\n",
        "   slip_m  slip_rake  tau_rake  tau_mag  sig_nn  misfit  weighted_misfit  \n",
        "0     NaN        NaN       NaN      NaN     NaN     NaN              NaN  \n",
        "1     NaN        NaN       NaN      NaN     NaN     NaN              NaN  \n",
        "2     NaN        NaN       NaN      NaN     NaN     NaN              NaN  \n",
        "3     NaN        NaN       NaN      NaN     NaN     NaN              NaN  \n",
        "4     NaN        NaN       NaN      NaN     NaN     NaN              NaN  \n",
        "\n",
        "[5 rows x 17 columns]"
       ]
      }
     ],
     "prompt_number": 51
    },
    {
     "cell_type": "code",
     "collapsed": false,
     "input": [
      "print 'filling rows'\n",
      "t0 = time.time()\n",
      "for ni in range(n_iters):\n",
      "    t_in = time.time()\n",
      "    \n",
      "    search_df.iloc[chunk_min:chunk_max][fill_cols] = (search_df.iloc[\n",
      "                                           chunk_min:chunk_max].apply(\n",
      "                                                 fill_row_vals, axis=1) )\n",
      "    t_out = time.time()\n",
      "    t_min = (t_out - t_in) / 60\n",
      "    print 'did rows', chunk_min, '-', chunk_max, 'in', t_min, 'm'\n",
      "    chunk_min += row_chunk\n",
      "    if (chunk_min + row_chunk <= len(search_iter_index) ):\n",
      "        chunk_max += row_chunk\n",
      "    else:\n",
      "        chunk_max = len(search_iter_index)\n",
      "\n",
      "t1 = time.time()\n",
      "print 'done with all rows in', (t1-t0)/60, 'm'"
     ],
     "language": "python",
     "metadata": {},
     "outputs": [
      {
       "output_type": "stream",
       "stream": "stdout",
       "text": [
        "filling rows\n",
        "did rows"
       ]
      },
      {
       "output_type": "stream",
       "stream": "stdout",
       "text": [
        " 0 - 30000.0 in 0.391138335069 m\n",
        "did rows"
       ]
      },
      {
       "output_type": "stream",
       "stream": "stdout",
       "text": [
        " 30000.0 - 60000.0 in 0.391624466578 m\n",
        "did rows"
       ]
      },
      {
       "output_type": "stream",
       "stream": "stdout",
       "text": [
        " 60000.0 - 90000.0 in 0.382484400272 m\n",
        "did rows"
       ]
      },
      {
       "output_type": "stream",
       "stream": "stdout",
       "text": [
        " 90000.0 - 120000.0 in 0.370968981584 m\n",
        "did rows"
       ]
      },
      {
       "output_type": "stream",
       "stream": "stdout",
       "text": [
        " 120000.0 - 150000.0 in 0.378771634897 m\n",
        "did rows"
       ]
      },
      {
       "output_type": "stream",
       "stream": "stdout",
       "text": [
        " 150000.0 - 180000.0 in 0.371848750114 m\n",
        "did rows"
       ]
      },
      {
       "output_type": "stream",
       "stream": "stdout",
       "text": [
        " 180000.0 - 210000.0 in 0.379812951883 m\n",
        "did rows"
       ]
      },
      {
       "output_type": "stream",
       "stream": "stdout",
       "text": [
        " 210000.0 - 240000.0 in 0.370933433374 m\n",
        "did rows"
       ]
      },
      {
       "output_type": "stream",
       "stream": "stdout",
       "text": [
        " 240000.0 - 270000.0 in 0.370858585835 m\n",
        "did rows"
       ]
      },
      {
       "output_type": "stream",
       "stream": "stdout",
       "text": [
        " 270000.0 - 300000.0 in 0.377726268768 m\n",
        "did rows"
       ]
      },
      {
       "output_type": "stream",
       "stream": "stdout",
       "text": [
        " 300000.0 - 330000.0 in 0.3715051651 m\n",
        "did rows"
       ]
      },
      {
       "output_type": "stream",
       "stream": "stdout",
       "text": [
        " 330000.0 - 360000.0 in 0.378170565764 m\n",
        "did rows"
       ]
      },
      {
       "output_type": "stream",
       "stream": "stdout",
       "text": [
        " 360000.0 - 390000.0 in 0.37175201575 m\n",
        "did rows"
       ]
      },
      {
       "output_type": "stream",
       "stream": "stdout",
       "text": [
        " 390000.0 - 420000.0 in 0.382962997754 m\n",
        "did rows"
       ]
      },
      {
       "output_type": "stream",
       "stream": "stdout",
       "text": [
        " 420000.0 - 450000.0 in 0.372329417864 m\n",
        "did rows"
       ]
      },
      {
       "output_type": "stream",
       "stream": "stdout",
       "text": [
        " 450000.0 - 480000.0 in 0.381080114841 m\n",
        "did rows"
       ]
      },
      {
       "output_type": "stream",
       "stream": "stdout",
       "text": [
        " 480000.0 - 510000.0 in 0.373304935296 m\n",
        "did rows"
       ]
      },
      {
       "output_type": "stream",
       "stream": "stdout",
       "text": [
        " 510000.0 - 540000.0 in 0.375435181459 m\n",
        "did rows"
       ]
      },
      {
       "output_type": "stream",
       "stream": "stdout",
       "text": [
        " 540000.0 - 570000.0 in 0.377403815587 m\n",
        "did rows"
       ]
      },
      {
       "output_type": "stream",
       "stream": "stdout",
       "text": [
        " 570000.0 - 600000.0 in 0.370878183842 m\n",
        "did rows"
       ]
      },
      {
       "output_type": "stream",
       "stream": "stdout",
       "text": [
        " 600000.0 - 630000.0 in 0.378041299184 m\n",
        "did rows"
       ]
      },
      {
       "output_type": "stream",
       "stream": "stdout",
       "text": [
        " 630000.0 - 660000.0 in 0.371481831868 m\n",
        "did rows"
       ]
      },
      {
       "output_type": "stream",
       "stream": "stdout",
       "text": [
        " 660000.0 - 690000.0 in 0.380523133278 m\n",
        "did rows"
       ]
      },
      {
       "output_type": "stream",
       "stream": "stdout",
       "text": [
        " 690000.0 - 720000.0 in 0.370904318492 m\n",
        "did rows"
       ]
      },
      {
       "output_type": "stream",
       "stream": "stdout",
       "text": [
        " 720000.0 - 750000.0 in 0.371687583129 m\n",
        "did rows"
       ]
      },
      {
       "output_type": "stream",
       "stream": "stdout",
       "text": [
        " 750000.0 - 780000.0 in 0.382139686743 m\n",
        "did rows"
       ]
      },
      {
       "output_type": "stream",
       "stream": "stdout",
       "text": [
        " 780000.0 - 810000.0 in 0.37173055013 m\n",
        "did rows"
       ]
      },
      {
       "output_type": "stream",
       "stream": "stdout",
       "text": [
        " 810000.0 - 840000.0 in 0.382304616769 m\n",
        "did rows"
       ]
      },
      {
       "output_type": "stream",
       "stream": "stdout",
       "text": [
        " 840000.0 - 870000.0 in 0.371132481098 m\n",
        "did rows"
       ]
      },
      {
       "output_type": "stream",
       "stream": "stdout",
       "text": [
        " 870000.0 - 900000.0 in 0.379363532861 m\n",
        "did rows"
       ]
      },
      {
       "output_type": "stream",
       "stream": "stdout",
       "text": [
        " 900000.0 - 930000.0 in 0.372247183323 m\n",
        "did rows"
       ]
      },
      {
       "output_type": "stream",
       "stream": "stdout",
       "text": [
        " 930000.0 - 960000.0 in 0.371855481466 m\n",
        "did rows"
       ]
      },
      {
       "output_type": "stream",
       "stream": "stdout",
       "text": [
        " 960000.0 - 990000.0 in 0.374353619417 m\n",
        "did rows"
       ]
      },
      {
       "output_type": "stream",
       "stream": "stdout",
       "text": [
        " 990000.0 - 1020000.0 in 0.369962068399 m\n",
        "did rows"
       ]
      },
      {
       "output_type": "stream",
       "stream": "stdout",
       "text": [
        " 1020000.0 - 1050000.0 in 0.377441032728 m\n",
        "did rows"
       ]
      },
      {
       "output_type": "stream",
       "stream": "stdout",
       "text": [
        " 1050000.0 - 1080000.0 in 0.371040399869 m\n",
        "did rows"
       ]
      },
      {
       "output_type": "stream",
       "stream": "stdout",
       "text": [
        " 1080000.0 - 1110000.0 in 0.378767402967 m\n",
        "did rows"
       ]
      },
      {
       "output_type": "stream",
       "stream": "stdout",
       "text": [
        " 1110000.0 - 1140000.0 in 0.370923864841 m\n",
        "did rows"
       ]
      },
      {
       "output_type": "stream",
       "stream": "stdout",
       "text": [
        " 1140000.0 - 1170000.0 in 0.379052396615 m\n",
        "did rows"
       ]
      },
      {
       "output_type": "stream",
       "stream": "stdout",
       "text": [
        " 1170000.0 - 1200000.0 in 0.370857767264 m\n",
        "did rows"
       ]
      },
      {
       "output_type": "stream",
       "stream": "stdout",
       "text": [
        " 1200000.0 - 1230000.0 in 0.37390541633 m\n",
        "did rows"
       ]
      },
      {
       "output_type": "stream",
       "stream": "stdout",
       "text": [
        " 1230000.0 - 1260000.0 in 0.375806482633 m\n",
        "did rows"
       ]
      },
      {
       "output_type": "stream",
       "stream": "stdout",
       "text": [
        " 1260000.0 - 1290000.0 in 525.424800301 m\n",
        "did rows"
       ]
      },
      {
       "output_type": "stream",
       "stream": "stdout",
       "text": [
        " 1290000.0 - 1320000.0 in 0.387970133622 m\n",
        "did rows"
       ]
      },
      {
       "output_type": "stream",
       "stream": "stdout",
       "text": [
        " 1320000.0 - 1350000.0 in 0.379207952817 m\n",
        "did rows"
       ]
      },
      {
       "output_type": "stream",
       "stream": "stdout",
       "text": [
        " 1350000.0 - 1380000.0 in 0.385080083211 m\n",
        "did rows"
       ]
      },
      {
       "output_type": "stream",
       "stream": "stdout",
       "text": [
        " 1380000.0 - 1410000.0 in 0.372956168652 m\n",
        "did rows"
       ]
      },
      {
       "output_type": "stream",
       "stream": "stdout",
       "text": [
        " 1410000.0 - 1440000.0 in 0.373577014605 m\n",
        "did rows"
       ]
      },
      {
       "output_type": "stream",
       "stream": "stdout",
       "text": [
        " 1440000.0 - 1470000.0 in 0.378834831715 m\n",
        "did rows"
       ]
      },
      {
       "output_type": "stream",
       "stream": "stdout",
       "text": [
        " 1470000.0 - 1500000.0 in 0.370502165953 m\n",
        "did rows"
       ]
      },
      {
       "output_type": "stream",
       "stream": "stdout",
       "text": [
        " 1500000.0 - 1530000.0 in 0.376562833786 m\n",
        "did rows"
       ]
      },
      {
       "output_type": "stream",
       "stream": "stdout",
       "text": [
        " 1530000.0 - 1560000.0 in 0.372322817643 m\n",
        "did rows"
       ]
      },
      {
       "output_type": "stream",
       "stream": "stdout",
       "text": [
        " 1560000.0 - 1590000.0 in 0.38078751564 m\n",
        "did rows"
       ]
      },
      {
       "output_type": "stream",
       "stream": "stdout",
       "text": [
        " 1590000.0 - 1620000.0 in 0.373414433002 m\n",
        "did rows"
       ]
      },
      {
       "output_type": "stream",
       "stream": "stdout",
       "text": [
        " 1620000.0 - 1650000.0 in 0.370582151413 m\n",
        "did rows"
       ]
      },
      {
       "output_type": "stream",
       "stream": "stdout",
       "text": [
        " 1650000.0 - 1680000.0 in 0.378418016434 m\n",
        "did rows"
       ]
      },
      {
       "output_type": "stream",
       "stream": "stdout",
       "text": [
        " 1680000.0 - 1710000.0 in 0.372194631894 m\n",
        "did rows"
       ]
      },
      {
       "output_type": "stream",
       "stream": "stdout",
       "text": [
        " 1710000.0 - 1740000.0 in 0.379427981377 m\n",
        "did rows"
       ]
      },
      {
       "output_type": "stream",
       "stream": "stdout",
       "text": [
        " 1740000.0 - 1770000.0 in 0.372420032819 m\n",
        "did rows"
       ]
      },
      {
       "output_type": "stream",
       "stream": "stdout",
       "text": [
        " 1770000.0 - 1800000.0 in 0.380418101947 m\n",
        "did rows"
       ]
      },
      {
       "output_type": "stream",
       "stream": "stdout",
       "text": [
        " 1800000.0 - 1830000.0 in 0.370907902718 m\n",
        "did rows"
       ]
      },
      {
       "output_type": "stream",
       "stream": "stdout",
       "text": [
        " 1830000.0 - 1860000.0 in 0.372539031506 m\n",
        "did rows"
       ]
      },
      {
       "output_type": "stream",
       "stream": "stdout",
       "text": [
        " 1860000.0 - 1890000.0 in 0.379618966579 m\n",
        "did rows"
       ]
      },
      {
       "output_type": "stream",
       "stream": "stdout",
       "text": [
        " 1890000.0 - 1920000.0 in 0.373386867841 m\n",
        "did rows"
       ]
      },
      {
       "output_type": "stream",
       "stream": "stdout",
       "text": [
        " 1920000.0 - 1950000.0 in 0.384746718407 m\n",
        "did rows"
       ]
      },
      {
       "output_type": "stream",
       "stream": "stdout",
       "text": [
        " 1950000.0 - 1980000.0 in 0.375315864881 m\n",
        "did rows"
       ]
      },
      {
       "output_type": "stream",
       "stream": "stdout",
       "text": [
        " 1980000.0 - 2010000.0 in 0.388273215294 m\n",
        "did rows"
       ]
      },
      {
       "output_type": "stream",
       "stream": "stdout",
       "text": [
        " 2010000.0 - 2040000.0 in 0.371192634106 m\n",
        "did rows"
       ]
      },
      {
       "output_type": "stream",
       "stream": "stdout",
       "text": [
        " 2040000.0 - 2070000.0 in 0.374425184727 m\n",
        "did rows"
       ]
      },
      {
       "output_type": "stream",
       "stream": "stdout",
       "text": [
        " 2070000.0 - 2100000.0 in 0.395623497168 m\n",
        "did rows"
       ]
      },
      {
       "output_type": "stream",
       "stream": "stdout",
       "text": [
        " 2100000.0 - 2130000.0 in 0.374088001251 m\n",
        "did rows"
       ]
      },
      {
       "output_type": "stream",
       "stream": "stdout",
       "text": [
        " 2130000.0 - 2160000.0 in 0.381527797381 m\n",
        "did rows"
       ]
      },
      {
       "output_type": "stream",
       "stream": "stdout",
       "text": [
        " 2160000.0 - 2190000.0 in 0.385527102153 m\n",
        "did rows"
       ]
      },
      {
       "output_type": "stream",
       "stream": "stdout",
       "text": [
        " 2190000.0 - 2220000.0 in 0.379051399231 m\n",
        "did rows"
       ]
      },
      {
       "output_type": "stream",
       "stream": "stdout",
       "text": [
        " 2220000.0 - 2250000.0 in 0.379498700301 m\n",
        "did rows"
       ]
      },
      {
       "output_type": "stream",
       "stream": "stdout",
       "text": [
        " 2250000.0 - 2280000.0 in 0.374569102128 m\n",
        "did rows"
       ]
      },
      {
       "output_type": "stream",
       "stream": "stdout",
       "text": [
        " 2280000.0 - 2310000.0 in 0.380281531811 m\n",
        "did rows"
       ]
      },
      {
       "output_type": "stream",
       "stream": "stdout",
       "text": [
        " 2310000.0 - 2340000.0 in 0.377092166742 m\n",
        "did rows"
       ]
      },
      {
       "output_type": "stream",
       "stream": "stdout",
       "text": [
        " 2340000.0 - 2370000.0 in 0.381263581912 m\n",
        "did rows"
       ]
      },
      {
       "output_type": "stream",
       "stream": "stdout",
       "text": [
        " 2370000.0 - 2400000.0 in 0.375252783298 m\n",
        "did rows"
       ]
      },
      {
       "output_type": "stream",
       "stream": "stdout",
       "text": [
        " 2400000.0 - 2430000.0 in 0.381795652707 m\n",
        "did rows"
       ]
      },
      {
       "output_type": "stream",
       "stream": "stdout",
       "text": [
        " 2430000.0 - 2460000.0 in 0.377907868226 m\n",
        "did rows"
       ]
      },
      {
       "output_type": "stream",
       "stream": "stdout",
       "text": [
        " 2460000.0 - 2490000.0 in 0.377544148763 m\n",
        "did rows"
       ]
      },
      {
       "output_type": "stream",
       "stream": "stdout",
       "text": [
        " 2490000.0 - 2520000.0 in 0.378821098804 m\n",
        "did rows"
       ]
      },
      {
       "output_type": "stream",
       "stream": "stdout",
       "text": [
        " 2520000.0 - 2550000.0 in 0.370282399654 m\n",
        "did rows"
       ]
      },
      {
       "output_type": "stream",
       "stream": "stdout",
       "text": [
        " 2550000.0 - 2580000.0 in 0.378447182973 m\n",
        "did rows"
       ]
      },
      {
       "output_type": "stream",
       "stream": "stdout",
       "text": [
        " 2580000.0 - 2610000.0 in 0.373453684648 m\n",
        "did rows"
       ]
      },
      {
       "output_type": "stream",
       "stream": "stdout",
       "text": [
        " 2610000.0 - 2640000.0 in 0.381248648961 m\n",
        "did rows"
       ]
      },
      {
       "output_type": "stream",
       "stream": "stdout",
       "text": [
        " 2640000.0 - 2670000.0 in 0.370890565713 m\n",
        "did rows"
       ]
      },
      {
       "output_type": "stream",
       "stream": "stdout",
       "text": [
        " 2670000.0 - 2700000.0 in 0.379402565956 m\n",
        "did rows"
       ]
      },
      {
       "output_type": "stream",
       "stream": "stdout",
       "text": [
        " 2700000.0 - 2730000.0 in 0.392428116004 m\n",
        "did rows"
       ]
      },
      {
       "output_type": "stream",
       "stream": "stdout",
       "text": [
        " 2730000.0 - 2760000.0 in 0.373881149292 m\n",
        "did rows"
       ]
      },
      {
       "output_type": "stream",
       "stream": "stdout",
       "text": [
        " 2760000.0 - 2790000.0 in 0.378491783142 m\n",
        "did rows"
       ]
      },
      {
       "output_type": "stream",
       "stream": "stdout",
       "text": [
        " 2790000.0 - 2820000.0 in 0.372161599 m\n",
        "did rows"
       ]
      },
      {
       "output_type": "stream",
       "stream": "stdout",
       "text": [
        " 2820000.0 - 2850000.0 in 0.37678750356 m\n",
        "did rows"
       ]
      },
      {
       "output_type": "stream",
       "stream": "stdout",
       "text": [
        " 2850000.0 - 2880000.0 in 0.37155576547 m\n",
        "did rows"
       ]
      },
      {
       "output_type": "stream",
       "stream": "stdout",
       "text": [
        " 2880000.0 - 2910000.0 in 0.382092980544 m\n",
        "did rows"
       ]
      },
      {
       "output_type": "stream",
       "stream": "stdout",
       "text": [
        " 2910000.0 - 2940000.0 in 0.372199817499 m\n",
        "did rows"
       ]
      },
      {
       "output_type": "stream",
       "stream": "stdout",
       "text": [
        " 2940000.0 - 2970000.0 in 0.372430817286 m\n",
        "did rows"
       ]
      },
      {
       "output_type": "stream",
       "stream": "stdout",
       "text": [
        " 2970000.0 - 3000000.0 in 0.375730931759 m\n",
        "did rows"
       ]
      },
      {
       "output_type": "stream",
       "stream": "stdout",
       "text": [
        " 3000000.0 - 3030000.0 in 0.37551668485 m\n",
        "did rows"
       ]
      },
      {
       "output_type": "stream",
       "stream": "stdout",
       "text": [
        " 3030000.0 - 3060000.0 in 0.381709980965 m\n",
        "did rows"
       ]
      },
      {
       "output_type": "stream",
       "stream": "stdout",
       "text": [
        " 3060000.0 - 3090000.0 in 0.37661263148 m\n",
        "did rows"
       ]
      },
      {
       "output_type": "stream",
       "stream": "stdout",
       "text": [
        " 3090000.0 - 3120000.0 in 0.382533383369 m\n",
        "did rows"
       ]
      },
      {
       "output_type": "stream",
       "stream": "stdout",
       "text": [
        " 3120000.0 - 3150000.0 in 0.373478285472 m\n",
        "did rows"
       ]
      },
      {
       "output_type": "stream",
       "stream": "stdout",
       "text": [
        " 3150000.0 - 3180000.0 in 0.375916997592 m\n",
        "did rows"
       ]
      },
      {
       "output_type": "stream",
       "stream": "stdout",
       "text": [
        " 3180000.0 - 3210000.0 in 0.37505698204 m\n",
        "did rows"
       ]
      },
      {
       "output_type": "stream",
       "stream": "stdout",
       "text": [
        " 3210000.0 - 3240000.0 in 0.374429364999 m\n",
        "did rows"
       ]
      },
      {
       "output_type": "stream",
       "stream": "stdout",
       "text": [
        " 3240000.0 - 3270000.0 in 0.387923498948 m\n",
        "did rows"
       ]
      },
      {
       "output_type": "stream",
       "stream": "stdout",
       "text": [
        " 3270000.0 - 3300000.0 in 0.374318333467 m\n",
        "did rows"
       ]
      },
      {
       "output_type": "stream",
       "stream": "stdout",
       "text": [
        " 3300000.0 - 3330000.0 in 0.385856135686 m\n",
        "did rows"
       ]
      },
      {
       "output_type": "stream",
       "stream": "stdout",
       "text": [
        " 3330000.0 - 3360000.0 in 0.373333350817 m\n",
        "did rows"
       ]
      },
      {
       "output_type": "stream",
       "stream": "stdout",
       "text": [
        " 3360000.0 - 3390000.0 in 0.381941048304 m\n",
        "did rows"
       ]
      },
      {
       "output_type": "stream",
       "stream": "stdout",
       "text": [
        " 3390000.0 - 3405402 in 0.19196741581 m\n",
        "done with all rows in 567.839264218 m\n"
       ]
      }
     ],
     "prompt_number": 42
    },
    {
     "cell_type": "code",
     "collapsed": false,
     "input": [
      "search_df.to_csv('tect_search_df.csv')"
     ],
     "language": "python",
     "metadata": {},
     "outputs": [],
     "prompt_number": 43
    },
    {
     "cell_type": "code",
     "collapsed": false,
     "input": [
      "search_df.head()"
     ],
     "language": "python",
     "metadata": {},
     "outputs": [
      {
       "html": [
        "<div style=\"max-height:1000px;max-width:1500px;overflow:auto;\">\n",
        "<table border=\"1\" class=\"dataframe\">\n",
        "  <thead>\n",
        "    <tr style=\"text-align: right;\">\n",
        "      <th></th>\n",
        "      <th>iter</th>\n",
        "      <th>tect_xx</th>\n",
        "      <th>tect_yy</th>\n",
        "      <th>tect_xy</th>\n",
        "      <th>pt_index</th>\n",
        "      <th>lat</th>\n",
        "      <th>lon</th>\n",
        "      <th>depth</th>\n",
        "      <th>strike</th>\n",
        "      <th>dip</th>\n",
        "      <th>slip_m</th>\n",
        "      <th>slip_rake</th>\n",
        "      <th>tau_rake</th>\n",
        "      <th>tau_mag</th>\n",
        "      <th>sig_nn</th>\n",
        "      <th>misfit</th>\n",
        "      <th>weighted_misfit</th>\n",
        "    </tr>\n",
        "  </thead>\n",
        "  <tbody>\n",
        "    <tr>\n",
        "      <th>0</th>\n",
        "      <td> 0</td>\n",
        "      <td> 0</td>\n",
        "      <td> 0</td>\n",
        "      <td>-50</td>\n",
        "      <td> 0</td>\n",
        "      <td> 32.6006</td>\n",
        "      <td> 105.3810</td>\n",
        "      <td>  1.9696</td>\n",
        "      <td> 230</td>\n",
        "      <td> 80</td>\n",
        "      <td> 1.2755</td>\n",
        "      <td> 81.559864</td>\n",
        "      <td>-11.052686</td>\n",
        "      <td> 68.671777</td>\n",
        "      <td> 9.333681</td>\n",
        "      <td> 92.612551</td>\n",
        "      <td>-14.097702</td>\n",
        "    </tr>\n",
        "    <tr>\n",
        "      <th>1</th>\n",
        "      <td> 0</td>\n",
        "      <td> 0</td>\n",
        "      <td> 0</td>\n",
        "      <td>-50</td>\n",
        "      <td> 1</td>\n",
        "      <td> 32.6054</td>\n",
        "      <td> 105.3762</td>\n",
        "      <td>  5.9088</td>\n",
        "      <td> 230</td>\n",
        "      <td> 80</td>\n",
        "      <td> 1.4528</td>\n",
        "      <td> 85.111573</td>\n",
        "      <td> -2.882989</td>\n",
        "      <td> 73.177403</td>\n",
        "      <td> 7.275605</td>\n",
        "      <td> 87.994562</td>\n",
        "      <td> -4.188406</td>\n",
        "    </tr>\n",
        "    <tr>\n",
        "      <th>2</th>\n",
        "      <td> 0</td>\n",
        "      <td> 0</td>\n",
        "      <td> 0</td>\n",
        "      <td>-50</td>\n",
        "      <td> 2</td>\n",
        "      <td> 32.6102</td>\n",
        "      <td> 105.3715</td>\n",
        "      <td>  9.8481</td>\n",
        "      <td> 230</td>\n",
        "      <td> 80</td>\n",
        "      <td> 1.4532</td>\n",
        "      <td> 88.284598</td>\n",
        "      <td> 10.689816</td>\n",
        "      <td> 74.670739</td>\n",
        "      <td> 5.984748</td>\n",
        "      <td> 77.594781</td>\n",
        "      <td> 15.534441</td>\n",
        "    </tr>\n",
        "    <tr>\n",
        "      <th>3</th>\n",
        "      <td> 0</td>\n",
        "      <td> 0</td>\n",
        "      <td> 0</td>\n",
        "      <td>-50</td>\n",
        "      <td> 3</td>\n",
        "      <td> 32.6150</td>\n",
        "      <td> 105.3667</td>\n",
        "      <td> 13.7873</td>\n",
        "      <td> 230</td>\n",
        "      <td> 80</td>\n",
        "      <td> 1.2829</td>\n",
        "      <td> 90.000000</td>\n",
        "      <td> 23.974039</td>\n",
        "      <td> 75.785028</td>\n",
        "      <td> 5.349010</td>\n",
        "      <td> 66.025961</td>\n",
        "      <td> 30.756295</td>\n",
        "    </tr>\n",
        "    <tr>\n",
        "      <th>4</th>\n",
        "      <td> 0</td>\n",
        "      <td> 0</td>\n",
        "      <td> 0</td>\n",
        "      <td>-50</td>\n",
        "      <td> 4</td>\n",
        "      <td> 32.6198</td>\n",
        "      <td> 105.3619</td>\n",
        "      <td> 17.7265</td>\n",
        "      <td> 230</td>\n",
        "      <td> 80</td>\n",
        "      <td> 1.0385</td>\n",
        "      <td> 90.000000</td>\n",
        "      <td> 36.200474</td>\n",
        "      <td> 76.770953</td>\n",
        "      <td> 5.012858</td>\n",
        "      <td> 53.799526</td>\n",
        "      <td> 37.594192</td>\n",
        "    </tr>\n",
        "  </tbody>\n",
        "</table>\n",
        "<p>5 rows \u00d7 17 columns</p>\n",
        "</div>"
       ],
       "metadata": {},
       "output_type": "pyout",
       "prompt_number": 44,
       "text": [
        "   iter  tect_xx  tect_yy  tect_xy  pt_index      lat       lon    depth  \\\n",
        "0     0        0        0      -50         0  32.6006  105.3810   1.9696   \n",
        "1     0        0        0      -50         1  32.6054  105.3762   5.9088   \n",
        "2     0        0        0      -50         2  32.6102  105.3715   9.8481   \n",
        "3     0        0        0      -50         3  32.6150  105.3667  13.7873   \n",
        "4     0        0        0      -50         4  32.6198  105.3619  17.7265   \n",
        "\n",
        "   strike  dip  slip_m  slip_rake   tau_rake    tau_mag    sig_nn     misfit  \\\n",
        "0     230   80  1.2755  81.559864 -11.052686  68.671777  9.333681  92.612551   \n",
        "1     230   80  1.4528  85.111573  -2.882989  73.177403  7.275605  87.994562   \n",
        "2     230   80  1.4532  88.284598  10.689816  74.670739  5.984748  77.594781   \n",
        "3     230   80  1.2829  90.000000  23.974039  75.785028  5.349010  66.025961   \n",
        "4     230   80  1.0385  90.000000  36.200474  76.770953  5.012858  53.799526   \n",
        "\n",
        "   weighted_misfit  \n",
        "0       -14.097702  \n",
        "1        -4.188406  \n",
        "2        15.534441  \n",
        "3        30.756295  \n",
        "4        37.594192  \n",
        "\n",
        "[5 rows x 17 columns]"
       ]
      }
     ],
     "prompt_number": 44
    },
    {
     "cell_type": "code",
     "collapsed": false,
     "input": [
      "# reset chunks\n",
      "row_chunk=1e4\n",
      "chunk_min=0\n",
      "chunk_max = row_chunk\n",
      "n_iters = int(len(search_iter_index) / row_chunk) + 1"
     ],
     "language": "python",
     "metadata": {},
     "outputs": [],
     "prompt_number": 45
    },
    {
     "cell_type": "code",
     "collapsed": false,
     "input": [
      "lms_stress_cols = ['xx_stress', 'yy_stress', 'xy_stress',\n",
      "                   'zz_stress', 'xz_stress', 'yz_stress']"
     ],
     "language": "python",
     "metadata": {},
     "outputs": [],
     "prompt_number": 46
    },
    {
     "cell_type": "markdown",
     "metadata": {},
     "source": [
      "### Make functions for doing stress calculations"
     ]
    },
    {
     "cell_type": "code",
     "collapsed": false,
     "input": [
      "def get_stress_tensor(row):\n",
      "    pt = row['pt_index']\n",
      "    (topo_xx, topo_yy, topo_xy,\n",
      "     topo_zz, topo_xz, topo_yz) = lms_df[lms_stress_cols].iloc[pt]\n",
      "\n",
      "    T = hsp.make_xyz_stress_tensor(sig_xx = topo_xx + row['tect_xx'],\n",
      "                                   sig_yy = topo_yy + row['tect_yy'],\n",
      "                                   sig_xy = topo_xy + row['tect_xy'],\n",
      "                                   sig_zz = topo_zz, sig_xz = topo_xz,\n",
      "                                   sig_yz = topo_yz)\n",
      "    return T\n",
      "\n",
      "\n",
      "def calc_total_stresses(row, T):\n",
      "    strike = row['strike']\n",
      "    dip = row['dip']\n",
      "\n",
      "    tau_m, tau_rake = hsp.max_shear_stress_from_xyz( strike, dip, T)\n",
      "    sig_nn = hsp.normal_stress_from_xyz( strike, dip, T)\n",
      "\n",
      "    return tau_m, tau_rake, sig_nn\n",
      "\n",
      "\n",
      "def calc_misfit(row, tau_rake):\n",
      "\n",
      "    return row['slip_rake'] - tau_rake\n",
      "\n",
      "\n",
      "def calc_weighted_misfit(row, tau_rake):\n",
      "    \n",
      "    return (row['slip_rake'] - tau_rake) * row['slip_m']\n",
      "\n",
      "\n",
      "def do_tect_stresses(row):\n",
      "    T = get_stress_tensor(row)\n",
      "\n",
      "    tau_m, tau_rake, sig_nn = calc_total_stresses(row, T)\n",
      "\n",
      "    misfit = calc_misfit(row, df)\n",
      "    weighted_misfit = calc_weighted_misfit(row, df)\n",
      "\n",
      "    s = pd.Series({'tau_rake':tau_rake, 'tau_mag':tau_m, 'sig_nn':sig_nn,\n",
      "                   'misfit':misfit, 'weighted_misfit':weighted_misfit})\n",
      "\n",
      "    return s\n"
     ],
     "language": "python",
     "metadata": {},
     "outputs": [],
     "prompt_number": 47
    },
    {
     "cell_type": "code",
     "collapsed": false,
     "input": [
      "def do_tect_stresses2(row):\n",
      "    pt = row['pt_index']\n",
      "    (topo_xx, topo_yy, topo_xy,\n",
      "     topo_zz, topo_xz, topo_yz) = lms_df[lms_stress_cols].iloc[pt]\n",
      "\n",
      "    T = hsp.make_xyz_stress_tensor(sig_xx = topo_xx + row['tect_xx'],\n",
      "                                   sig_yy = topo_yy + row['tect_yy'],\n",
      "                                   sig_xy = topo_xy + row['tect_xy'],\n",
      "                                   sig_zz = topo_zz, sig_xz = topo_xz,\n",
      "                                   sig_yz = topo_yz)\n",
      "    \n",
      "    strike = row['strike']\n",
      "    dip = row['dip']\n",
      "    \n",
      "    tau_m, tau_rake = hsp.max_shear_stress_from_xyz( strike, dip, T)\n",
      "    sig_nn = hsp.normal_stress_from_xyz( strike, dip, T)\n",
      "    \n",
      "    misfit = row['slip_rake'] - tau_rake\n",
      "    weighted_misfit = (row['slip_rake'] - tau_rake) * row['slip_m']\n",
      "    \n",
      "    s = pd.Series({'tau_rake':tau_rake, 'tau_mag':tau_m, 'sig_nn':sig_nn,\n",
      "                   'misfit':misfit, 'weighted_misfit':weighted_misfit})\n",
      "\n",
      "    return s"
     ],
     "language": "python",
     "metadata": {},
     "outputs": [],
     "prompt_number": 48
    },
    {
     "cell_type": "code",
     "collapsed": false,
     "input": [
      "search_cols = ['tau_rake', 'tau_mag', 'sig_nn', 'misfit', 'weighted_misfit']"
     ],
     "language": "python",
     "metadata": {},
     "outputs": [],
     "prompt_number": 49
    },
    {
     "cell_type": "code",
     "collapsed": false,
     "input": [
      "t0 = time.time()\n",
      "for ni in range(n_iters):\n",
      "    t_in = time.time()\n",
      "    \n",
      "    search_df.iloc[chunk_min:chunk_max][search_cols] = (search_df.iloc[\n",
      "                                           chunk_min:chunk_max].apply(\n",
      "                                                do_tect_stresses2, axis=1) )\n",
      "    t_out = time.time()\n",
      "    t_min = (t_out - t_in) / 60\n",
      "    print 'did rows', chunk_min, '-', chunk_max, 'in', t_min, 'm'\n",
      "    chunk_min += row_chunk\n",
      "    if (chunk_min + row_chunk <= len(search_iter_index) ):\n",
      "        chunk_max += row_chunk\n",
      "    else:\n",
      "        chunk_max = len(search_iter_index)\n",
      "\n",
      "t1 = time.time()\n",
      "print 'done with all rows in', (t1-t0)/60, 'm'"
     ],
     "language": "python",
     "metadata": {},
     "outputs": [
      {
       "output_type": "stream",
       "stream": "stdout",
       "text": [
        "did rows 0 - 10000.0 in 0.193542818228 m\n",
        "did rows"
       ]
      },
      {
       "output_type": "stream",
       "stream": "stdout",
       "text": [
        " 10000.0 - 20000.0 in 0.196400014559 m\n",
        "did rows"
       ]
      },
      {
       "output_type": "stream",
       "stream": "stdout",
       "text": [
        " 20000.0 - 30000.0 in 0.192329831918 m\n",
        "did rows"
       ]
      },
      {
       "output_type": "stream",
       "stream": "stdout",
       "text": [
        " 30000.0 - 40000.0 in 0.192405366898 m\n",
        "did rows"
       ]
      },
      {
       "output_type": "stream",
       "stream": "stdout",
       "text": [
        " 40000.0 - 50000.0 in 0.194846085707 m\n",
        "did rows"
       ]
      },
      {
       "output_type": "stream",
       "stream": "stdout",
       "text": [
        " 50000.0 - 60000.0 in 0.195912365119 m\n",
        "did rows"
       ]
      },
      {
       "output_type": "stream",
       "stream": "stdout",
       "text": [
        " 60000.0 - 70000.0 in 0.199426436424 m\n",
        "did rows"
       ]
      },
      {
       "output_type": "stream",
       "stream": "stdout",
       "text": [
        " 70000.0 - 80000.0 in 0.194466634591 m\n",
        "did rows"
       ]
      },
      {
       "output_type": "stream",
       "stream": "stdout",
       "text": [
        " 80000.0 - 90000.0 in 0.191883035501 m\n",
        "did rows"
       ]
      },
      {
       "output_type": "stream",
       "stream": "stdout",
       "text": [
        " 90000.0 - 100000.0 in 0.193136918545 m\n",
        "did rows"
       ]
      },
      {
       "output_type": "stream",
       "stream": "stdout",
       "text": [
        " 100000.0 - 110000.0 in 0.192747350534 m\n",
        "did rows"
       ]
      },
      {
       "output_type": "stream",
       "stream": "stdout",
       "text": [
        " 110000.0 - 120000.0 in 0.191652047634 m\n",
        "did rows"
       ]
      },
      {
       "output_type": "stream",
       "stream": "stdout",
       "text": [
        " 120000.0 - 130000.0 in 0.191292119026 m\n",
        "did rows"
       ]
      },
      {
       "output_type": "stream",
       "stream": "stdout",
       "text": [
        " 130000.0 - 140000.0 in 0.198205081622 m\n",
        "did rows"
       ]
      },
      {
       "output_type": "stream",
       "stream": "stdout",
       "text": [
        " 140000.0 - 150000.0 in 0.19353509744 m\n",
        "did rows"
       ]
      },
      {
       "output_type": "stream",
       "stream": "stdout",
       "text": [
        " 150000.0 - 160000.0 in 0.192472434044 m\n",
        "did rows"
       ]
      },
      {
       "output_type": "stream",
       "stream": "stdout",
       "text": [
        " 160000.0 - 170000.0 in 0.20345736742 m\n",
        "did rows"
       ]
      },
      {
       "output_type": "stream",
       "stream": "stdout",
       "text": [
        " 170000.0 - 180000.0 in 0.194129049778 m\n",
        "did rows"
       ]
      },
      {
       "output_type": "stream",
       "stream": "stdout",
       "text": [
        " 180000.0 - 190000.0 in 0.198044633865 m\n",
        "did rows"
       ]
      },
      {
       "output_type": "stream",
       "stream": "stdout",
       "text": [
        " 190000.0 - 200000.0 in 0.194567314784 m\n",
        "did rows"
       ]
      },
      {
       "output_type": "stream",
       "stream": "stdout",
       "text": [
        " 200000.0 - 210000.0 in 0.198551829656 m\n",
        "did rows"
       ]
      },
      {
       "output_type": "stream",
       "stream": "stdout",
       "text": [
        " 210000.0 - 220000.0 in 0.193304701646 m\n",
        "did rows"
       ]
      },
      {
       "output_type": "stream",
       "stream": "stdout",
       "text": [
        " 220000.0 - 230000.0 in 0.193214050929 m\n",
        "did rows"
       ]
      },
      {
       "output_type": "stream",
       "stream": "stdout",
       "text": [
        " 230000.0 - 240000.0 in 0.193985215823 m\n",
        "did rows"
       ]
      },
      {
       "output_type": "stream",
       "stream": "stdout",
       "text": [
        " 240000.0 - 250000.0 in 0.192892916997 m\n",
        "did rows"
       ]
      },
      {
       "output_type": "stream",
       "stream": "stdout",
       "text": [
        " 250000.0 - 260000.0 in 0.192999450366 m\n",
        "did rows"
       ]
      },
      {
       "output_type": "stream",
       "stream": "stdout",
       "text": [
        " 260000.0 - 270000.0 in 0.193806966146 m\n",
        "did rows"
       ]
      },
      {
       "output_type": "stream",
       "stream": "stdout",
       "text": [
        " 270000.0 - 280000.0 in 0.201119065285 m\n",
        "did rows"
       ]
      },
      {
       "output_type": "stream",
       "stream": "stdout",
       "text": [
        " 280000.0 - 290000.0 in 0.1950796326 m\n",
        "did rows"
       ]
      },
      {
       "output_type": "stream",
       "stream": "stdout",
       "text": [
        " 290000.0 - 300000.0 in 0.193559463819 m\n",
        "did rows"
       ]
      },
      {
       "output_type": "stream",
       "stream": "stdout",
       "text": [
        " 300000.0 - 310000.0 in 0.193153866132 m\n",
        "did rows"
       ]
      },
      {
       "output_type": "stream",
       "stream": "stdout",
       "text": [
        " 310000.0 - 320000.0 in 0.191671915849 m\n",
        "did rows"
       ]
      },
      {
       "output_type": "stream",
       "stream": "stdout",
       "text": [
        " 320000.0 - 330000.0 in 0.194311368465 m\n",
        "did rows"
       ]
      },
      {
       "output_type": "stream",
       "stream": "stdout",
       "text": [
        " 330000.0 - 340000.0 in 0.200232450167 m\n",
        "did rows"
       ]
      },
      {
       "output_type": "stream",
       "stream": "stdout",
       "text": [
        " 340000.0 - 350000.0 in 0.193754585584 m\n",
        "did rows"
       ]
      },
      {
       "output_type": "stream",
       "stream": "stdout",
       "text": [
        " 350000.0 - 360000.0 in 0.193206616243 m\n",
        "did rows"
       ]
      },
      {
       "output_type": "stream",
       "stream": "stdout",
       "text": [
        " 360000.0 - 370000.0 in 0.19286754926 m\n",
        "did rows"
       ]
      },
      {
       "output_type": "stream",
       "stream": "stdout",
       "text": [
        " 370000.0 - 380000.0 in 0.195379749934 m\n",
        "did rows"
       ]
      },
      {
       "output_type": "stream",
       "stream": "stdout",
       "text": [
        " 380000.0 - 390000.0 in 0.192415750027 m\n",
        "did rows"
       ]
      },
      {
       "output_type": "stream",
       "stream": "stdout",
       "text": [
        " 390000.0 - 400000.0 in 0.192395397027 m\n",
        "did rows"
       ]
      },
      {
       "output_type": "stream",
       "stream": "stdout",
       "text": [
        " 400000.0 - 410000.0 in 0.19942501386 m\n",
        "did rows"
       ]
      },
      {
       "output_type": "stream",
       "stream": "stdout",
       "text": [
        " 410000.0 - 420000.0 in 0.193964083989 m\n",
        "did rows"
       ]
      },
      {
       "output_type": "stream",
       "stream": "stdout",
       "text": [
        " 420000.0 - 430000.0 in 0.193365351359 m\n",
        "did rows"
       ]
      },
      {
       "output_type": "stream",
       "stream": "stdout",
       "text": [
        " 430000.0 - 440000.0 in 0.193565730254 m\n",
        "did rows"
       ]
      },
      {
       "output_type": "stream",
       "stream": "stdout",
       "text": [
        " 440000.0 - 450000.0 in 0.192466616631 m\n",
        "did rows"
       ]
      },
      {
       "output_type": "stream",
       "stream": "stdout",
       "text": [
        " 450000.0 - 460000.0 in 0.197543883324 m\n",
        "did rows"
       ]
      },
      {
       "output_type": "stream",
       "stream": "stdout",
       "text": [
        " 460000.0 - 470000.0 in 0.194533149401 m\n",
        "did rows"
       ]
      },
      {
       "output_type": "stream",
       "stream": "stdout",
       "text": [
        " 470000.0 - 480000.0 in 0.199472534657 m\n",
        "did rows"
       ]
      },
      {
       "output_type": "stream",
       "stream": "stdout",
       "text": [
        " 480000.0 - 490000.0 in 0.193309716384 m\n",
        "did rows"
       ]
      },
      {
       "output_type": "stream",
       "stream": "stdout",
       "text": [
        " 490000.0 - 500000.0 in 0.193653766314 m\n",
        "did rows"
       ]
      },
      {
       "output_type": "stream",
       "stream": "stdout",
       "text": [
        " 500000.0 - 510000.0 in 0.194629450639 m\n",
        "did rows"
       ]
      },
      {
       "output_type": "stream",
       "stream": "stdout",
       "text": [
        " 510000.0 - 520000.0 in 0.192847549915 m\n",
        "did rows"
       ]
      },
      {
       "output_type": "stream",
       "stream": "stdout",
       "text": [
        " 520000.0 - 530000.0 in 0.19396686554 m\n",
        "did rows"
       ]
      },
      {
       "output_type": "stream",
       "stream": "stdout",
       "text": [
        " 530000.0 - 540000.0 in 0.193216133118 m\n",
        "did rows"
       ]
      },
      {
       "output_type": "stream",
       "stream": "stdout",
       "text": [
        " 540000.0 - 550000.0 in 0.199571017424 m\n",
        "did rows"
       ]
      },
      {
       "output_type": "stream",
       "stream": "stdout",
       "text": [
        " 550000.0 - 560000.0 in 0.194084684054 m\n",
        "did rows"
       ]
      },
      {
       "output_type": "stream",
       "stream": "stdout",
       "text": [
        " 560000.0 - 570000.0 in 0.192177947362 m\n",
        "did rows"
       ]
      },
      {
       "output_type": "stream",
       "stream": "stdout",
       "text": [
        " 570000.0 - 580000.0 in 0.192524031798 m\n",
        "did rows"
       ]
      },
      {
       "output_type": "stream",
       "stream": "stdout",
       "text": [
        " 580000.0 - 590000.0 in 0.192521802584 m\n",
        "did rows"
       ]
      },
      {
       "output_type": "stream",
       "stream": "stdout",
       "text": [
        " 590000.0 - 600000.0 in 0.196333281199 m\n",
        "did rows"
       ]
      },
      {
       "output_type": "stream",
       "stream": "stdout",
       "text": [
        " 600000.0 - 610000.0 in 0.19421706597 m\n",
        "did rows"
       ]
      },
      {
       "output_type": "stream",
       "stream": "stdout",
       "text": [
        " 610000.0 - 620000.0 in 0.201860249043 m\n",
        "did rows"
       ]
      },
      {
       "output_type": "stream",
       "stream": "stdout",
       "text": [
        " 620000.0 - 630000.0 in 0.194248016675 m\n",
        "did rows"
       ]
      },
      {
       "output_type": "stream",
       "stream": "stdout",
       "text": [
        " 630000.0 - 640000.0 in 0.192329919338 m\n",
        "did rows"
       ]
      },
      {
       "output_type": "stream",
       "stream": "stdout",
       "text": [
        " 640000.0 - 650000.0 in 0.19457098643 m\n",
        "did rows"
       ]
      },
      {
       "output_type": "stream",
       "stream": "stdout",
       "text": [
        " 650000.0 - 660000.0 in 0.193574333191 m\n",
        "did rows"
       ]
      },
      {
       "output_type": "stream",
       "stream": "stdout",
       "text": [
        " 660000.0 - 670000.0 in 0.194358750184 m\n",
        "did rows"
       ]
      },
      {
       "output_type": "stream",
       "stream": "stdout",
       "text": [
        " 670000.0 - 680000.0 in 0.193835647901 m\n",
        "did rows"
       ]
      },
      {
       "output_type": "stream",
       "stream": "stdout",
       "text": [
        " 680000.0 - 690000.0 in 0.201589218775 m\n",
        "did rows"
       ]
      },
      {
       "output_type": "stream",
       "stream": "stdout",
       "text": [
        " 690000.0 - 700000.0 in 0.194539133708 m\n",
        "did rows"
       ]
      },
      {
       "output_type": "stream",
       "stream": "stdout",
       "text": [
        " 700000.0 - 710000.0 in 0.193513067563 m\n",
        "did rows"
       ]
      },
      {
       "output_type": "stream",
       "stream": "stdout",
       "text": [
        " 710000.0 - 720000.0 in 0.193932116032 m\n",
        "did rows"
       ]
      },
      {
       "output_type": "stream",
       "stream": "stdout",
       "text": [
        " 720000.0 - 730000.0 in 0.192735950152 m\n",
        "did rows"
       ]
      },
      {
       "output_type": "stream",
       "stream": "stdout",
       "text": [
        " 730000.0 - 740000.0 in 0.193720666567 m\n",
        "did rows"
       ]
      },
      {
       "output_type": "stream",
       "stream": "stdout",
       "text": [
        " 740000.0 - 750000.0 in 0.194562232494 m\n",
        "did rows"
       ]
      },
      {
       "output_type": "stream",
       "stream": "stdout",
       "text": [
        " 750000.0 - 760000.0 in 0.2012018164 m\n",
        "did rows"
       ]
      },
      {
       "output_type": "stream",
       "stream": "stdout",
       "text": [
        " 760000.0 - 770000.0 in 0.195062482357 m\n",
        "did rows"
       ]
      },
      {
       "output_type": "stream",
       "stream": "stdout",
       "text": [
        " 770000.0 - 780000.0 in 0.194244996707 m\n",
        "did rows"
       ]
      },
      {
       "output_type": "stream",
       "stream": "stdout",
       "text": [
        " 780000.0 - 790000.0 in 0.194141447544 m\n",
        "did rows"
       ]
      },
      {
       "output_type": "stream",
       "stream": "stdout",
       "text": [
        " 790000.0 - 800000.0 in 0.193805766106 m\n",
        "did rows"
       ]
      },
      {
       "output_type": "stream",
       "stream": "stdout",
       "text": [
        " 800000.0 - 810000.0 in 0.195038286845 m\n",
        "did rows"
       ]
      },
      {
       "output_type": "stream",
       "stream": "stdout",
       "text": [
        " 810000.0 - 820000.0 in 0.193180668354 m\n",
        "did rows"
       ]
      },
      {
       "output_type": "stream",
       "stream": "stdout",
       "text": [
        " 820000.0 - 830000.0 in 0.201818247636 m\n",
        "did rows"
       ]
      },
      {
       "output_type": "stream",
       "stream": "stdout",
       "text": [
        " 830000.0 - 840000.0 in 0.192639033 m\n",
        "did rows"
       ]
      },
      {
       "output_type": "stream",
       "stream": "stdout",
       "text": [
        " 840000.0 - 850000.0 in 0.192085814476 m\n",
        "did rows"
       ]
      },
      {
       "output_type": "stream",
       "stream": "stdout",
       "text": [
        " 850000.0 - 860000.0 in 0.193580798308 m\n",
        "did rows"
       ]
      },
      {
       "output_type": "stream",
       "stream": "stdout",
       "text": [
        " 860000.0 - 870000.0 in 0.193375130494 m\n",
        "did rows"
       ]
      },
      {
       "output_type": "stream",
       "stream": "stdout",
       "text": [
        " 870000.0 - 880000.0 in 0.194664231936 m\n",
        "did rows"
       ]
      },
      {
       "output_type": "stream",
       "stream": "stdout",
       "text": [
        " 880000.0 - 890000.0 in 0.191915464401 m\n",
        "did rows"
       ]
      },
      {
       "output_type": "stream",
       "stream": "stdout",
       "text": [
        " 890000.0 - 900000.0 in 0.196878302097 m\n",
        "did rows"
       ]
      },
      {
       "output_type": "stream",
       "stream": "stdout",
       "text": [
        " 900000.0 - 910000.0 in 0.19242276748 m\n",
        "did rows"
       ]
      },
      {
       "output_type": "stream",
       "stream": "stdout",
       "text": [
        " 910000.0 - 920000.0 in 0.191824797789 m\n",
        "did rows"
       ]
      },
      {
       "output_type": "stream",
       "stream": "stdout",
       "text": [
        " 920000.0 - 930000.0 in 0.193635149797 m\n",
        "did rows"
       ]
      },
      {
       "output_type": "stream",
       "stream": "stdout",
       "text": [
        " 930000.0 - 940000.0 in 0.19474700292 m\n",
        "did rows"
       ]
      },
      {
       "output_type": "stream",
       "stream": "stdout",
       "text": [
        " 940000.0 - 950000.0 in 0.19474101464 m\n",
        "did rows"
       ]
      },
      {
       "output_type": "stream",
       "stream": "stdout",
       "text": [
        " 950000.0 - 960000.0 in 0.192922929923 m\n",
        "did rows"
       ]
      },
      {
       "output_type": "stream",
       "stream": "stdout",
       "text": [
        " 960000.0 - 970000.0 in 0.19858833154 m\n",
        "did rows"
       ]
      },
      {
       "output_type": "stream",
       "stream": "stdout",
       "text": [
        " 970000.0 - 980000.0 in 0.193932600816 m\n",
        "did rows"
       ]
      },
      {
       "output_type": "stream",
       "stream": "stdout",
       "text": [
        " 980000.0 - 990000.0 in 0.193712719282 m\n",
        "did rows"
       ]
      },
      {
       "output_type": "stream",
       "stream": "stdout",
       "text": [
        " 990000.0 - 1000000.0 in 0.194672683875 m\n",
        "did rows"
       ]
      },
      {
       "output_type": "stream",
       "stream": "stdout",
       "text": [
        " 1000000.0 - 1010000.0 in 0.194166549047 m\n",
        "did rows"
       ]
      },
      {
       "output_type": "stream",
       "stream": "stdout",
       "text": [
        " 1010000.0 - 1020000.0 in 0.194406584899 m\n",
        "did rows"
       ]
      },
      {
       "output_type": "stream",
       "stream": "stdout",
       "text": [
        " 1020000.0 - 1030000.0 in 0.198861881097 m\n",
        "did rows"
       ]
      },
      {
       "output_type": "stream",
       "stream": "stdout",
       "text": [
        " 1030000.0 - 1040000.0 in 0.193774632613 m\n",
        "did rows"
       ]
      },
      {
       "output_type": "stream",
       "stream": "stdout",
       "text": [
        " 1040000.0 - 1050000.0 in 0.192679584026 m\n",
        "did rows"
       ]
      },
      {
       "output_type": "stream",
       "stream": "stdout",
       "text": [
        " 1050000.0 - 1060000.0 in 0.194054583708 m\n",
        "did rows"
       ]
      },
      {
       "output_type": "stream",
       "stream": "stdout",
       "text": [
        " 1060000.0 - 1070000.0 in 0.192715831598 m\n",
        "did rows"
       ]
      },
      {
       "output_type": "stream",
       "stream": "stdout",
       "text": [
        " 1070000.0 - 1080000.0 in 0.194055799643 m\n",
        "did rows"
       ]
      },
      {
       "output_type": "stream",
       "stream": "stdout",
       "text": [
        " 1080000.0 - 1090000.0 in 0.194642253717 m\n",
        "did rows"
       ]
      },
      {
       "output_type": "stream",
       "stream": "stdout",
       "text": [
        " 1090000.0 - 1100000.0 in 0.200690833728 m\n",
        "did rows"
       ]
      },
      {
       "output_type": "stream",
       "stream": "stdout",
       "text": [
        " 1100000.0 - 1110000.0 in 0.193751430511 m\n",
        "did rows"
       ]
      },
      {
       "output_type": "stream",
       "stream": "stdout",
       "text": [
        " 1110000.0 - 1120000.0 in 0.19173732996 m\n",
        "did rows"
       ]
      },
      {
       "output_type": "stream",
       "stream": "stdout",
       "text": [
        " 1120000.0 - 1130000.0 in 0.192040884495 m\n",
        "did rows"
       ]
      },
      {
       "output_type": "stream",
       "stream": "stdout",
       "text": [
        " 1130000.0 - 1140000.0 in 0.191826983293 m\n",
        "did rows"
       ]
      },
      {
       "output_type": "stream",
       "stream": "stdout",
       "text": [
        " 1140000.0 - 1150000.0 in 0.195083435376 m\n",
        "did rows"
       ]
      },
      {
       "output_type": "stream",
       "stream": "stdout",
       "text": [
        " 1150000.0 - 1160000.0 in 0.192647616069 m\n",
        "did rows"
       ]
      },
      {
       "output_type": "stream",
       "stream": "stdout",
       "text": [
        " 1160000.0 - 1170000.0 in 0.199111700058 m\n",
        "did rows"
       ]
      },
      {
       "output_type": "stream",
       "stream": "stdout",
       "text": [
        " 1170000.0 - 1180000.0 in 0.192974368731 m\n",
        "did rows"
       ]
      },
      {
       "output_type": "stream",
       "stream": "stdout",
       "text": [
        " 1180000.0 - 1190000.0 in 0.19264121453 m\n",
        "did rows"
       ]
      },
      {
       "output_type": "stream",
       "stream": "stdout",
       "text": [
        " 1190000.0 - 1200000.0 in 0.19154963096 m\n",
        "did rows"
       ]
      },
      {
       "output_type": "stream",
       "stream": "stdout",
       "text": [
        " 1200000.0 - 1210000.0 in 0.191897316774 m\n",
        "did rows"
       ]
      },
      {
       "output_type": "stream",
       "stream": "stdout",
       "text": [
        " 1210000.0 - 1220000.0 in 0.192627648513 m\n",
        "did rows"
       ]
      },
      {
       "output_type": "stream",
       "stream": "stdout",
       "text": [
        " 1220000.0 - 1230000.0 in 0.195341881116 m\n",
        "did rows"
       ]
      },
      {
       "output_type": "stream",
       "stream": "stdout",
       "text": [
        " 1230000.0 - 1240000.0 in 0.198264217377 m\n",
        "did rows"
       ]
      },
      {
       "output_type": "stream",
       "stream": "stdout",
       "text": [
        " 1240000.0 - 1250000.0 in 0.192506118615 m\n",
        "did rows"
       ]
      },
      {
       "output_type": "stream",
       "stream": "stdout",
       "text": [
        " 1250000.0 - 1260000.0 in 0.191609032949 m\n",
        "did rows"
       ]
      },
      {
       "output_type": "stream",
       "stream": "stdout",
       "text": [
        " 1260000.0 - 1270000.0 in 0.193483781815 m\n",
        "did rows"
       ]
      },
      {
       "output_type": "stream",
       "stream": "stdout",
       "text": [
        " 1270000.0 - 1280000.0 in 0.191542466482 m\n",
        "did rows"
       ]
      },
      {
       "output_type": "stream",
       "stream": "stdout",
       "text": [
        " 1280000.0 - 1290000.0 in 0.192446986834 m\n",
        "did rows"
       ]
      },
      {
       "output_type": "stream",
       "stream": "stdout",
       "text": [
        " 1290000.0 - 1300000.0 in 0.19182078441 m\n",
        "did rows"
       ]
      },
      {
       "output_type": "stream",
       "stream": "stdout",
       "text": [
        " 1300000.0 - 1310000.0 in 0.197982402643 m\n",
        "did rows"
       ]
      },
      {
       "output_type": "stream",
       "stream": "stdout",
       "text": [
        " 1310000.0 - 1320000.0 in 0.192487200101 m\n",
        "did rows"
       ]
      },
      {
       "output_type": "stream",
       "stream": "stdout",
       "text": [
        " 1320000.0 - 1330000.0 in 0.192057367166 m\n",
        "did rows"
       ]
      },
      {
       "output_type": "stream",
       "stream": "stdout",
       "text": [
        " 1330000.0 - 1340000.0 in 0.193212648233 m\n",
        "did rows"
       ]
      },
      {
       "output_type": "stream",
       "stream": "stdout",
       "text": [
        " 1340000.0 - 1350000.0 in 0.192666931947 m\n",
        "did rows"
       ]
      },
      {
       "output_type": "stream",
       "stream": "stdout",
       "text": [
        " 1350000.0 - 1360000.0 in 0.192450618744 m\n",
        "did rows"
       ]
      },
      {
       "output_type": "stream",
       "stream": "stdout",
       "text": [
        " 1360000.0 - 1370000.0 in 0.192529614766 m\n",
        "did rows"
       ]
      },
      {
       "output_type": "stream",
       "stream": "stdout",
       "text": [
        " 1370000.0 - 1380000.0 in 0.197525799274 m\n",
        "did rows"
       ]
      },
      {
       "output_type": "stream",
       "stream": "stdout",
       "text": [
        " 1380000.0 - 1390000.0 in 0.19256879886 m\n",
        "did rows"
       ]
      },
      {
       "output_type": "stream",
       "stream": "stdout",
       "text": [
        " 1390000.0 - 1400000.0 in 0.193243082364 m\n",
        "did rows"
       ]
      },
      {
       "output_type": "stream",
       "stream": "stdout",
       "text": [
        " 1400000.0 - 1410000.0 in 0.193257613977 m\n",
        "did rows"
       ]
      },
      {
       "output_type": "stream",
       "stream": "stdout",
       "text": [
        " 1410000.0 - 1420000.0 in 0.193472949664 m\n",
        "did rows"
       ]
      },
      {
       "output_type": "stream",
       "stream": "stdout",
       "text": [
        " 1420000.0 - 1430000.0 in 0.194633436203 m\n",
        "did rows"
       ]
      },
      {
       "output_type": "stream",
       "stream": "stdout",
       "text": [
        " 1430000.0 - 1440000.0 in 0.200095884005 m\n",
        "did rows"
       ]
      },
      {
       "output_type": "stream",
       "stream": "stdout",
       "text": [
        " 1440000.0 - 1450000.0 in 0.192804547151 m\n",
        "did rows"
       ]
      },
      {
       "output_type": "stream",
       "stream": "stdout",
       "text": [
        " 1450000.0 - 1460000.0 in 0.195190449556 m\n",
        "did rows"
       ]
      },
      {
       "output_type": "stream",
       "stream": "stdout",
       "text": [
        " 1460000.0 - 1470000.0 in 0.196811946233 m\n",
        "did rows"
       ]
      },
      {
       "output_type": "stream",
       "stream": "stdout",
       "text": [
        " 1470000.0 - 1480000.0 in 0.193413166205 m\n",
        "did rows"
       ]
      },
      {
       "output_type": "stream",
       "stream": "stdout",
       "text": [
        " 1480000.0 - 1490000.0 in 0.192677903175 m\n",
        "did rows"
       ]
      },
      {
       "output_type": "stream",
       "stream": "stdout",
       "text": [
        " 1490000.0 - 1500000.0 in 0.192513632774 m\n",
        "did rows"
       ]
      },
      {
       "output_type": "stream",
       "stream": "stdout",
       "text": [
        " 1500000.0 - 1510000.0 in 0.200196484725 m\n",
        "did rows"
       ]
      },
      {
       "output_type": "stream",
       "stream": "stdout",
       "text": [
        " 1510000.0 - 1520000.0 in 0.193172001839 m\n",
        "did rows"
       ]
      },
      {
       "output_type": "stream",
       "stream": "stdout",
       "text": [
        " 1520000.0 - 1530000.0 in 0.19658031861 m\n",
        "did rows"
       ]
      },
      {
       "output_type": "stream",
       "stream": "stdout",
       "text": [
        " 1530000.0 - 1540000.0 in 0.19655636549 m\n",
        "did rows"
       ]
      },
      {
       "output_type": "stream",
       "stream": "stdout",
       "text": [
        " 1540000.0 - 1550000.0 in 0.193438752492 m\n",
        "did rows"
       ]
      },
      {
       "output_type": "stream",
       "stream": "stdout",
       "text": [
        " 1550000.0 - 1560000.0 in 0.194054698944 m\n",
        "did rows"
       ]
      },
      {
       "output_type": "stream",
       "stream": "stdout",
       "text": [
        " 1560000.0 - 1570000.0 in 0.193877768517 m\n",
        "did rows"
       ]
      },
      {
       "output_type": "stream",
       "stream": "stdout",
       "text": [
        " 1570000.0 - 1580000.0 in 0.201127616564 m\n",
        "did rows"
       ]
      },
      {
       "output_type": "stream",
       "stream": "stdout",
       "text": [
        " 1580000.0 - 1590000.0 in 0.194380982717 m\n",
        "did rows"
       ]
      },
      {
       "output_type": "stream",
       "stream": "stdout",
       "text": [
        " 1590000.0 - 1600000.0 in 0.193568134308 m\n",
        "did rows"
       ]
      },
      {
       "output_type": "stream",
       "stream": "stdout",
       "text": [
        " 1600000.0 - 1610000.0 in 0.193793233236 m\n",
        "did rows"
       ]
      },
      {
       "output_type": "stream",
       "stream": "stdout",
       "text": [
        " 1610000.0 - 1620000.0 in 0.192233749231 m\n",
        "did rows"
       ]
      },
      {
       "output_type": "stream",
       "stream": "stdout",
       "text": [
        " 1620000.0 - 1630000.0 in 0.197854280472 m\n",
        "did rows"
       ]
      },
      {
       "output_type": "stream",
       "stream": "stdout",
       "text": [
        " 1630000.0 - 1640000.0 in 0.196794966857 m\n",
        "did rows"
       ]
      },
      {
       "output_type": "stream",
       "stream": "stdout",
       "text": [
        " 1640000.0 - 1650000.0 in 0.200005833308 m\n",
        "did rows"
       ]
      },
      {
       "output_type": "stream",
       "stream": "stdout",
       "text": [
        " 1650000.0 - 1660000.0 in 0.195232566198 m\n",
        "did rows"
       ]
      },
      {
       "output_type": "stream",
       "stream": "stdout",
       "text": [
        " 1660000.0 - 1670000.0 in 0.19453715086 m\n",
        "did rows"
       ]
      },
      {
       "output_type": "stream",
       "stream": "stdout",
       "text": [
        " 1670000.0 - 1680000.0 in 0.193777581056 m\n",
        "did rows"
       ]
      },
      {
       "output_type": "stream",
       "stream": "stdout",
       "text": [
        " 1680000.0 - 1690000.0 in 0.193285298347 m\n",
        "did rows"
       ]
      },
      {
       "output_type": "stream",
       "stream": "stdout",
       "text": [
        " 1690000.0 - 1700000.0 in 0.19534671704 m\n",
        "did rows"
       ]
      },
      {
       "output_type": "stream",
       "stream": "stdout",
       "text": [
        " 1700000.0 - 1710000.0 in 0.193742068609 m\n",
        "did rows"
       ]
      },
      {
       "output_type": "stream",
       "stream": "stdout",
       "text": [
        " 1710000.0 - 1720000.0 in 0.20029528141 m\n",
        "did rows"
       ]
      },
      {
       "output_type": "stream",
       "stream": "stdout",
       "text": [
        " 1720000.0 - 1730000.0 in 0.193275503318 m\n",
        "did rows"
       ]
      },
      {
       "output_type": "stream",
       "stream": "stdout",
       "text": [
        " 1730000.0 - 1740000.0 in 0.195228115718 m\n",
        "did rows"
       ]
      },
      {
       "output_type": "stream",
       "stream": "stdout",
       "text": [
        " 1740000.0 - 1750000.0 in 0.194879631201 m\n",
        "did rows"
       ]
      },
      {
       "output_type": "stream",
       "stream": "stdout",
       "text": [
        " 1750000.0 - 1760000.0 in 0.195115451018 m\n",
        "did rows"
       ]
      },
      {
       "output_type": "stream",
       "stream": "stdout",
       "text": [
        " 1760000.0 - 1770000.0 in 0.195248266061 m\n",
        "did rows"
       ]
      },
      {
       "output_type": "stream",
       "stream": "stdout",
       "text": [
        " 1770000.0 - 1780000.0 in 0.200917601585 m\n",
        "did rows"
       ]
      },
      {
       "output_type": "stream",
       "stream": "stdout",
       "text": [
        " 1780000.0 - 1790000.0 in 0.191728019714 m\n",
        "did rows"
       ]
      },
      {
       "output_type": "stream",
       "stream": "stdout",
       "text": [
        " 1790000.0 - 1800000.0 in 0.197640669346 m\n",
        "did rows"
       ]
      },
      {
       "output_type": "stream",
       "stream": "stdout",
       "text": [
        " 1800000.0 - 1810000.0 in 0.194894250234 m\n",
        "did rows"
       ]
      },
      {
       "output_type": "stream",
       "stream": "stdout",
       "text": [
        " 1810000.0 - 1820000.0 in 0.195075416565 m\n",
        "did rows"
       ]
      },
      {
       "output_type": "stream",
       "stream": "stdout",
       "text": [
        " 1820000.0 - 1830000.0 in 0.195497552554 m\n",
        "did rows"
       ]
      },
      {
       "output_type": "stream",
       "stream": "stdout",
       "text": [
        " 1830000.0 - 1840000.0 in 0.194578683376 m\n",
        "did rows"
       ]
      },
      {
       "output_type": "stream",
       "stream": "stdout",
       "text": [
        " 1840000.0 - 1850000.0 in 0.200886567434 m\n",
        "did rows"
       ]
      },
      {
       "output_type": "stream",
       "stream": "stdout",
       "text": [
        " 1850000.0 - 1860000.0 in 0.192099797726 m\n",
        "did rows"
       ]
      },
      {
       "output_type": "stream",
       "stream": "stdout",
       "text": [
        " 1860000.0 - 1870000.0 in 0.194250881672 m\n",
        "did rows"
       ]
      },
      {
       "output_type": "stream",
       "stream": "stdout",
       "text": [
        " 1870000.0 - 1880000.0 in 0.197384866079 m\n",
        "did rows"
       ]
      },
      {
       "output_type": "stream",
       "stream": "stdout",
       "text": [
        " 1880000.0 - 1890000.0 in 0.194057865938 m\n",
        "did rows"
       ]
      },
      {
       "output_type": "stream",
       "stream": "stdout",
       "text": [
        " 1890000.0 - 1900000.0 in 0.196608614922 m\n",
        "did rows"
       ]
      },
      {
       "output_type": "stream",
       "stream": "stdout",
       "text": [
        " 1900000.0 - 1910000.0 in 0.198809365431 m\n",
        "did rows"
       ]
      },
      {
       "output_type": "stream",
       "stream": "stdout",
       "text": [
        " 1910000.0 - 1920000.0 in 0.201861564318 m\n",
        "did rows"
       ]
      },
      {
       "output_type": "stream",
       "stream": "stdout",
       "text": [
        " 1920000.0 - 1930000.0 in 0.191768169403 m\n",
        "did rows"
       ]
      },
      {
       "output_type": "stream",
       "stream": "stdout",
       "text": [
        " 1930000.0 - 1940000.0 in 0.192027000586 m\n",
        "did rows"
       ]
      },
      {
       "output_type": "stream",
       "stream": "stdout",
       "text": [
        " 1940000.0 - 1950000.0 in 0.192283483346 m\n",
        "did rows"
       ]
      },
      {
       "output_type": "stream",
       "stream": "stdout",
       "text": [
        " 1950000.0 - 1960000.0 in 0.191779065132 m\n",
        "did rows"
       ]
      },
      {
       "output_type": "stream",
       "stream": "stdout",
       "text": [
        " 1960000.0 - 1970000.0 in 0.19316089948 m\n",
        "did rows"
       ]
      },
      {
       "output_type": "stream",
       "stream": "stdout",
       "text": [
        " 1970000.0 - 1980000.0 in 0.192866400878 m\n",
        "did rows"
       ]
      },
      {
       "output_type": "stream",
       "stream": "stdout",
       "text": [
        " 1980000.0 - 1990000.0 in 0.198607782523 m\n",
        "did rows"
       ]
      },
      {
       "output_type": "stream",
       "stream": "stdout",
       "text": [
        " 1990000.0 - 2000000.0 in 0.192785251141 m\n",
        "did rows"
       ]
      },
      {
       "output_type": "stream",
       "stream": "stdout",
       "text": [
        " 2000000.0 - 2010000.0 in 0.192559715112 m\n",
        "did rows"
       ]
      },
      {
       "output_type": "stream",
       "stream": "stdout",
       "text": [
        " 2010000.0 - 2020000.0 in 0.192507533232 m\n",
        "did rows"
       ]
      },
      {
       "output_type": "stream",
       "stream": "stdout",
       "text": [
        " 2020000.0 - 2030000.0 in 0.192037252585 m\n",
        "did rows"
       ]
      },
      {
       "output_type": "stream",
       "stream": "stdout",
       "text": [
        " 2030000.0 - 2040000.0 in 0.192545998096 m\n",
        "did rows"
       ]
      },
      {
       "output_type": "stream",
       "stream": "stdout",
       "text": [
        " 2040000.0 - 2050000.0 in 0.19276949962 m\n",
        "did rows"
       ]
      },
      {
       "output_type": "stream",
       "stream": "stdout",
       "text": [
        " 2050000.0 - 2060000.0 in 0.1985836188 m\n",
        "did rows"
       ]
      },
      {
       "output_type": "stream",
       "stream": "stdout",
       "text": [
        " 2060000.0 - 2070000.0 in 0.192653663953 m\n",
        "did rows"
       ]
      },
      {
       "output_type": "stream",
       "stream": "stdout",
       "text": [
        " 2070000.0 - 2080000.0 in 0.19572318395 m\n",
        "did rows"
       ]
      },
      {
       "output_type": "stream",
       "stream": "stdout",
       "text": [
        " 2080000.0 - 2090000.0 in 0.193905814489 m\n",
        "did rows"
       ]
      },
      {
       "output_type": "stream",
       "stream": "stdout",
       "text": [
        " 2090000.0 - 2100000.0 in 0.194491402308 m\n",
        "did rows"
       ]
      },
      {
       "output_type": "stream",
       "stream": "stdout",
       "text": [
        " 2100000.0 - 2110000.0 in 0.198047999541 m\n",
        "did rows"
       ]
      },
      {
       "output_type": "stream",
       "stream": "stdout",
       "text": [
        " 2110000.0 - 2120000.0 in 0.20102219979 m\n",
        "did rows"
       ]
      },
      {
       "output_type": "stream",
       "stream": "stdout",
       "text": [
        " 2120000.0 - 2130000.0 in 0.210845883687 m\n",
        "did rows"
       ]
      },
      {
       "output_type": "stream",
       "stream": "stdout",
       "text": [
        " 2130000.0 - 2140000.0 in 0.209695414702 m\n",
        "did rows"
       ]
      },
      {
       "output_type": "stream",
       "stream": "stdout",
       "text": [
        " 2140000.0 - 2150000.0 in 0.210627933343 m\n",
        "did rows"
       ]
      },
      {
       "output_type": "stream",
       "stream": "stdout",
       "text": [
        " 2150000.0 - 2160000.0 in 0.200672300657 m\n",
        "did rows"
       ]
      },
      {
       "output_type": "stream",
       "stream": "stdout",
       "text": [
        " 2160000.0 - 2170000.0 in 0.217824200789 m\n",
        "did rows"
       ]
      },
      {
       "output_type": "stream",
       "stream": "stdout",
       "text": [
        " 2170000.0 - 2180000.0 in 0.218985315164 m\n",
        "did rows"
       ]
      },
      {
       "output_type": "stream",
       "stream": "stdout",
       "text": [
        " 2180000.0 - 2190000.0 in 0.217934417725 m\n",
        "did rows"
       ]
      },
      {
       "output_type": "stream",
       "stream": "stdout",
       "text": [
        " 2190000.0 - 2200000.0 in 0.215276785692 m\n",
        "did rows"
       ]
      },
      {
       "output_type": "stream",
       "stream": "stdout",
       "text": [
        " 2200000.0 - 2210000.0 in 0.212822914124 m\n",
        "did rows"
       ]
      },
      {
       "output_type": "stream",
       "stream": "stdout",
       "text": [
        " 2210000.0 - 2220000.0 in 0.221758282185 m\n",
        "did rows"
       ]
      },
      {
       "output_type": "stream",
       "stream": "stdout",
       "text": [
        " 2220000.0 - 2230000.0 in 0.226257300377 m\n",
        "did rows"
       ]
      },
      {
       "output_type": "stream",
       "stream": "stdout",
       "text": [
        " 2230000.0 - 2240000.0 in 0.230460635821 m\n",
        "did rows"
       ]
      },
      {
       "output_type": "stream",
       "stream": "stdout",
       "text": [
        " 2240000.0 - 2250000.0 in 0.22633856535 m\n",
        "did rows"
       ]
      },
      {
       "output_type": "stream",
       "stream": "stdout",
       "text": [
        " 2250000.0 - 2260000.0 in 0.236983597279 m\n",
        "did rows"
       ]
      },
      {
       "output_type": "stream",
       "stream": "stdout",
       "text": [
        " 2260000.0 - 2270000.0 in 0.229695832729 m\n",
        "did rows"
       ]
      },
      {
       "output_type": "stream",
       "stream": "stdout",
       "text": [
        " 2270000.0 - 2280000.0 in 0.236658016841 m\n",
        "did rows"
       ]
      },
      {
       "output_type": "stream",
       "stream": "stdout",
       "text": [
        " 2280000.0 - 2290000.0 in 0.225638016065 m\n",
        "did rows"
       ]
      },
      {
       "output_type": "stream",
       "stream": "stdout",
       "text": [
        " 2290000.0 - 2300000.0 in 0.229578399658 m\n",
        "did rows"
       ]
      },
      {
       "output_type": "stream",
       "stream": "stdout",
       "text": [
        " 2300000.0 - 2310000.0 in 0.228156367938 m\n",
        "did rows"
       ]
      },
      {
       "output_type": "stream",
       "stream": "stdout",
       "text": [
        " 2310000.0 - 2320000.0 in 0.227394151688 m\n",
        "did rows"
       ]
      },
      {
       "output_type": "stream",
       "stream": "stdout",
       "text": [
        " 2320000.0 - 2330000.0 in 0.221689617634 m\n",
        "did rows"
       ]
      },
      {
       "output_type": "stream",
       "stream": "stdout",
       "text": [
        " 2330000.0 - 2340000.0 in 0.228292115529 m\n",
        "did rows"
       ]
      },
      {
       "output_type": "stream",
       "stream": "stdout",
       "text": [
        " 2340000.0 - 2350000.0 in 0.228465914726 m\n",
        "did rows"
       ]
      },
      {
       "output_type": "stream",
       "stream": "stdout",
       "text": [
        " 2350000.0 - 2360000.0 in 0.230478115877 m\n",
        "did rows"
       ]
      },
      {
       "output_type": "stream",
       "stream": "stdout",
       "text": [
        " 2360000.0 - 2370000.0 in 0.217708098888 m\n",
        "did rows"
       ]
      },
      {
       "output_type": "stream",
       "stream": "stdout",
       "text": [
        " 2370000.0 - 2380000.0 in 0.224872048696 m\n",
        "did rows"
       ]
      },
      {
       "output_type": "stream",
       "stream": "stdout",
       "text": [
        " 2380000.0 - 2390000.0 in 0.228768583139 m\n",
        "did rows"
       ]
      },
      {
       "output_type": "stream",
       "stream": "stdout",
       "text": [
        " 2390000.0 - 2400000.0 in 0.235944533348 m\n",
        "did rows"
       ]
      },
      {
       "output_type": "stream",
       "stream": "stdout",
       "text": [
        " 2400000.0 - 2410000.0 in 0.218266669909 m\n",
        "did rows"
       ]
      },
      {
       "output_type": "stream",
       "stream": "stdout",
       "text": [
        " 2410000.0 - 2420000.0 in 0.221871483326 m\n",
        "did rows"
       ]
      },
      {
       "output_type": "stream",
       "stream": "stdout",
       "text": [
        " 2420000.0 - 2430000.0 in 0.22541876634 m\n",
        "did rows"
       ]
      },
      {
       "output_type": "stream",
       "stream": "stdout",
       "text": [
        " 2430000.0 - 2440000.0 in 0.227438851198 m\n",
        "did rows"
       ]
      },
      {
       "output_type": "stream",
       "stream": "stdout",
       "text": [
        " 2440000.0 - 2450000.0 in 0.218127834797 m\n",
        "did rows"
       ]
      },
      {
       "output_type": "stream",
       "stream": "stdout",
       "text": [
        " 2450000.0 - 2460000.0 in 0.228175449371 m\n",
        "did rows"
       ]
      },
      {
       "output_type": "stream",
       "stream": "stdout",
       "text": [
        " 2460000.0 - 2470000.0 in 0.236547382673 m\n",
        "did rows"
       ]
      },
      {
       "output_type": "stream",
       "stream": "stdout",
       "text": [
        " 2470000.0 - 2480000.0 in 0.231532716751 m\n",
        "did rows"
       ]
      },
      {
       "output_type": "stream",
       "stream": "stdout",
       "text": [
        " 2480000.0 - 2490000.0 in 0.222934484482 m\n",
        "did rows"
       ]
      },
      {
       "output_type": "stream",
       "stream": "stdout",
       "text": [
        " 2490000.0 - 2500000.0 in 0.217988232772 m\n",
        "did rows"
       ]
      },
      {
       "output_type": "stream",
       "stream": "stdout",
       "text": [
        " 2500000.0 - 2510000.0 in 0.22918381691 m\n",
        "did rows"
       ]
      },
      {
       "output_type": "stream",
       "stream": "stdout",
       "text": [
        " 2510000.0 - 2520000.0 in 0.226377097766 m\n",
        "did rows"
       ]
      },
      {
       "output_type": "stream",
       "stream": "stdout",
       "text": [
        " 2520000.0 - 2530000.0 in 0.224970602989 m\n",
        "did rows"
       ]
      },
      {
       "output_type": "stream",
       "stream": "stdout",
       "text": [
        " 2530000.0 - 2540000.0 in 0.22289938132 m\n",
        "did rows"
       ]
      },
      {
       "output_type": "stream",
       "stream": "stdout",
       "text": [
        " 2540000.0 - 2550000.0 in 0.224867633979 m\n",
        "did rows"
       ]
      },
      {
       "output_type": "stream",
       "stream": "stdout",
       "text": [
        " 2550000.0 - 2560000.0 in 0.227069648107 m\n",
        "did rows"
       ]
      },
      {
       "output_type": "stream",
       "stream": "stdout",
       "text": [
        " 2560000.0 - 2570000.0 in 0.22914514939 m\n",
        "did rows"
       ]
      },
      {
       "output_type": "stream",
       "stream": "stdout",
       "text": [
        " 2570000.0 - 2580000.0 in 0.242019983133 m\n",
        "did rows"
       ]
      },
      {
       "output_type": "stream",
       "stream": "stdout",
       "text": [
        " 2580000.0 - 2590000.0 in 0.230665632089 m\n",
        "did rows"
       ]
      },
      {
       "output_type": "stream",
       "stream": "stdout",
       "text": [
        " 2590000.0 - 2600000.0 in 0.223492133617 m\n",
        "did rows"
       ]
      },
      {
       "output_type": "stream",
       "stream": "stdout",
       "text": [
        " 2600000.0 - 2610000.0 in 0.220112836361 m\n",
        "did rows"
       ]
      },
      {
       "output_type": "stream",
       "stream": "stdout",
       "text": [
        " 2610000.0 - 2620000.0 in 0.223953413963 m\n",
        "did rows"
       ]
      },
      {
       "output_type": "stream",
       "stream": "stdout",
       "text": [
        " 2620000.0 - 2630000.0 in 0.219218818347 m\n",
        "did rows"
       ]
      },
      {
       "output_type": "stream",
       "stream": "stdout",
       "text": [
        " 2630000.0 - 2640000.0 in 0.212754130363 m\n",
        "did rows"
       ]
      },
      {
       "output_type": "stream",
       "stream": "stdout",
       "text": [
        " 2640000.0 - 2650000.0 in 0.212889432907 m\n",
        "did rows"
       ]
      },
      {
       "output_type": "stream",
       "stream": "stdout",
       "text": [
        " 2650000.0 - 2660000.0 in 0.212120719751 m\n",
        "did rows"
       ]
      },
      {
       "output_type": "stream",
       "stream": "stdout",
       "text": [
        " 2660000.0 - 2670000.0 in 0.219592249393 m\n",
        "did rows"
       ]
      },
      {
       "output_type": "stream",
       "stream": "stdout",
       "text": [
        " 2670000.0 - 2680000.0 in 0.212460915248 m\n",
        "did rows"
       ]
      },
      {
       "output_type": "stream",
       "stream": "stdout",
       "text": [
        " 2680000.0 - 2690000.0 in 0.211400663853 m\n",
        "did rows"
       ]
      },
      {
       "output_type": "stream",
       "stream": "stdout",
       "text": [
        " 2690000.0 - 2700000.0 in 0.213961120447 m\n",
        "did rows"
       ]
      },
      {
       "output_type": "stream",
       "stream": "stdout",
       "text": [
        " 2700000.0 - 2710000.0 in 0.212203717232 m\n",
        "did rows"
       ]
      },
      {
       "output_type": "stream",
       "stream": "stdout",
       "text": [
        " 2710000.0 - 2720000.0 in 0.213481867313 m\n",
        "did rows"
       ]
      },
      {
       "output_type": "stream",
       "stream": "stdout",
       "text": [
        " 2720000.0 - 2730000.0 in 0.212200899919 m\n",
        "did rows"
       ]
      },
      {
       "output_type": "stream",
       "stream": "stdout",
       "text": [
        " 2730000.0 - 2740000.0 in 0.220115482807 m\n",
        "did rows"
       ]
      },
      {
       "output_type": "stream",
       "stream": "stdout",
       "text": [
        " 2740000.0 - 2750000.0 in 0.211914583047 m\n",
        "did rows"
       ]
      },
      {
       "output_type": "stream",
       "stream": "stdout",
       "text": [
        " 2750000.0 - 2760000.0 in 0.204368650913 m\n",
        "did rows"
       ]
      },
      {
       "output_type": "stream",
       "stream": "stdout",
       "text": [
        " 2760000.0 - 2770000.0 in 0.193427268664 m\n",
        "did rows"
       ]
      },
      {
       "output_type": "stream",
       "stream": "stdout",
       "text": [
        " 2770000.0 - 2780000.0 in 0.193476335208 m\n",
        "did rows"
       ]
      },
      {
       "output_type": "stream",
       "stream": "stdout",
       "text": [
        " 2780000.0 - 2790000.0 in 0.194038585822 m\n",
        "did rows"
       ]
      },
      {
       "output_type": "stream",
       "stream": "stdout",
       "text": [
        " 2790000.0 - 2800000.0 in 0.19367133379 m\n",
        "did rows"
       ]
      },
      {
       "output_type": "stream",
       "stream": "stdout",
       "text": [
        " 2800000.0 - 2810000.0 in 0.200352148215 m\n",
        "did rows"
       ]
      },
      {
       "output_type": "stream",
       "stream": "stdout",
       "text": [
        " 2810000.0 - 2820000.0 in 0.194639265537 m\n",
        "did rows"
       ]
      },
      {
       "output_type": "stream",
       "stream": "stdout",
       "text": [
        " 2820000.0 - 2830000.0 in 0.1931346337 m\n",
        "did rows"
       ]
      },
      {
       "output_type": "stream",
       "stream": "stdout",
       "text": [
        " 2830000.0 - 2840000.0 in 0.193278801441 m\n",
        "did rows"
       ]
      },
      {
       "output_type": "stream",
       "stream": "stdout",
       "text": [
        " 2840000.0 - 2850000.0 in 0.191929415862 m\n",
        "did rows"
       ]
      },
      {
       "output_type": "stream",
       "stream": "stdout",
       "text": [
        " 2850000.0 - 2860000.0 in 0.194507483641 m\n",
        "did rows"
       ]
      },
      {
       "output_type": "stream",
       "stream": "stdout",
       "text": [
        " 2860000.0 - 2870000.0 in 0.191740715504 m\n",
        "did rows"
       ]
      },
      {
       "output_type": "stream",
       "stream": "stdout",
       "text": [
        " 2870000.0 - 2880000.0 in 0.200423733393 m\n",
        "did rows"
       ]
      },
      {
       "output_type": "stream",
       "stream": "stdout",
       "text": [
        " 2880000.0 - 2890000.0 in 0.193733914693 m\n",
        "did rows"
       ]
      },
      {
       "output_type": "stream",
       "stream": "stdout",
       "text": [
        " 2890000.0 - 2900000.0 in 0.192944451173 m\n",
        "did rows"
       ]
      },
      {
       "output_type": "stream",
       "stream": "stdout",
       "text": [
        " 2900000.0 - 2910000.0 in 0.194638184706 m\n",
        "did rows"
       ]
      },
      {
       "output_type": "stream",
       "stream": "stdout",
       "text": [
        " 2910000.0 - 2920000.0 in 0.194606836637 m\n",
        "did rows"
       ]
      },
      {
       "output_type": "stream",
       "stream": "stdout",
       "text": [
        " 2920000.0 - 2930000.0 in 0.19264225165 m\n",
        "did rows"
       ]
      },
      {
       "output_type": "stream",
       "stream": "stdout",
       "text": [
        " 2930000.0 - 2940000.0 in 0.191518565019 m\n",
        "did rows"
       ]
      },
      {
       "output_type": "stream",
       "stream": "stdout",
       "text": [
        " 2940000.0 - 2950000.0 in 0.198894369602 m\n",
        "did rows"
       ]
      },
      {
       "output_type": "stream",
       "stream": "stdout",
       "text": [
        " 2950000.0 - 2960000.0 in 0.192433416843 m\n",
        "did rows"
       ]
      },
      {
       "output_type": "stream",
       "stream": "stdout",
       "text": [
        " 2960000.0 - 2970000.0 in 0.194071332614 m\n",
        "did rows"
       ]
      },
      {
       "output_type": "stream",
       "stream": "stdout",
       "text": [
        " 2970000.0 - 2980000.0 in 0.19178981781 m\n",
        "did rows"
       ]
      },
      {
       "output_type": "stream",
       "stream": "stdout",
       "text": [
        " 2980000.0 - 2990000.0 in 0.193717531363 m\n",
        "did rows"
       ]
      },
      {
       "output_type": "stream",
       "stream": "stdout",
       "text": [
        " 2990000.0 - 3000000.0 in 0.193059849739 m\n",
        "did rows"
       ]
      },
      {
       "output_type": "stream",
       "stream": "stdout",
       "text": [
        " 3000000.0 - 3010000.0 in 0.19295646747 m\n",
        "did rows"
       ]
      },
      {
       "output_type": "stream",
       "stream": "stdout",
       "text": [
        " 3010000.0 - 3020000.0 in 0.199552416801 m\n",
        "did rows"
       ]
      },
      {
       "output_type": "stream",
       "stream": "stdout",
       "text": [
        " 3020000.0 - 3030000.0 in 0.191104435921 m\n",
        "did rows"
       ]
      },
      {
       "output_type": "stream",
       "stream": "stdout",
       "text": [
        " 3030000.0 - 3040000.0 in 0.192537399133 m\n",
        "did rows"
       ]
      },
      {
       "output_type": "stream",
       "stream": "stdout",
       "text": [
        " 3040000.0 - 3050000.0 in 0.192859280109 m\n",
        "did rows"
       ]
      },
      {
       "output_type": "stream",
       "stream": "stdout",
       "text": [
        " 3050000.0 - 3060000.0 in 0.192689148585 m\n",
        "did rows"
       ]
      },
      {
       "output_type": "stream",
       "stream": "stdout",
       "text": [
        " 3060000.0 - 3070000.0 in 0.191225516796 m\n",
        "did rows"
       ]
      },
      {
       "output_type": "stream",
       "stream": "stdout",
       "text": [
        " 3070000.0 - 3080000.0 in 0.191576182842 m\n",
        "did rows"
       ]
      },
      {
       "output_type": "stream",
       "stream": "stdout",
       "text": [
        " 3080000.0 - 3090000.0 in 0.198170081774 m\n",
        "did rows"
       ]
      },
      {
       "output_type": "stream",
       "stream": "stdout",
       "text": [
        " 3090000.0 - 3100000.0 in 0.19230603377 m\n",
        "did rows"
       ]
      },
      {
       "output_type": "stream",
       "stream": "stdout",
       "text": [
        " 3100000.0 - 3110000.0 in 0.191504498323 m\n",
        "did rows"
       ]
      },
      {
       "output_type": "stream",
       "stream": "stdout",
       "text": [
        " 3110000.0 - 3120000.0 in 0.19379829963 m\n",
        "did rows"
       ]
      },
      {
       "output_type": "stream",
       "stream": "stdout",
       "text": [
        " 3120000.0 - 3130000.0 in 0.192396847407 m\n",
        "did rows"
       ]
      },
      {
       "output_type": "stream",
       "stream": "stdout",
       "text": [
        " 3130000.0 - 3140000.0 in 0.19304801623 m\n",
        "did rows"
       ]
      },
      {
       "output_type": "stream",
       "stream": "stdout",
       "text": [
        " 3140000.0 - 3150000.0 in 0.192012830575 m\n",
        "did rows"
       ]
      },
      {
       "output_type": "stream",
       "stream": "stdout",
       "text": [
        " 3150000.0 - 3160000.0 in 0.198538684845 m\n",
        "did rows"
       ]
      },
      {
       "output_type": "stream",
       "stream": "stdout",
       "text": [
        " 3160000.0 - 3170000.0 in 0.193553698063 m\n",
        "did rows"
       ]
      },
      {
       "output_type": "stream",
       "stream": "stdout",
       "text": [
        " 3170000.0 - 3180000.0 in 0.193092501163 m\n",
        "did rows"
       ]
      },
      {
       "output_type": "stream",
       "stream": "stdout",
       "text": [
        " 3180000.0 - 3190000.0 in 0.193708984057 m\n",
        "did rows"
       ]
      },
      {
       "output_type": "stream",
       "stream": "stdout",
       "text": [
        " 3190000.0 - 3200000.0 in 0.193531501293 m\n",
        "did rows"
       ]
      },
      {
       "output_type": "stream",
       "stream": "stdout",
       "text": [
        " 3200000.0 - 3210000.0 in 0.192276748021 m\n",
        "did rows"
       ]
      },
      {
       "output_type": "stream",
       "stream": "stdout",
       "text": [
        " 3210000.0 - 3220000.0 in 0.190444397926 m\n",
        "did rows"
       ]
      },
      {
       "output_type": "stream",
       "stream": "stdout",
       "text": [
        " 3220000.0 - 3230000.0 in 0.197011085351 m\n",
        "did rows"
       ]
      },
      {
       "output_type": "stream",
       "stream": "stdout",
       "text": [
        " 3230000.0 - 3240000.0 in 0.191257297993 m\n",
        "did rows"
       ]
      },
      {
       "output_type": "stream",
       "stream": "stdout",
       "text": [
        " 3240000.0 - 3250000.0 in 0.192062580585 m\n",
        "did rows"
       ]
      },
      {
       "output_type": "stream",
       "stream": "stdout",
       "text": [
        " 3250000.0 - 3260000.0 in 0.193141599496 m\n",
        "did rows"
       ]
      },
      {
       "output_type": "stream",
       "stream": "stdout",
       "text": [
        " 3260000.0 - 3270000.0 in 0.192598501841 m\n",
        "did rows"
       ]
      },
      {
       "output_type": "stream",
       "stream": "stdout",
       "text": [
        " 3270000.0 - 3280000.0 in 0.19277575016 m\n",
        "did rows"
       ]
      },
      {
       "output_type": "stream",
       "stream": "stdout",
       "text": [
        " 3280000.0 - 3290000.0 in 0.192340151469 m\n",
        "did rows"
       ]
      },
      {
       "output_type": "stream",
       "stream": "stdout",
       "text": [
        " 3290000.0 - 3300000.0 in 0.199455066522 m\n",
        "did rows"
       ]
      },
      {
       "output_type": "stream",
       "stream": "stdout",
       "text": [
        " 3300000.0 - 3310000.0 in 0.193818982442 m\n",
        "did rows"
       ]
      },
      {
       "output_type": "stream",
       "stream": "stdout",
       "text": [
        " 3310000.0 - 3320000.0 in 0.193201132615 m\n",
        "did rows"
       ]
      },
      {
       "output_type": "stream",
       "stream": "stdout",
       "text": [
        " 3320000.0 - 3330000.0 in 0.195620699724 m\n",
        "did rows"
       ]
      },
      {
       "output_type": "stream",
       "stream": "stdout",
       "text": [
        " 3330000.0 - 3340000.0 in 0.192320950826 m\n",
        "did rows"
       ]
      },
      {
       "output_type": "stream",
       "stream": "stdout",
       "text": [
        " 3340000.0 - 3350000.0 in 0.192694747448 m\n",
        "did rows"
       ]
      },
      {
       "output_type": "stream",
       "stream": "stdout",
       "text": [
        " 3350000.0 - 3360000.0 in 0.193394815922 m\n",
        "did rows"
       ]
      },
      {
       "output_type": "stream",
       "stream": "stdout",
       "text": [
        " 3360000.0 - 3370000.0 in 0.2001030008 m\n",
        "did rows"
       ]
      },
      {
       "output_type": "stream",
       "stream": "stdout",
       "text": [
        " 3370000.0 - 3380000.0 in 0.193670586745 m\n",
        "did rows"
       ]
      },
      {
       "output_type": "stream",
       "stream": "stdout",
       "text": [
        " 3380000.0 - 3390000.0 in 0.191208382448 m\n",
        "did rows"
       ]
      },
      {
       "output_type": "stream",
       "stream": "stdout",
       "text": [
        " 3390000.0 - 3400000.0 in 0.192938085397 m\n",
        "did rows"
       ]
      },
      {
       "output_type": "stream",
       "stream": "stdout",
       "text": [
        " 3400000.0 - 3405402 in 0.104768586159 m\n",
        "done with all rows in 67.9868964831 m\n"
       ]
      }
     ],
     "prompt_number": 50
    },
    {
     "cell_type": "code",
     "collapsed": false,
     "input": [
      "search_df.to_csv('tect_search_df.csv')"
     ],
     "language": "python",
     "metadata": {},
     "outputs": [],
     "prompt_number": 51
    },
    {
     "cell_type": "code",
     "collapsed": false,
     "input": [
      "search_df = pd.read_csv('tect_search_df.csv', index_col=0)"
     ],
     "language": "python",
     "metadata": {},
     "outputs": [],
     "prompt_number": 3
    },
    {
     "cell_type": "code",
     "collapsed": false,
     "input": [
      "iters = search_df.groupby('iter')"
     ],
     "language": "python",
     "metadata": {},
     "outputs": [],
     "prompt_number": 4
    },
    {
     "cell_type": "code",
     "collapsed": false,
     "input": [
      "iters.misfit.mean()"
     ],
     "language": "python",
     "metadata": {},
     "outputs": [
      {
       "metadata": {},
       "output_type": "pyout",
       "prompt_number": 5,
       "text": [
        "iter\n",
        "0        97.086213\n",
        "1        99.177406\n",
        "2        70.842464\n",
        "3       -11.435078\n",
        "4       -67.805142\n",
        "5       -92.216333\n",
        "6      -102.284909\n",
        "7      -100.647550\n",
        "8       -99.536951\n",
        "9       -98.439720\n",
        "10      -97.651832\n",
        "11      113.945058\n",
        "12      120.155117\n",
        "13      104.264473\n",
        "14       15.790137\n",
        "...\n",
        "4836    89.320671\n",
        "4837    89.658248\n",
        "4838    89.995584\n",
        "4839    90.303091\n",
        "4840    90.879491\n",
        "4841    91.195111\n",
        "4842    91.543731\n",
        "4843    91.927464\n",
        "4844    92.347442\n",
        "4845    92.803075\n",
        "4846    93.291004\n",
        "4847    93.803708\n",
        "4848    94.327776\n",
        "4849    94.841966\n",
        "4850    95.315282\n",
        "Name: misfit, Length: 4851, dtype: float64"
       ]
      }
     ],
     "prompt_number": 5
    },
    {
     "cell_type": "code",
     "collapsed": false,
     "input": [
      "search_df[search_df.iter == 4849].tail()"
     ],
     "language": "python",
     "metadata": {},
     "outputs": [
      {
       "html": [
        "<div style=\"max-height:1000px;max-width:1500px;overflow:auto;\">\n",
        "<table border=\"1\" class=\"dataframe\">\n",
        "  <thead>\n",
        "    <tr style=\"text-align: right;\">\n",
        "      <th></th>\n",
        "      <th>iter</th>\n",
        "      <th>tect_xx</th>\n",
        "      <th>tect_yy</th>\n",
        "      <th>tect_xy</th>\n",
        "      <th>pt_index</th>\n",
        "      <th>lat</th>\n",
        "      <th>lon</th>\n",
        "      <th>depth</th>\n",
        "      <th>strike</th>\n",
        "      <th>dip</th>\n",
        "      <th>slip_m</th>\n",
        "      <th>slip_rake</th>\n",
        "      <th>tau_rake</th>\n",
        "      <th>tau_mag</th>\n",
        "      <th>sig_nn</th>\n",
        "      <th>misfit</th>\n",
        "      <th>weighted_misfit</th>\n",
        "    </tr>\n",
        "  </thead>\n",
        "  <tbody>\n",
        "    <tr>\n",
        "      <th>3404695</th>\n",
        "      <td> 4849</td>\n",
        "      <td> 200</td>\n",
        "      <td> 200</td>\n",
        "      <td> 40</td>\n",
        "      <td> 697</td>\n",
        "      <td> 31.2606</td>\n",
        "      <td> 103.7481</td>\n",
        "      <td>  9.8035</td>\n",
        "      <td> 222</td>\n",
        "      <td> 33</td>\n",
        "      <td> 0.3133</td>\n",
        "      <td> -0.000000</td>\n",
        "      <td>-92.373389</td>\n",
        "      <td> 109.182292</td>\n",
        "      <td> 71.895820</td>\n",
        "      <td> 92.373389</td>\n",
        "      <td>-28.940583</td>\n",
        "    </tr>\n",
        "    <tr>\n",
        "      <th>3404696</th>\n",
        "      <td> 4849</td>\n",
        "      <td> 200</td>\n",
        "      <td> 200</td>\n",
        "      <td> 40</td>\n",
        "      <td> 698</td>\n",
        "      <td> 31.2806</td>\n",
        "      <td> 103.7218</td>\n",
        "      <td> 11.9821</td>\n",
        "      <td> 222</td>\n",
        "      <td> 33</td>\n",
        "      <td> 0.1875</td>\n",
        "      <td>  0.611132</td>\n",
        "      <td>-91.257258</td>\n",
        "      <td> 113.223664</td>\n",
        "      <td> 69.498200</td>\n",
        "      <td> 91.868390</td>\n",
        "      <td>-17.110736</td>\n",
        "    </tr>\n",
        "    <tr>\n",
        "      <th>3404697</th>\n",
        "      <td> 4849</td>\n",
        "      <td> 200</td>\n",
        "      <td> 200</td>\n",
        "      <td> 40</td>\n",
        "      <td> 699</td>\n",
        "      <td> 31.3007</td>\n",
        "      <td> 103.6955</td>\n",
        "      <td> 14.1606</td>\n",
        "      <td> 222</td>\n",
        "      <td> 33</td>\n",
        "      <td> 0.0897</td>\n",
        "      <td>  5.500882</td>\n",
        "      <td>-85.636257</td>\n",
        "      <td> 115.215870</td>\n",
        "      <td> 67.483046</td>\n",
        "      <td> 91.137139</td>\n",
        "      <td> -7.681572</td>\n",
        "    </tr>\n",
        "    <tr>\n",
        "      <th>3404698</th>\n",
        "      <td> 4849</td>\n",
        "      <td> 200</td>\n",
        "      <td> 200</td>\n",
        "      <td> 40</td>\n",
        "      <td> 700</td>\n",
        "      <td> 31.3208</td>\n",
        "      <td> 103.6691</td>\n",
        "      <td> 16.3392</td>\n",
        "      <td> 222</td>\n",
        "      <td> 33</td>\n",
        "      <td> 0.0420</td>\n",
        "      <td> 23.879371</td>\n",
        "      <td>-66.409235</td>\n",
        "      <td> 116.068012</td>\n",
        "      <td> 66.616874</td>\n",
        "      <td> 90.288606</td>\n",
        "      <td> -2.789188</td>\n",
        "    </tr>\n",
        "    <tr>\n",
        "      <th>3404699</th>\n",
        "      <td> 4849</td>\n",
        "      <td> 200</td>\n",
        "      <td> 200</td>\n",
        "      <td> 40</td>\n",
        "      <td> 701</td>\n",
        "      <td> 31.3409</td>\n",
        "      <td> 103.6428</td>\n",
        "      <td> 18.5177</td>\n",
        "      <td> 222</td>\n",
        "      <td> 33</td>\n",
        "      <td> 0.0259</td>\n",
        "      <td> 48.439870</td>\n",
        "      <td>-41.011509</td>\n",
        "      <td> 116.950421</td>\n",
        "      <td> 66.539237</td>\n",
        "      <td> 89.451379</td>\n",
        "      <td> -1.062198</td>\n",
        "    </tr>\n",
        "  </tbody>\n",
        "</table>\n",
        "<p>5 rows \u00d7 17 columns</p>\n",
        "</div>"
       ],
       "metadata": {},
       "output_type": "pyout",
       "prompt_number": 7,
       "text": [
        "         iter  tect_xx  tect_yy  tect_xy  pt_index      lat       lon  \\\n",
        "3404695  4849      200      200       40       697  31.2606  103.7481   \n",
        "3404696  4849      200      200       40       698  31.2806  103.7218   \n",
        "3404697  4849      200      200       40       699  31.3007  103.6955   \n",
        "3404698  4849      200      200       40       700  31.3208  103.6691   \n",
        "3404699  4849      200      200       40       701  31.3409  103.6428   \n",
        "\n",
        "           depth  strike  dip  slip_m  slip_rake   tau_rake     tau_mag  \\\n",
        "3404695   9.8035     222   33  0.3133  -0.000000 -92.373389  109.182292   \n",
        "3404696  11.9821     222   33  0.1875   0.611132 -91.257258  113.223664   \n",
        "3404697  14.1606     222   33  0.0897   5.500882 -85.636257  115.215870   \n",
        "3404698  16.3392     222   33  0.0420  23.879371 -66.409235  116.068012   \n",
        "3404699  18.5177     222   33  0.0259  48.439870 -41.011509  116.950421   \n",
        "\n",
        "            sig_nn     misfit  weighted_misfit  \n",
        "3404695  71.895820  92.373389       -28.940583  \n",
        "3404696  69.498200  91.868390       -17.110736  \n",
        "3404697  67.483046  91.137139        -7.681572  \n",
        "3404698  66.616874  90.288606        -2.789188  \n",
        "3404699  66.539237  89.451379        -1.062198  \n",
        "\n",
        "[5 rows x 17 columns]"
       ]
      }
     ],
     "prompt_number": 7
    },
    {
     "cell_type": "code",
     "collapsed": false,
     "input": [
      "iters.describe()"
     ],
     "language": "python",
     "metadata": {},
     "outputs": [
      {
       "html": [
        "<div style=\"max-height:1000px;max-width:1500px;overflow:auto;\">\n",
        "<table border=\"1\" class=\"dataframe\">\n",
        "  <thead>\n",
        "    <tr style=\"text-align: right;\">\n",
        "      <th></th>\n",
        "      <th></th>\n",
        "      <th>iter</th>\n",
        "      <th>tect_xx</th>\n",
        "      <th>tect_yy</th>\n",
        "      <th>tect_xy</th>\n",
        "      <th>pt_index</th>\n",
        "      <th>lat</th>\n",
        "      <th>lon</th>\n",
        "      <th>depth</th>\n",
        "      <th>strike</th>\n",
        "      <th>dip</th>\n",
        "      <th>slip_m</th>\n",
        "      <th>slip_rake</th>\n",
        "      <th>tau_rake</th>\n",
        "      <th>tau_mag</th>\n",
        "      <th>sig_nn</th>\n",
        "      <th>misfit</th>\n",
        "      <th>weighted_misfit</th>\n",
        "    </tr>\n",
        "    <tr>\n",
        "      <th>iter</th>\n",
        "      <th></th>\n",
        "      <th></th>\n",
        "      <th></th>\n",
        "      <th></th>\n",
        "      <th></th>\n",
        "      <th></th>\n",
        "      <th></th>\n",
        "      <th></th>\n",
        "      <th></th>\n",
        "      <th></th>\n",
        "      <th></th>\n",
        "      <th></th>\n",
        "      <th></th>\n",
        "      <th></th>\n",
        "      <th></th>\n",
        "      <th></th>\n",
        "      <th></th>\n",
        "      <th></th>\n",
        "    </tr>\n",
        "  </thead>\n",
        "  <tbody>\n",
        "    <tr>\n",
        "      <th rowspan=\"8\" valign=\"top\">0</th>\n",
        "      <th>count</th>\n",
        "      <td> 702</td>\n",
        "      <td> 702</td>\n",
        "      <td> 702</td>\n",
        "      <td> 702</td>\n",
        "      <td> 702.000000</td>\n",
        "      <td> 702.000000</td>\n",
        "      <td> 702.000000</td>\n",
        "      <td> 702.000000</td>\n",
        "      <td> 702.000000</td>\n",
        "      <td> 702.000000</td>\n",
        "      <td> 702.000000</td>\n",
        "      <td> 702.000000</td>\n",
        "      <td> 702.000000</td>\n",
        "      <td> 702.000000</td>\n",
        "      <td> 702.000000</td>\n",
        "      <td> 702.000000</td>\n",
        "      <td>  702.000000</td>\n",
        "    </tr>\n",
        "    <tr>\n",
        "      <th>mean</th>\n",
        "      <td>   0</td>\n",
        "      <td>   0</td>\n",
        "      <td>   0</td>\n",
        "      <td> -50</td>\n",
        "      <td> 350.500000</td>\n",
        "      <td>  31.728682</td>\n",
        "      <td> 104.192177</td>\n",
        "      <td>  14.351731</td>\n",
        "      <td> 224.638177</td>\n",
        "      <td>  56.772080</td>\n",
        "      <td>   2.358513</td>\n",
        "      <td>  40.310358</td>\n",
        "      <td> -56.775855</td>\n",
        "      <td>  79.105625</td>\n",
        "      <td>  13.897173</td>\n",
        "      <td>  97.086213</td>\n",
        "      <td> -134.251657</td>\n",
        "    </tr>\n",
        "    <tr>\n",
        "      <th>std</th>\n",
        "      <td>   0</td>\n",
        "      <td>   0</td>\n",
        "      <td>   0</td>\n",
        "      <td>   0</td>\n",
        "      <td> 202.794231</td>\n",
        "      <td>   0.452899</td>\n",
        "      <td>   0.581252</td>\n",
        "      <td>   8.542828</td>\n",
        "      <td>   5.646518</td>\n",
        "      <td>  16.212195</td>\n",
        "      <td>   2.113501</td>\n",
        "      <td>  59.431915</td>\n",
        "      <td>  69.415796</td>\n",
        "      <td>  16.338022</td>\n",
        "      <td>   6.817459</td>\n",
        "      <td>  36.565665</td>\n",
        "      <td>  179.506249</td>\n",
        "    </tr>\n",
        "    <tr>\n",
        "      <th>min</th>\n",
        "      <td>   0</td>\n",
        "      <td>   0</td>\n",
        "      <td>   0</td>\n",
        "      <td> -50</td>\n",
        "      <td>   0.000000</td>\n",
        "      <td>  30.934100</td>\n",
        "      <td> 103.199500</td>\n",
        "      <td>   1.089300</td>\n",
        "      <td> 222.000000</td>\n",
        "      <td>  33.000000</td>\n",
        "      <td>   0.000000</td>\n",
        "      <td>-180.000000</td>\n",
        "      <td>-328.265397</td>\n",
        "      <td>  14.750335</td>\n",
        "      <td>   2.500031</td>\n",
        "      <td>  -6.458759</td>\n",
        "      <td> -783.207469</td>\n",
        "    </tr>\n",
        "    <tr>\n",
        "      <th>25%</th>\n",
        "      <td>   0</td>\n",
        "      <td>   0</td>\n",
        "      <td>   0</td>\n",
        "      <td> -50</td>\n",
        "      <td> 175.250000</td>\n",
        "      <td>  31.363450</td>\n",
        "      <td> 103.747350</td>\n",
        "      <td>   7.496400</td>\n",
        "      <td> 222.000000</td>\n",
        "      <td>  47.000000</td>\n",
        "      <td>   0.462550</td>\n",
        "      <td>  21.007193</td>\n",
        "      <td> -86.220020</td>\n",
        "      <td>  75.437706</td>\n",
        "      <td>   9.310848</td>\n",
        "      <td>  93.228448</td>\n",
        "      <td> -227.785103</td>\n",
        "    </tr>\n",
        "    <tr>\n",
        "      <th>50%</th>\n",
        "      <td>   0</td>\n",
        "      <td>   0</td>\n",
        "      <td>   0</td>\n",
        "      <td> -50</td>\n",
        "      <td> 350.500000</td>\n",
        "      <td>  31.648400</td>\n",
        "      <td> 104.031700</td>\n",
        "      <td>  13.640400</td>\n",
        "      <td> 222.000000</td>\n",
        "      <td>  47.000000</td>\n",
        "      <td>   2.001200</td>\n",
        "      <td>  50.300109</td>\n",
        "      <td> -58.956622</td>\n",
        "      <td>  80.599226</td>\n",
        "      <td>  12.540195</td>\n",
        "      <td> 100.872013</td>\n",
        "      <td>  -62.957776</td>\n",
        "    </tr>\n",
        "    <tr>\n",
        "      <th>75%</th>\n",
        "      <td>   0</td>\n",
        "      <td>   0</td>\n",
        "      <td>   0</td>\n",
        "      <td> -50</td>\n",
        "      <td> 525.750000</td>\n",
        "      <td>  32.105975</td>\n",
        "      <td> 104.657975</td>\n",
        "      <td>  21.665800</td>\n",
        "      <td> 222.000000</td>\n",
        "      <td>  70.000000</td>\n",
        "      <td>   3.583900</td>\n",
        "      <td>  82.319654</td>\n",
        "      <td> -20.999520</td>\n",
        "      <td>  88.983169</td>\n",
        "      <td>  17.030742</td>\n",
        "      <td> 127.930025</td>\n",
        "      <td>   -2.326571</td>\n",
        "    </tr>\n",
        "    <tr>\n",
        "      <th>max</th>\n",
        "      <td>   0</td>\n",
        "      <td>   0</td>\n",
        "      <td>   0</td>\n",
        "      <td> -50</td>\n",
        "      <td> 701.000000</td>\n",
        "      <td>  32.634100</td>\n",
        "      <td> 105.381000</td>\n",
        "      <td>  29.544200</td>\n",
        "      <td> 245.000000</td>\n",
        "      <td>  80.000000</td>\n",
        "      <td>   9.186700</td>\n",
        "      <td>  90.000000</td>\n",
        "      <td>  96.458759</td>\n",
        "      <td> 106.335873</td>\n",
        "      <td>  32.179190</td>\n",
        "      <td> 161.266653</td>\n",
        "      <td>  128.637144</td>\n",
        "    </tr>\n",
        "    <tr>\n",
        "      <th rowspan=\"8\" valign=\"top\">1</th>\n",
        "      <th>count</th>\n",
        "      <td> 702</td>\n",
        "      <td> 702</td>\n",
        "      <td> 702</td>\n",
        "      <td> 702</td>\n",
        "      <td> 702.000000</td>\n",
        "      <td> 702.000000</td>\n",
        "      <td> 702.000000</td>\n",
        "      <td> 702.000000</td>\n",
        "      <td> 702.000000</td>\n",
        "      <td> 702.000000</td>\n",
        "      <td> 702.000000</td>\n",
        "      <td> 702.000000</td>\n",
        "      <td> 702.000000</td>\n",
        "      <td> 702.000000</td>\n",
        "      <td> 702.000000</td>\n",
        "      <td> 702.000000</td>\n",
        "      <td>  702.000000</td>\n",
        "    </tr>\n",
        "    <tr>\n",
        "      <th>mean</th>\n",
        "      <td>   1</td>\n",
        "      <td>   0</td>\n",
        "      <td>   0</td>\n",
        "      <td> -40</td>\n",
        "      <td> 350.500000</td>\n",
        "      <td>  31.728682</td>\n",
        "      <td> 104.192177</td>\n",
        "      <td>  14.351731</td>\n",
        "      <td> 224.638177</td>\n",
        "      <td>  56.772080</td>\n",
        "      <td>   2.358513</td>\n",
        "      <td>  40.310358</td>\n",
        "      <td> -58.867048</td>\n",
        "      <td>  72.568106</td>\n",
        "      <td>  10.068742</td>\n",
        "      <td>  99.177406</td>\n",
        "      <td> -143.209296</td>\n",
        "    </tr>\n",
        "    <tr>\n",
        "      <th>std</th>\n",
        "      <td>   0</td>\n",
        "      <td>   0</td>\n",
        "      <td>   0</td>\n",
        "      <td>   0</td>\n",
        "      <td> 202.794231</td>\n",
        "      <td>   0.452899</td>\n",
        "      <td>   0.581252</td>\n",
        "      <td>   8.542828</td>\n",
        "      <td>   5.646518</td>\n",
        "      <td>  16.212195</td>\n",
        "      <td>   2.113501</td>\n",
        "      <td>  59.431915</td>\n",
        "      <td>  74.593864</td>\n",
        "      <td>  16.412654</td>\n",
        "      <td>   5.981360</td>\n",
        "      <td>  49.715937</td>\n",
        "      <td>  205.389389</td>\n",
        "    </tr>\n",
        "    <tr>\n",
        "      <th>min</th>\n",
        "      <td>   1</td>\n",
        "      <td>   0</td>\n",
        "      <td>   0</td>\n",
        "      <td> -40</td>\n",
        "      <td>   0.000000</td>\n",
        "      <td>  30.934100</td>\n",
        "      <td> 103.199500</td>\n",
        "      <td>   1.089300</td>\n",
        "      <td> 222.000000</td>\n",
        "      <td>  33.000000</td>\n",
        "      <td>   0.000000</td>\n",
        "      <td>-180.000000</td>\n",
        "      <td>-354.609456</td>\n",
        "      <td>  11.800268</td>\n",
        "      <td>   1.690214</td>\n",
        "      <td>-178.863655</td>\n",
        "      <td> -840.214673</td>\n",
        "    </tr>\n",
        "    <tr>\n",
        "      <th>25%</th>\n",
        "      <td>   1</td>\n",
        "      <td>   0</td>\n",
        "      <td>   0</td>\n",
        "      <td> -40</td>\n",
        "      <td> 175.250000</td>\n",
        "      <td>  31.363450</td>\n",
        "      <td> 103.747350</td>\n",
        "      <td>   7.496400</td>\n",
        "      <td> 222.000000</td>\n",
        "      <td>  47.000000</td>\n",
        "      <td>   0.462550</td>\n",
        "      <td>  21.007193</td>\n",
        "      <td> -90.305266</td>\n",
        "      <td>  67.019370</td>\n",
        "      <td>   5.576804</td>\n",
        "      <td>  92.746452</td>\n",
        "      <td> -248.257521</td>\n",
        "    </tr>\n",
        "    <tr>\n",
        "      <th>50%</th>\n",
        "      <td>   1</td>\n",
        "      <td>   0</td>\n",
        "      <td>   0</td>\n",
        "      <td> -40</td>\n",
        "      <td> 350.500000</td>\n",
        "      <td>  31.648400</td>\n",
        "      <td> 104.031700</td>\n",
        "      <td>  13.640400</td>\n",
        "      <td> 222.000000</td>\n",
        "      <td>  47.000000</td>\n",
        "      <td>   2.001200</td>\n",
        "      <td>  50.300109</td>\n",
        "      <td> -64.887306</td>\n",
        "      <td>  72.699068</td>\n",
        "      <td>   8.800124</td>\n",
        "      <td> 103.065947</td>\n",
        "      <td>  -72.806038</td>\n",
        "    </tr>\n",
        "    <tr>\n",
        "      <th>75%</th>\n",
        "      <td>   1</td>\n",
        "      <td>   0</td>\n",
        "      <td>   0</td>\n",
        "      <td> -40</td>\n",
        "      <td> 525.750000</td>\n",
        "      <td>  32.105975</td>\n",
        "      <td> 104.657975</td>\n",
        "      <td>  21.665800</td>\n",
        "      <td> 222.000000</td>\n",
        "      <td>  70.000000</td>\n",
        "      <td>   3.583900</td>\n",
        "      <td>  82.319654</td>\n",
        "      <td> -28.089367</td>\n",
        "      <td>  83.663688</td>\n",
        "      <td>  13.287472</td>\n",
        "      <td> 137.965821</td>\n",
        "      <td>   -3.305423</td>\n",
        "    </tr>\n",
        "    <tr>\n",
        "      <th>max</th>\n",
        "      <td>   1</td>\n",
        "      <td>   0</td>\n",
        "      <td>   0</td>\n",
        "      <td> -40</td>\n",
        "      <td> 701.000000</td>\n",
        "      <td>  32.634100</td>\n",
        "      <td> 105.381000</td>\n",
        "      <td>  29.544200</td>\n",
        "      <td> 245.000000</td>\n",
        "      <td>  80.000000</td>\n",
        "      <td>   9.186700</td>\n",
        "      <td>  90.000000</td>\n",
        "      <td> 220.749449</td>\n",
        "      <td> 101.016392</td>\n",
        "      <td>  26.189093</td>\n",
        "      <td> 178.223063</td>\n",
        "      <td> 1025.683595</td>\n",
        "    </tr>\n",
        "    <tr>\n",
        "      <th rowspan=\"8\" valign=\"top\">2</th>\n",
        "      <th>count</th>\n",
        "      <td> 702</td>\n",
        "      <td> 702</td>\n",
        "      <td> 702</td>\n",
        "      <td> 702</td>\n",
        "      <td> 702.000000</td>\n",
        "      <td> 702.000000</td>\n",
        "      <td> 702.000000</td>\n",
        "      <td> 702.000000</td>\n",
        "      <td> 702.000000</td>\n",
        "      <td> 702.000000</td>\n",
        "      <td> 702.000000</td>\n",
        "      <td> 702.000000</td>\n",
        "      <td> 702.000000</td>\n",
        "      <td> 702.000000</td>\n",
        "      <td> 702.000000</td>\n",
        "      <td> 702.000000</td>\n",
        "      <td>  702.000000</td>\n",
        "    </tr>\n",
        "    <tr>\n",
        "      <th>mean</th>\n",
        "      <td>   2</td>\n",
        "      <td>   0</td>\n",
        "      <td>   0</td>\n",
        "      <td> -30</td>\n",
        "      <td> 350.500000</td>\n",
        "      <td>  31.728682</td>\n",
        "      <td> 104.192177</td>\n",
        "      <td>  14.351731</td>\n",
        "      <td> 224.638177</td>\n",
        "      <td>  56.772080</td>\n",
        "      <td>   2.358513</td>\n",
        "      <td>  40.310358</td>\n",
        "      <td> -30.532106</td>\n",
        "      <td>  66.030587</td>\n",
        "      <td>   6.870885</td>\n",
        "      <td>  70.842464</td>\n",
        "      <td>  -87.496739</td>\n",
        "    </tr>\n",
        "    <tr>\n",
        "      <th>std</th>\n",
        "      <td>   0</td>\n",
        "      <td>   0</td>\n",
        "      <td>   0</td>\n",
        "      <td>   0</td>\n",
        "      <td> 202.794231</td>\n",
        "      <td>   0.452899</td>\n",
        "      <td>   0.581252</td>\n",
        "      <td>   8.542828</td>\n",
        "      <td>   5.646518</td>\n",
        "      <td>  16.212195</td>\n",
        "      <td>   2.113501</td>\n",
        "      <td>  59.431915</td>\n",
        "      <td> 119.303685</td>\n",
        "      <td>  16.810960</td>\n",
        "      <td>   4.982499</td>\n",
        "      <td> 102.100325</td>\n",
        "      <td>  312.128839</td>\n",
        "    </tr>\n",
        "    <tr>\n",
        "      <th>min</th>\n",
        "      <td>   2</td>\n",
        "      <td>   0</td>\n",
        "      <td>   0</td>\n",
        "      <td> -30</td>\n",
        "      <td>   0.000000</td>\n",
        "      <td>  30.934100</td>\n",
        "      <td> 103.199500</td>\n",
        "      <td>   1.089300</td>\n",
        "      <td> 222.000000</td>\n",
        "      <td>  33.000000</td>\n",
        "      <td>   0.000000</td>\n",
        "      <td>-180.000000</td>\n",
        "      <td>-338.373808</td>\n",
        "      <td>   8.850201</td>\n",
        "      <td>   0.054317</td>\n",
        "      <td>-179.993400</td>\n",
        "      <td> -985.563951</td>\n",
        "    </tr>\n",
        "    <tr>\n",
        "      <th>25%</th>\n",
        "      <td>   2</td>\n",
        "      <td>   0</td>\n",
        "      <td>   0</td>\n",
        "      <td> -30</td>\n",
        "      <td> 175.250000</td>\n",
        "      <td>  31.363450</td>\n",
        "      <td> 103.747350</td>\n",
        "      <td>   7.496400</td>\n",
        "      <td> 222.000000</td>\n",
        "      <td>  47.000000</td>\n",
        "      <td>   0.462550</td>\n",
        "      <td>  21.007193</td>\n",
        "      <td> -93.272607</td>\n",
        "      <td>  58.471910</td>\n",
        "      <td>   2.817407</td>\n",
        "      <td>  12.100944</td>\n",
        "      <td> -242.129015</td>\n",
        "    </tr>\n",
        "    <tr>\n",
        "      <th>50%</th>\n",
        "      <td>   2</td>\n",
        "      <td>   0</td>\n",
        "      <td>   0</td>\n",
        "      <td> -30</td>\n",
        "      <td> 350.500000</td>\n",
        "      <td>  31.648400</td>\n",
        "      <td> 104.031700</td>\n",
        "      <td>  13.640400</td>\n",
        "      <td> 222.000000</td>\n",
        "      <td>  47.000000</td>\n",
        "      <td>   2.001200</td>\n",
        "      <td>  50.300109</td>\n",
        "      <td> -72.902901</td>\n",
        "      <td>  64.845448</td>\n",
        "      <td>   5.554662</td>\n",
        "      <td> 104.287603</td>\n",
        "      <td>  -70.202007</td>\n",
        "    </tr>\n",
        "    <tr>\n",
        "      <th>75%</th>\n",
        "      <td>   2</td>\n",
        "      <td>   0</td>\n",
        "      <td>   0</td>\n",
        "      <td> -30</td>\n",
        "      <td> 525.750000</td>\n",
        "      <td>  32.105975</td>\n",
        "      <td> 104.657975</td>\n",
        "      <td>  21.665800</td>\n",
        "      <td> 222.000000</td>\n",
        "      <td>  70.000000</td>\n",
        "      <td>   3.583900</td>\n",
        "      <td>  82.319654</td>\n",
        "      <td>  10.248052</td>\n",
        "      <td>  78.985913</td>\n",
        "      <td>   9.710959</td>\n",
        "      <td> 146.518768</td>\n",
        "      <td>    0.278110</td>\n",
        "    </tr>\n",
        "    <tr>\n",
        "      <th>max</th>\n",
        "      <td>   2</td>\n",
        "      <td>   0</td>\n",
        "      <td>   0</td>\n",
        "      <td> -30</td>\n",
        "      <td> 701.000000</td>\n",
        "      <td>  32.634100</td>\n",
        "      <td> 105.381000</td>\n",
        "      <td>  29.544200</td>\n",
        "      <td> 245.000000</td>\n",
        "      <td>  80.000000</td>\n",
        "      <td>   9.186700</td>\n",
        "      <td>  90.000000</td>\n",
        "      <td> 269.844796</td>\n",
        "      <td>  95.696911</td>\n",
        "      <td>  20.499248</td>\n",
        "      <td> 179.694481</td>\n",
        "      <td> 1181.864878</td>\n",
        "    </tr>\n",
        "    <tr>\n",
        "      <th rowspan=\"8\" valign=\"top\">3</th>\n",
        "      <th>count</th>\n",
        "      <td> 702</td>\n",
        "      <td> 702</td>\n",
        "      <td> 702</td>\n",
        "      <td> 702</td>\n",
        "      <td> 702.000000</td>\n",
        "      <td> 702.000000</td>\n",
        "      <td> 702.000000</td>\n",
        "      <td> 702.000000</td>\n",
        "      <td> 702.000000</td>\n",
        "      <td> 702.000000</td>\n",
        "      <td> 702.000000</td>\n",
        "      <td> 702.000000</td>\n",
        "      <td> 702.000000</td>\n",
        "      <td> 702.000000</td>\n",
        "      <td> 702.000000</td>\n",
        "      <td> 702.000000</td>\n",
        "      <td>  702.000000</td>\n",
        "    </tr>\n",
        "    <tr>\n",
        "      <th>mean</th>\n",
        "      <td>   3</td>\n",
        "      <td>   0</td>\n",
        "      <td>   0</td>\n",
        "      <td> -20</td>\n",
        "      <td> 350.500000</td>\n",
        "      <td>  31.728682</td>\n",
        "      <td> 104.192177</td>\n",
        "      <td>  14.351731</td>\n",
        "      <td> 224.638177</td>\n",
        "      <td>  56.772080</td>\n",
        "      <td>   2.358513</td>\n",
        "      <td>  40.310358</td>\n",
        "      <td>  51.745436</td>\n",
        "      <td>  59.493067</td>\n",
        "      <td>   5.872685</td>\n",
        "      <td> -11.435078</td>\n",
        "      <td>   91.699396</td>\n",
        "    </tr>\n",
        "    <tr>\n",
        "      <th>std</th>\n",
        "      <td>   0</td>\n",
        "      <td>   0</td>\n",
        "      <td>   0</td>\n",
        "      <td>   0</td>\n",
        "      <td> 202.794231</td>\n",
        "      <td>   0.452899</td>\n",
        "      <td>   0.581252</td>\n",
        "      <td>   8.542828</td>\n",
        "      <td>   5.646518</td>\n",
        "      <td>  16.212195</td>\n",
        "      <td>   2.113501</td>\n",
        "      <td>  59.431915</td>\n",
        "      <td> 148.936255</td>\n",
        "      <td>  17.510865</td>\n",
        "      <td>   3.122437</td>\n",
        "      <td> 124.293798</td>\n",
        "      <td>  419.044185</td>\n",
        "    </tr>\n",
        "    <tr>\n",
        "      <th>min</th>\n",
        "      <td>   3</td>\n",
        "      <td>   0</td>\n",
        "      <td>   0</td>\n",
        "      <td> -20</td>\n",
        "      <td>   0.000000</td>\n",
        "      <td>  30.934100</td>\n",
        "      <td> 103.199500</td>\n",
        "      <td>   1.089300</td>\n",
        "      <td> 222.000000</td>\n",
        "      <td>  33.000000</td>\n",
        "      <td>   0.000000</td>\n",
        "      <td>-180.000000</td>\n",
        "      <td>-359.958435</td>\n",
        "      <td>   5.900134</td>\n",
        "      <td>   0.200295</td>\n",
        "      <td>-179.875338</td>\n",
        "      <td>-1170.588575</td>\n",
        "    </tr>\n",
        "    <tr>\n",
        "      <th>25%</th>\n",
        "      <td>   3</td>\n",
        "      <td>   0</td>\n",
        "      <td>   0</td>\n",
        "      <td> -20</td>\n",
        "      <td> 175.250000</td>\n",
        "      <td>  31.363450</td>\n",
        "      <td> 103.747350</td>\n",
        "      <td>   7.496400</td>\n",
        "      <td> 222.000000</td>\n",
        "      <td>  47.000000</td>\n",
        "      <td>   0.462550</td>\n",
        "      <td>  21.007193</td>\n",
        "      <td> -90.283992</td>\n",
        "      <td>  49.569040</td>\n",
        "      <td>   3.520834</td>\n",
        "      <td>-118.036315</td>\n",
        "      <td> -116.154914</td>\n",
        "    </tr>\n",
        "    <tr>\n",
        "      <th>50%</th>\n",
        "      <td>   3</td>\n",
        "      <td>   0</td>\n",
        "      <td>   0</td>\n",
        "      <td> -20</td>\n",
        "      <td> 350.500000</td>\n",
        "      <td>  31.648400</td>\n",
        "      <td> 104.031700</td>\n",
        "      <td>  13.640400</td>\n",
        "      <td> 222.000000</td>\n",
        "      <td>  47.000000</td>\n",
        "      <td>   2.001200</td>\n",
        "      <td>  50.300109</td>\n",
        "      <td>  89.568971</td>\n",
        "      <td>  57.366745</td>\n",
        "      <td>   5.194991</td>\n",
        "      <td> -72.258933</td>\n",
        "      <td>   17.522198</td>\n",
        "    </tr>\n",
        "    <tr>\n",
        "      <th>75%</th>\n",
        "      <td>   3</td>\n",
        "      <td>   0</td>\n",
        "      <td>   0</td>\n",
        "      <td> -20</td>\n",
        "      <td> 525.750000</td>\n",
        "      <td>  32.105975</td>\n",
        "      <td> 104.657975</td>\n",
        "      <td>  21.665800</td>\n",
        "      <td> 222.000000</td>\n",
        "      <td>  70.000000</td>\n",
        "      <td>   3.583900</td>\n",
        "      <td>  82.319654</td>\n",
        "      <td> 186.626777</td>\n",
        "      <td>  74.382901</td>\n",
        "      <td>   7.969312</td>\n",
        "      <td> 107.722204</td>\n",
        "      <td>  343.066135</td>\n",
        "    </tr>\n",
        "    <tr>\n",
        "      <th>max</th>\n",
        "      <td>   3</td>\n",
        "      <td>   0</td>\n",
        "      <td>   0</td>\n",
        "      <td> -20</td>\n",
        "      <td> 701.000000</td>\n",
        "      <td>  32.634100</td>\n",
        "      <td> 105.381000</td>\n",
        "      <td>  29.544200</td>\n",
        "      <td> 245.000000</td>\n",
        "      <td>  80.000000</td>\n",
        "      <td>   9.186700</td>\n",
        "      <td>  90.000000</td>\n",
        "      <td> 269.507808</td>\n",
        "      <td>  90.377430</td>\n",
        "      <td>  15.445130</td>\n",
        "      <td> 179.958435</td>\n",
        "      <td> 1749.235553</td>\n",
        "    </tr>\n",
        "    <tr>\n",
        "      <th rowspan=\"8\" valign=\"top\">4</th>\n",
        "      <th>count</th>\n",
        "      <td> 702</td>\n",
        "      <td> 702</td>\n",
        "      <td> 702</td>\n",
        "      <td> 702</td>\n",
        "      <td> 702.000000</td>\n",
        "      <td> 702.000000</td>\n",
        "      <td> 702.000000</td>\n",
        "      <td> 702.000000</td>\n",
        "      <td> 702.000000</td>\n",
        "      <td> 702.000000</td>\n",
        "      <td> 702.000000</td>\n",
        "      <td> 702.000000</td>\n",
        "      <td> 702.000000</td>\n",
        "      <td> 702.000000</td>\n",
        "      <td> 702.000000</td>\n",
        "      <td> 702.000000</td>\n",
        "      <td>  702.000000</td>\n",
        "    </tr>\n",
        "    <tr>\n",
        "      <th>mean</th>\n",
        "      <td>   4</td>\n",
        "      <td>   0</td>\n",
        "      <td>   0</td>\n",
        "      <td> -10</td>\n",
        "      <td> 350.500000</td>\n",
        "      <td>  31.728682</td>\n",
        "      <td> 104.192177</td>\n",
        "      <td>  14.351731</td>\n",
        "      <td> 224.638177</td>\n",
        "      <td>  56.772080</td>\n",
        "      <td>   2.358513</td>\n",
        "      <td>  40.310358</td>\n",
        "      <td> 108.115500</td>\n",
        "      <td>  52.955548</td>\n",
        "      <td>   6.850151</td>\n",
        "      <td> -67.805142</td>\n",
        "      <td>  262.317792</td>\n",
        "    </tr>\n",
        "    <tr>\n",
        "      <th>std</th>\n",
        "      <td>   0</td>\n",
        "      <td>   0</td>\n",
        "      <td>   0</td>\n",
        "      <td>   0</td>\n",
        "      <td> 202.794231</td>\n",
        "      <td>   0.452899</td>\n",
        "      <td>   0.581252</td>\n",
        "      <td>   8.542828</td>\n",
        "      <td>   5.646518</td>\n",
        "      <td>  16.212195</td>\n",
        "      <td>   2.113501</td>\n",
        "      <td>  59.431915</td>\n",
        "      <td> 120.965466</td>\n",
        "      <td>  18.478130</td>\n",
        "      <td>   2.620297</td>\n",
        "      <td>  96.514208</td>\n",
        "      <td>  409.434206</td>\n",
        "    </tr>\n",
        "    <tr>\n",
        "      <th>min</th>\n",
        "      <td>   4</td>\n",
        "      <td>   0</td>\n",
        "      <td>   0</td>\n",
        "      <td> -10</td>\n",
        "      <td>   0.000000</td>\n",
        "      <td>  30.934100</td>\n",
        "      <td> 103.199500</td>\n",
        "      <td>   1.089300</td>\n",
        "      <td> 222.000000</td>\n",
        "      <td>  33.000000</td>\n",
        "      <td>   0.000000</td>\n",
        "      <td>-180.000000</td>\n",
        "      <td>-177.081908</td>\n",
        "      <td>   2.950067</td>\n",
        "      <td>   0.637328</td>\n",
        "      <td>-179.188470</td>\n",
        "      <td>-1004.630347</td>\n",
        "    </tr>\n",
        "    <tr>\n",
        "      <th>25%</th>\n",
        "      <td>   4</td>\n",
        "      <td>   0</td>\n",
        "      <td>   0</td>\n",
        "      <td> -10</td>\n",
        "      <td> 175.250000</td>\n",
        "      <td>  31.363450</td>\n",
        "      <td> 103.747350</td>\n",
        "      <td>   7.496400</td>\n",
        "      <td> 222.000000</td>\n",
        "      <td>  47.000000</td>\n",
        "      <td>   0.462550</td>\n",
        "      <td>  21.007193</td>\n",
        "      <td>  66.913180</td>\n",
        "      <td>  40.653060</td>\n",
        "      <td>   5.019058</td>\n",
        "      <td>-129.206335</td>\n",
        "      <td>    0.706212</td>\n",
        "    </tr>\n",
        "    <tr>\n",
        "      <th>50%</th>\n",
        "      <td>   4</td>\n",
        "      <td>   0</td>\n",
        "      <td>   0</td>\n",
        "      <td> -10</td>\n",
        "      <td> 350.500000</td>\n",
        "      <td>  31.648400</td>\n",
        "      <td> 104.031700</td>\n",
        "      <td>  13.640400</td>\n",
        "      <td> 222.000000</td>\n",
        "      <td>  47.000000</td>\n",
        "      <td>   2.001200</td>\n",
        "      <td>  50.300109</td>\n",
        "      <td> 149.165336</td>\n",
        "      <td>  49.852929</td>\n",
        "      <td>   6.363205</td>\n",
        "      <td> -97.556433</td>\n",
        "      <td>  178.749719</td>\n",
        "    </tr>\n",
        "    <tr>\n",
        "      <th>75%</th>\n",
        "      <td>   4</td>\n",
        "      <td>   0</td>\n",
        "      <td>   0</td>\n",
        "      <td> -10</td>\n",
        "      <td> 525.750000</td>\n",
        "      <td>  32.105975</td>\n",
        "      <td> 104.657975</td>\n",
        "      <td>  21.665800</td>\n",
        "      <td> 222.000000</td>\n",
        "      <td>  70.000000</td>\n",
        "      <td>   3.583900</td>\n",
        "      <td>  82.319654</td>\n",
        "      <td> 201.384523</td>\n",
        "      <td>  69.477653</td>\n",
        "      <td>   8.382928</td>\n",
        "      <td> -61.168687</td>\n",
        "      <td>  527.048991</td>\n",
        "    </tr>\n",
        "    <tr>\n",
        "      <th>max</th>\n",
        "      <td>   4</td>\n",
        "      <td>   0</td>\n",
        "      <td>   0</td>\n",
        "      <td> -10</td>\n",
        "      <td> 701.000000</td>\n",
        "      <td>  32.634100</td>\n",
        "      <td> 105.381000</td>\n",
        "      <td>  29.544200</td>\n",
        "      <td> 245.000000</td>\n",
        "      <td>  80.000000</td>\n",
        "      <td>   9.186700</td>\n",
        "      <td>  90.000000</td>\n",
        "      <td> 261.518515</td>\n",
        "      <td>  85.057948</td>\n",
        "      <td>  18.017863</td>\n",
        "      <td> 179.370719</td>\n",
        "      <td> 1972.318614</td>\n",
        "    </tr>\n",
        "    <tr>\n",
        "      <th rowspan=\"8\" valign=\"top\">5</th>\n",
        "      <th>count</th>\n",
        "      <td> 702</td>\n",
        "      <td> 702</td>\n",
        "      <td> 702</td>\n",
        "      <td> 702</td>\n",
        "      <td> 702.000000</td>\n",
        "      <td> 702.000000</td>\n",
        "      <td> 702.000000</td>\n",
        "      <td> 702.000000</td>\n",
        "      <td> 702.000000</td>\n",
        "      <td> 702.000000</td>\n",
        "      <td> 702.000000</td>\n",
        "      <td> 702.000000</td>\n",
        "      <td> 702.000000</td>\n",
        "      <td> 702.000000</td>\n",
        "      <td> 702.000000</td>\n",
        "      <td> 702.000000</td>\n",
        "      <td>  702.000000</td>\n",
        "    </tr>\n",
        "    <tr>\n",
        "      <th>mean</th>\n",
        "      <td>   5</td>\n",
        "      <td>   0</td>\n",
        "      <td>   0</td>\n",
        "      <td>   0</td>\n",
        "      <td> 350.500000</td>\n",
        "      <td>  31.728682</td>\n",
        "      <td> 104.192177</td>\n",
        "      <td>  14.351731</td>\n",
        "      <td> 224.638177</td>\n",
        "      <td>  56.772080</td>\n",
        "      <td>   2.358513</td>\n",
        "      <td>  40.310358</td>\n",
        "      <td> 132.526691</td>\n",
        "      <td>  46.418028</td>\n",
        "      <td>   9.060013</td>\n",
        "      <td> -92.216333</td>\n",
        "      <td>  332.597223</td>\n",
        "    </tr>\n",
        "    <tr>\n",
        "      <th>std</th>\n",
        "      <td>   0</td>\n",
        "      <td>   0</td>\n",
        "      <td>   0</td>\n",
        "      <td>   0</td>\n",
        "      <td> 202.794231</td>\n",
        "      <td>   0.452899</td>\n",
        "      <td>   0.581252</td>\n",
        "      <td>   8.542828</td>\n",
        "      <td>   5.646518</td>\n",
        "      <td>  16.212195</td>\n",
        "      <td>   2.113501</td>\n",
        "      <td>  59.431915</td>\n",
        "      <td>  90.612760</td>\n",
        "      <td>  19.673359</td>\n",
        "      <td>   4.314096</td>\n",
        "      <td>  60.136669</td>\n",
        "      <td>  339.339141</td>\n",
        "    </tr>\n",
        "    <tr>\n",
        "      <th>min</th>\n",
        "      <td>   5</td>\n",
        "      <td>   0</td>\n",
        "      <td>   0</td>\n",
        "      <td>   0</td>\n",
        "      <td>   0.000000</td>\n",
        "      <td>  30.934100</td>\n",
        "      <td> 103.199500</td>\n",
        "      <td>   1.089300</td>\n",
        "      <td> 222.000000</td>\n",
        "      <td>  33.000000</td>\n",
        "      <td>   0.000000</td>\n",
        "      <td>-180.000000</td>\n",
        "      <td>-170.156773</td>\n",
        "      <td>   0.000000</td>\n",
        "      <td>   0.000000</td>\n",
        "      <td>-179.502794</td>\n",
        "      <td> -521.223236</td>\n",
        "    </tr>\n",
        "    <tr>\n",
        "      <th>25%</th>\n",
        "      <td>   5</td>\n",
        "      <td>   0</td>\n",
        "      <td>   0</td>\n",
        "      <td>   0</td>\n",
        "      <td> 175.250000</td>\n",
        "      <td>  31.363450</td>\n",
        "      <td> 103.747350</td>\n",
        "      <td>   7.496400</td>\n",
        "      <td> 222.000000</td>\n",
        "      <td>  47.000000</td>\n",
        "      <td>   0.462550</td>\n",
        "      <td>  21.007193</td>\n",
        "      <td> 104.695901</td>\n",
        "      <td>  31.429381</td>\n",
        "      <td>   7.190002</td>\n",
        "      <td>-123.104019</td>\n",
        "      <td>   34.204991</td>\n",
        "    </tr>\n",
        "    <tr>\n",
        "      <th>50%</th>\n",
        "      <td>   5</td>\n",
        "      <td>   0</td>\n",
        "      <td>   0</td>\n",
        "      <td>   0</td>\n",
        "      <td> 350.500000</td>\n",
        "      <td>  31.648400</td>\n",
        "      <td> 104.031700</td>\n",
        "      <td>  13.640400</td>\n",
        "      <td> 222.000000</td>\n",
        "      <td>  47.000000</td>\n",
        "      <td>   2.001200</td>\n",
        "      <td>  50.300109</td>\n",
        "      <td> 159.132806</td>\n",
        "      <td>  43.487184</td>\n",
        "      <td>   8.385982</td>\n",
        "      <td> -98.027965</td>\n",
        "      <td>  264.411234</td>\n",
        "    </tr>\n",
        "    <tr>\n",
        "      <th>75%</th>\n",
        "      <td>   5</td>\n",
        "      <td>   0</td>\n",
        "      <td>   0</td>\n",
        "      <td>   0</td>\n",
        "      <td> 525.750000</td>\n",
        "      <td>  32.105975</td>\n",
        "      <td> 104.657975</td>\n",
        "      <td>  21.665800</td>\n",
        "      <td> 222.000000</td>\n",
        "      <td>  70.000000</td>\n",
        "      <td>   3.583900</td>\n",
        "      <td>  82.319654</td>\n",
        "      <td> 196.259838</td>\n",
        "      <td>  64.569297</td>\n",
        "      <td>  11.721222</td>\n",
        "      <td> -80.412698</td>\n",
        "      <td>  544.178391</td>\n",
        "    </tr>\n",
        "    <tr>\n",
        "      <th>max</th>\n",
        "      <td>   5</td>\n",
        "      <td>   0</td>\n",
        "      <td>   0</td>\n",
        "      <td>   0</td>\n",
        "      <td> 701.000000</td>\n",
        "      <td>  32.634100</td>\n",
        "      <td> 105.381000</td>\n",
        "      <td>  29.544200</td>\n",
        "      <td> 245.000000</td>\n",
        "      <td>  80.000000</td>\n",
        "      <td>   9.186700</td>\n",
        "      <td>  90.000000</td>\n",
        "      <td> 261.550747</td>\n",
        "      <td>  79.738467</td>\n",
        "      <td>  22.264890</td>\n",
        "      <td> 177.381963</td>\n",
        "      <td> 1717.920044</td>\n",
        "    </tr>\n",
        "    <tr>\n",
        "      <th rowspan=\"8\" valign=\"top\">6</th>\n",
        "      <th>count</th>\n",
        "      <td> 702</td>\n",
        "      <td> 702</td>\n",
        "      <td> 702</td>\n",
        "      <td> 702</td>\n",
        "      <td> 702.000000</td>\n",
        "      <td> 702.000000</td>\n",
        "      <td> 702.000000</td>\n",
        "      <td> 702.000000</td>\n",
        "      <td> 702.000000</td>\n",
        "      <td> 702.000000</td>\n",
        "      <td> 702.000000</td>\n",
        "      <td> 702.000000</td>\n",
        "      <td> 702.000000</td>\n",
        "      <td> 702.000000</td>\n",
        "      <td> 702.000000</td>\n",
        "      <td> 702.000000</td>\n",
        "      <td>  702.000000</td>\n",
        "    </tr>\n",
        "    <tr>\n",
        "      <th>mean</th>\n",
        "      <td>   6</td>\n",
        "      <td>   0</td>\n",
        "      <td>   0</td>\n",
        "      <td>  10</td>\n",
        "      <td> 350.500000</td>\n",
        "      <td>  31.728682</td>\n",
        "      <td> 104.192177</td>\n",
        "      <td>  14.351731</td>\n",
        "      <td> 224.638177</td>\n",
        "      <td>  56.772080</td>\n",
        "      <td>   2.358513</td>\n",
        "      <td>  40.310358</td>\n",
        "      <td> 142.595267</td>\n",
        "      <td>  39.880509</td>\n",
        "      <td>  12.668483</td>\n",
        "      <td>-102.284909</td>\n",
        "      <td>  354.370522</td>\n",
        "    </tr>\n",
        "    <tr>\n",
        "      <th>std</th>\n",
        "      <td>   0</td>\n",
        "      <td>   0</td>\n",
        "      <td>   0</td>\n",
        "      <td>   0</td>\n",
        "      <td> 202.794231</td>\n",
        "      <td>   0.452899</td>\n",
        "      <td>   0.581252</td>\n",
        "      <td>   8.542828</td>\n",
        "      <td>   5.646518</td>\n",
        "      <td>  16.212195</td>\n",
        "      <td>   2.113501</td>\n",
        "      <td>  59.431915</td>\n",
        "      <td>  71.298612</td>\n",
        "      <td>  21.057770</td>\n",
        "      <td>   4.942928</td>\n",
        "      <td>  30.018227</td>\n",
        "      <td>  314.921762</td>\n",
        "    </tr>\n",
        "    <tr>\n",
        "      <th>min</th>\n",
        "      <td>   6</td>\n",
        "      <td>   0</td>\n",
        "      <td>   0</td>\n",
        "      <td>  10</td>\n",
        "      <td>   0.000000</td>\n",
        "      <td>  30.934100</td>\n",
        "      <td> 103.199500</td>\n",
        "      <td>   1.089300</td>\n",
        "      <td> 222.000000</td>\n",
        "      <td>  33.000000</td>\n",
        "      <td>   0.000000</td>\n",
        "      <td>-180.000000</td>\n",
        "      <td>-113.083566</td>\n",
        "      <td>  -5.319481</td>\n",
        "      <td>   1.039812</td>\n",
        "      <td>-179.756951</td>\n",
        "      <td> -392.528897</td>\n",
        "    </tr>\n",
        "    <tr>\n",
        "      <th>25%</th>\n",
        "      <td>   6</td>\n",
        "      <td>   0</td>\n",
        "      <td>   0</td>\n",
        "      <td>  10</td>\n",
        "      <td> 175.250000</td>\n",
        "      <td>  31.363450</td>\n",
        "      <td> 103.747350</td>\n",
        "      <td>   7.496400</td>\n",
        "      <td> 222.000000</td>\n",
        "      <td>  47.000000</td>\n",
        "      <td>   0.462550</td>\n",
        "      <td>  21.007193</td>\n",
        "      <td> 113.255143</td>\n",
        "      <td>  22.219131</td>\n",
        "      <td>   9.610142</td>\n",
        "      <td>-118.850731</td>\n",
        "      <td>   61.651510</td>\n",
        "    </tr>\n",
        "    <tr>\n",
        "      <th>50%</th>\n",
        "      <td>   6</td>\n",
        "      <td>   0</td>\n",
        "      <td>   0</td>\n",
        "      <td>  10</td>\n",
        "      <td> 350.500000</td>\n",
        "      <td>  31.648400</td>\n",
        "      <td> 104.031700</td>\n",
        "      <td>  13.640400</td>\n",
        "      <td> 222.000000</td>\n",
        "      <td>  47.000000</td>\n",
        "      <td>   2.001200</td>\n",
        "      <td>  50.300109</td>\n",
        "      <td> 154.847976</td>\n",
        "      <td>  38.427347</td>\n",
        "      <td>  11.527613</td>\n",
        "      <td> -95.802230</td>\n",
        "      <td>  310.485620</td>\n",
        "    </tr>\n",
        "    <tr>\n",
        "      <th>75%</th>\n",
        "      <td>   6</td>\n",
        "      <td>   0</td>\n",
        "      <td>   0</td>\n",
        "      <td>  10</td>\n",
        "      <td> 525.750000</td>\n",
        "      <td>  32.105975</td>\n",
        "      <td> 104.657975</td>\n",
        "      <td>  21.665800</td>\n",
        "      <td> 222.000000</td>\n",
        "      <td>  70.000000</td>\n",
        "      <td>   3.583900</td>\n",
        "      <td>  82.319654</td>\n",
        "      <td> 189.385728</td>\n",
        "      <td>  59.531096</td>\n",
        "      <td>  16.347927</td>\n",
        "      <td> -82.995895</td>\n",
        "      <td>  573.948630</td>\n",
        "    </tr>\n",
        "    <tr>\n",
        "      <th>max</th>\n",
        "      <td>   6</td>\n",
        "      <td>   0</td>\n",
        "      <td>   0</td>\n",
        "      <td>  10</td>\n",
        "      <td> 701.000000</td>\n",
        "      <td>  32.634100</td>\n",
        "      <td> 105.381000</td>\n",
        "      <td>  29.544200</td>\n",
        "      <td> 245.000000</td>\n",
        "      <td>  80.000000</td>\n",
        "      <td>   9.186700</td>\n",
        "      <td>  90.000000</td>\n",
        "      <td> 264.694293</td>\n",
        "      <td>  74.418986</td>\n",
        "      <td>  26.780388</td>\n",
        "      <td> 174.050265</td>\n",
        "      <td> 1541.643469</td>\n",
        "    </tr>\n",
        "    <tr>\n",
        "      <th rowspan=\"4\" valign=\"top\">7</th>\n",
        "      <th>count</th>\n",
        "      <td> 702</td>\n",
        "      <td> 702</td>\n",
        "      <td> 702</td>\n",
        "      <td> 702</td>\n",
        "      <td> 702.000000</td>\n",
        "      <td> 702.000000</td>\n",
        "      <td> 702.000000</td>\n",
        "      <td> 702.000000</td>\n",
        "      <td> 702.000000</td>\n",
        "      <td> 702.000000</td>\n",
        "      <td> 702.000000</td>\n",
        "      <td> 702.000000</td>\n",
        "      <td> 702.000000</td>\n",
        "      <td> 702.000000</td>\n",
        "      <td> 702.000000</td>\n",
        "      <td> 702.000000</td>\n",
        "      <td>  702.000000</td>\n",
        "    </tr>\n",
        "    <tr>\n",
        "      <th>mean</th>\n",
        "      <td>   7</td>\n",
        "      <td>   0</td>\n",
        "      <td>   0</td>\n",
        "      <td>  20</td>\n",
        "      <td> 350.500000</td>\n",
        "      <td>  31.728682</td>\n",
        "      <td> 104.192177</td>\n",
        "      <td>  14.351731</td>\n",
        "      <td> 224.638177</td>\n",
        "      <td>  56.772080</td>\n",
        "      <td>   2.358513</td>\n",
        "      <td>  40.310358</td>\n",
        "      <td> 140.957908</td>\n",
        "      <td>  33.342990</td>\n",
        "      <td>  16.594179</td>\n",
        "      <td>-100.647550</td>\n",
        "      <td>  349.033921</td>\n",
        "    </tr>\n",
        "    <tr>\n",
        "      <th>std</th>\n",
        "      <td>   0</td>\n",
        "      <td>   0</td>\n",
        "      <td>   0</td>\n",
        "      <td>   0</td>\n",
        "      <td> 202.794231</td>\n",
        "      <td>   0.452899</td>\n",
        "      <td>   0.581252</td>\n",
        "      <td>   8.542828</td>\n",
        "      <td>   5.646518</td>\n",
        "      <td>  16.212195</td>\n",
        "      <td>   2.113501</td>\n",
        "      <td>  59.431915</td>\n",
        "      <td>  69.237479</td>\n",
        "      <td>  22.596620</td>\n",
        "      <td>   5.578225</td>\n",
        "      <td>  25.251583</td>\n",
        "      <td>  302.890506</td>\n",
        "    </tr>\n",
        "    <tr>\n",
        "      <th>min</th>\n",
        "      <td>   7</td>\n",
        "      <td>   0</td>\n",
        "      <td>   0</td>\n",
        "      <td>  20</td>\n",
        "      <td>   0.000000</td>\n",
        "      <td>  30.934100</td>\n",
        "      <td> 103.199500</td>\n",
        "      <td>   1.089300</td>\n",
        "      <td> 222.000000</td>\n",
        "      <td>  33.000000</td>\n",
        "      <td>   0.000000</td>\n",
        "      <td>-180.000000</td>\n",
        "      <td>-106.880904</td>\n",
        "      <td> -10.638962</td>\n",
        "      <td>   5.435338</td>\n",
        "      <td>-178.599717</td>\n",
        "      <td> -228.497215</td>\n",
        "    </tr>\n",
        "    <tr>\n",
        "      <td></td>\n",
        "      <td></td>\n",
        "      <td>...</td>\n",
        "      <td>...</td>\n",
        "      <td>...</td>\n",
        "      <td>...</td>\n",
        "      <td>...</td>\n",
        "      <td>...</td>\n",
        "      <td>...</td>\n",
        "      <td>...</td>\n",
        "      <td>...</td>\n",
        "      <td>...</td>\n",
        "      <td>...</td>\n",
        "      <td>...</td>\n",
        "      <td>...</td>\n",
        "      <td>...</td>\n",
        "      <td>...</td>\n",
        "      <td>...</td>\n",
        "      <td>...</td>\n",
        "    </tr>\n",
        "  </tbody>\n",
        "</table>\n",
        "<p>38808 rows \u00d7 17 columns</p>\n",
        "</div>"
       ],
       "metadata": {},
       "output_type": "pyout",
       "prompt_number": 8,
       "text": [
        "            iter  tect_xx  tect_yy  tect_xy    pt_index         lat  \\\n",
        "iter                                                                  \n",
        "0    count   702      702      702      702  702.000000  702.000000   \n",
        "     mean      0        0        0      -50  350.500000   31.728682   \n",
        "     std       0        0        0        0  202.794231    0.452899   \n",
        "     min       0        0        0      -50    0.000000   30.934100   \n",
        "     25%       0        0        0      -50  175.250000   31.363450   \n",
        "     50%       0        0        0      -50  350.500000   31.648400   \n",
        "     75%       0        0        0      -50  525.750000   32.105975   \n",
        "     max       0        0        0      -50  701.000000   32.634100   \n",
        "1    count   702      702      702      702  702.000000  702.000000   \n",
        "     mean      1        0        0      -40  350.500000   31.728682   \n",
        "     std       0        0        0        0  202.794231    0.452899   \n",
        "     min       1        0        0      -40    0.000000   30.934100   \n",
        "     25%       1        0        0      -40  175.250000   31.363450   \n",
        "     50%       1        0        0      -40  350.500000   31.648400   \n",
        "     75%       1        0        0      -40  525.750000   32.105975   \n",
        "     max       1        0        0      -40  701.000000   32.634100   \n",
        "2    count   702      702      702      702  702.000000  702.000000   \n",
        "     mean      2        0        0      -30  350.500000   31.728682   \n",
        "     std       0        0        0        0  202.794231    0.452899   \n",
        "     min       2        0        0      -30    0.000000   30.934100   \n",
        "     25%       2        0        0      -30  175.250000   31.363450   \n",
        "     50%       2        0        0      -30  350.500000   31.648400   \n",
        "     75%       2        0        0      -30  525.750000   32.105975   \n",
        "     max       2        0        0      -30  701.000000   32.634100   \n",
        "3    count   702      702      702      702  702.000000  702.000000   \n",
        "     mean      3        0        0      -20  350.500000   31.728682   \n",
        "     std       0        0        0        0  202.794231    0.452899   \n",
        "     min       3        0        0      -20    0.000000   30.934100   \n",
        "     25%       3        0        0      -20  175.250000   31.363450   \n",
        "     50%       3        0        0      -20  350.500000   31.648400   \n",
        "     75%       3        0        0      -20  525.750000   32.105975   \n",
        "     max       3        0        0      -20  701.000000   32.634100   \n",
        "4    count   702      702      702      702  702.000000  702.000000   \n",
        "     mean      4        0        0      -10  350.500000   31.728682   \n",
        "     std       0        0        0        0  202.794231    0.452899   \n",
        "     min       4        0        0      -10    0.000000   30.934100   \n",
        "     25%       4        0        0      -10  175.250000   31.363450   \n",
        "     50%       4        0        0      -10  350.500000   31.648400   \n",
        "     75%       4        0        0      -10  525.750000   32.105975   \n",
        "     max       4        0        0      -10  701.000000   32.634100   \n",
        "5    count   702      702      702      702  702.000000  702.000000   \n",
        "     mean      5        0        0        0  350.500000   31.728682   \n",
        "     std       0        0        0        0  202.794231    0.452899   \n",
        "     min       5        0        0        0    0.000000   30.934100   \n",
        "     25%       5        0        0        0  175.250000   31.363450   \n",
        "     50%       5        0        0        0  350.500000   31.648400   \n",
        "     75%       5        0        0        0  525.750000   32.105975   \n",
        "     max       5        0        0        0  701.000000   32.634100   \n",
        "6    count   702      702      702      702  702.000000  702.000000   \n",
        "     mean      6        0        0       10  350.500000   31.728682   \n",
        "     std       0        0        0        0  202.794231    0.452899   \n",
        "     min       6        0        0       10    0.000000   30.934100   \n",
        "     25%       6        0        0       10  175.250000   31.363450   \n",
        "     50%       6        0        0       10  350.500000   31.648400   \n",
        "     75%       6        0        0       10  525.750000   32.105975   \n",
        "     max       6        0        0       10  701.000000   32.634100   \n",
        "7    count   702      702      702      702  702.000000  702.000000   \n",
        "     mean      7        0        0       20  350.500000   31.728682   \n",
        "     std       0        0        0        0  202.794231    0.452899   \n",
        "     min       7        0        0       20    0.000000   30.934100   \n",
        "             ...      ...      ...      ...         ...         ...   \n",
        "\n",
        "                   lon       depth      strike         dip      slip_m  \\\n",
        "iter                                                                     \n",
        "0    count  702.000000  702.000000  702.000000  702.000000  702.000000   \n",
        "     mean   104.192177   14.351731  224.638177   56.772080    2.358513   \n",
        "     std      0.581252    8.542828    5.646518   16.212195    2.113501   \n",
        "     min    103.199500    1.089300  222.000000   33.000000    0.000000   \n",
        "     25%    103.747350    7.496400  222.000000   47.000000    0.462550   \n",
        "     50%    104.031700   13.640400  222.000000   47.000000    2.001200   \n",
        "     75%    104.657975   21.665800  222.000000   70.000000    3.583900   \n",
        "     max    105.381000   29.544200  245.000000   80.000000    9.186700   \n",
        "1    count  702.000000  702.000000  702.000000  702.000000  702.000000   \n",
        "     mean   104.192177   14.351731  224.638177   56.772080    2.358513   \n",
        "     std      0.581252    8.542828    5.646518   16.212195    2.113501   \n",
        "     min    103.199500    1.089300  222.000000   33.000000    0.000000   \n",
        "     25%    103.747350    7.496400  222.000000   47.000000    0.462550   \n",
        "     50%    104.031700   13.640400  222.000000   47.000000    2.001200   \n",
        "     75%    104.657975   21.665800  222.000000   70.000000    3.583900   \n",
        "     max    105.381000   29.544200  245.000000   80.000000    9.186700   \n",
        "2    count  702.000000  702.000000  702.000000  702.000000  702.000000   \n",
        "     mean   104.192177   14.351731  224.638177   56.772080    2.358513   \n",
        "     std      0.581252    8.542828    5.646518   16.212195    2.113501   \n",
        "     min    103.199500    1.089300  222.000000   33.000000    0.000000   \n",
        "     25%    103.747350    7.496400  222.000000   47.000000    0.462550   \n",
        "     50%    104.031700   13.640400  222.000000   47.000000    2.001200   \n",
        "     75%    104.657975   21.665800  222.000000   70.000000    3.583900   \n",
        "     max    105.381000   29.544200  245.000000   80.000000    9.186700   \n",
        "3    count  702.000000  702.000000  702.000000  702.000000  702.000000   \n",
        "     mean   104.192177   14.351731  224.638177   56.772080    2.358513   \n",
        "     std      0.581252    8.542828    5.646518   16.212195    2.113501   \n",
        "     min    103.199500    1.089300  222.000000   33.000000    0.000000   \n",
        "     25%    103.747350    7.496400  222.000000   47.000000    0.462550   \n",
        "     50%    104.031700   13.640400  222.000000   47.000000    2.001200   \n",
        "     75%    104.657975   21.665800  222.000000   70.000000    3.583900   \n",
        "     max    105.381000   29.544200  245.000000   80.000000    9.186700   \n",
        "4    count  702.000000  702.000000  702.000000  702.000000  702.000000   \n",
        "     mean   104.192177   14.351731  224.638177   56.772080    2.358513   \n",
        "     std      0.581252    8.542828    5.646518   16.212195    2.113501   \n",
        "     min    103.199500    1.089300  222.000000   33.000000    0.000000   \n",
        "     25%    103.747350    7.496400  222.000000   47.000000    0.462550   \n",
        "     50%    104.031700   13.640400  222.000000   47.000000    2.001200   \n",
        "     75%    104.657975   21.665800  222.000000   70.000000    3.583900   \n",
        "     max    105.381000   29.544200  245.000000   80.000000    9.186700   \n",
        "5    count  702.000000  702.000000  702.000000  702.000000  702.000000   \n",
        "     mean   104.192177   14.351731  224.638177   56.772080    2.358513   \n",
        "     std      0.581252    8.542828    5.646518   16.212195    2.113501   \n",
        "     min    103.199500    1.089300  222.000000   33.000000    0.000000   \n",
        "     25%    103.747350    7.496400  222.000000   47.000000    0.462550   \n",
        "     50%    104.031700   13.640400  222.000000   47.000000    2.001200   \n",
        "     75%    104.657975   21.665800  222.000000   70.000000    3.583900   \n",
        "     max    105.381000   29.544200  245.000000   80.000000    9.186700   \n",
        "6    count  702.000000  702.000000  702.000000  702.000000  702.000000   \n",
        "     mean   104.192177   14.351731  224.638177   56.772080    2.358513   \n",
        "     std      0.581252    8.542828    5.646518   16.212195    2.113501   \n",
        "     min    103.199500    1.089300  222.000000   33.000000    0.000000   \n",
        "     25%    103.747350    7.496400  222.000000   47.000000    0.462550   \n",
        "     50%    104.031700   13.640400  222.000000   47.000000    2.001200   \n",
        "     75%    104.657975   21.665800  222.000000   70.000000    3.583900   \n",
        "     max    105.381000   29.544200  245.000000   80.000000    9.186700   \n",
        "7    count  702.000000  702.000000  702.000000  702.000000  702.000000   \n",
        "     mean   104.192177   14.351731  224.638177   56.772080    2.358513   \n",
        "     std      0.581252    8.542828    5.646518   16.212195    2.113501   \n",
        "     min    103.199500    1.089300  222.000000   33.000000    0.000000   \n",
        "                   ...         ...         ...         ...         ...   \n",
        "\n",
        "             slip_rake    tau_rake     tau_mag      sig_nn      misfit  \\\n",
        "iter                                                                     \n",
        "0    count  702.000000  702.000000  702.000000  702.000000  702.000000   \n",
        "     mean    40.310358  -56.775855   79.105625   13.897173   97.086213   \n",
        "     std     59.431915   69.415796   16.338022    6.817459   36.565665   \n",
        "     min   -180.000000 -328.265397   14.750335    2.500031   -6.458759   \n",
        "     25%     21.007193  -86.220020   75.437706    9.310848   93.228448   \n",
        "     50%     50.300109  -58.956622   80.599226   12.540195  100.872013   \n",
        "     75%     82.319654  -20.999520   88.983169   17.030742  127.930025   \n",
        "     max     90.000000   96.458759  106.335873   32.179190  161.266653   \n",
        "1    count  702.000000  702.000000  702.000000  702.000000  702.000000   \n",
        "     mean    40.310358  -58.867048   72.568106   10.068742   99.177406   \n",
        "     std     59.431915   74.593864   16.412654    5.981360   49.715937   \n",
        "     min   -180.000000 -354.609456   11.800268    1.690214 -178.863655   \n",
        "     25%     21.007193  -90.305266   67.019370    5.576804   92.746452   \n",
        "     50%     50.300109  -64.887306   72.699068    8.800124  103.065947   \n",
        "     75%     82.319654  -28.089367   83.663688   13.287472  137.965821   \n",
        "     max     90.000000  220.749449  101.016392   26.189093  178.223063   \n",
        "2    count  702.000000  702.000000  702.000000  702.000000  702.000000   \n",
        "     mean    40.310358  -30.532106   66.030587    6.870885   70.842464   \n",
        "     std     59.431915  119.303685   16.810960    4.982499  102.100325   \n",
        "     min   -180.000000 -338.373808    8.850201    0.054317 -179.993400   \n",
        "     25%     21.007193  -93.272607   58.471910    2.817407   12.100944   \n",
        "     50%     50.300109  -72.902901   64.845448    5.554662  104.287603   \n",
        "     75%     82.319654   10.248052   78.985913    9.710959  146.518768   \n",
        "     max     90.000000  269.844796   95.696911   20.499248  179.694481   \n",
        "3    count  702.000000  702.000000  702.000000  702.000000  702.000000   \n",
        "     mean    40.310358   51.745436   59.493067    5.872685  -11.435078   \n",
        "     std     59.431915  148.936255   17.510865    3.122437  124.293798   \n",
        "     min   -180.000000 -359.958435    5.900134    0.200295 -179.875338   \n",
        "     25%     21.007193  -90.283992   49.569040    3.520834 -118.036315   \n",
        "     50%     50.300109   89.568971   57.366745    5.194991  -72.258933   \n",
        "     75%     82.319654  186.626777   74.382901    7.969312  107.722204   \n",
        "     max     90.000000  269.507808   90.377430   15.445130  179.958435   \n",
        "4    count  702.000000  702.000000  702.000000  702.000000  702.000000   \n",
        "     mean    40.310358  108.115500   52.955548    6.850151  -67.805142   \n",
        "     std     59.431915  120.965466   18.478130    2.620297   96.514208   \n",
        "     min   -180.000000 -177.081908    2.950067    0.637328 -179.188470   \n",
        "     25%     21.007193   66.913180   40.653060    5.019058 -129.206335   \n",
        "     50%     50.300109  149.165336   49.852929    6.363205  -97.556433   \n",
        "     75%     82.319654  201.384523   69.477653    8.382928  -61.168687   \n",
        "     max     90.000000  261.518515   85.057948   18.017863  179.370719   \n",
        "5    count  702.000000  702.000000  702.000000  702.000000  702.000000   \n",
        "     mean    40.310358  132.526691   46.418028    9.060013  -92.216333   \n",
        "     std     59.431915   90.612760   19.673359    4.314096   60.136669   \n",
        "     min   -180.000000 -170.156773    0.000000    0.000000 -179.502794   \n",
        "     25%     21.007193  104.695901   31.429381    7.190002 -123.104019   \n",
        "     50%     50.300109  159.132806   43.487184    8.385982  -98.027965   \n",
        "     75%     82.319654  196.259838   64.569297   11.721222  -80.412698   \n",
        "     max     90.000000  261.550747   79.738467   22.264890  177.381963   \n",
        "6    count  702.000000  702.000000  702.000000  702.000000  702.000000   \n",
        "     mean    40.310358  142.595267   39.880509   12.668483 -102.284909   \n",
        "     std     59.431915   71.298612   21.057770    4.942928   30.018227   \n",
        "     min   -180.000000 -113.083566   -5.319481    1.039812 -179.756951   \n",
        "     25%     21.007193  113.255143   22.219131    9.610142 -118.850731   \n",
        "     50%     50.300109  154.847976   38.427347   11.527613  -95.802230   \n",
        "     75%     82.319654  189.385728   59.531096   16.347927  -82.995895   \n",
        "     max     90.000000  264.694293   74.418986   26.780388  174.050265   \n",
        "7    count  702.000000  702.000000  702.000000  702.000000  702.000000   \n",
        "     mean    40.310358  140.957908   33.342990   16.594179 -100.647550   \n",
        "     std     59.431915   69.237479   22.596620    5.578225   25.251583   \n",
        "     min   -180.000000 -106.880904  -10.638962    5.435338 -178.599717   \n",
        "                   ...         ...         ...         ...         ...   \n",
        "\n",
        "            weighted_misfit  \n",
        "iter                         \n",
        "0    count       702.000000  \n",
        "     mean       -134.251657  \n",
        "     std         179.506249  \n",
        "     min        -783.207469  \n",
        "     25%        -227.785103  \n",
        "     50%         -62.957776  \n",
        "     75%          -2.326571  \n",
        "     max         128.637144  \n",
        "1    count       702.000000  \n",
        "     mean       -143.209296  \n",
        "     std         205.389389  \n",
        "     min        -840.214673  \n",
        "     25%        -248.257521  \n",
        "     50%         -72.806038  \n",
        "     75%          -3.305423  \n",
        "     max        1025.683595  \n",
        "2    count       702.000000  \n",
        "     mean        -87.496739  \n",
        "     std         312.128839  \n",
        "     min        -985.563951  \n",
        "     25%        -242.129015  \n",
        "     50%         -70.202007  \n",
        "     75%           0.278110  \n",
        "     max        1181.864878  \n",
        "3    count       702.000000  \n",
        "     mean         91.699396  \n",
        "     std         419.044185  \n",
        "     min       -1170.588575  \n",
        "     25%        -116.154914  \n",
        "     50%          17.522198  \n",
        "     75%         343.066135  \n",
        "     max        1749.235553  \n",
        "4    count       702.000000  \n",
        "     mean        262.317792  \n",
        "     std         409.434206  \n",
        "     min       -1004.630347  \n",
        "     25%           0.706212  \n",
        "     50%         178.749719  \n",
        "     75%         527.048991  \n",
        "     max        1972.318614  \n",
        "5    count       702.000000  \n",
        "     mean        332.597223  \n",
        "     std         339.339141  \n",
        "     min        -521.223236  \n",
        "     25%          34.204991  \n",
        "     50%         264.411234  \n",
        "     75%         544.178391  \n",
        "     max        1717.920044  \n",
        "6    count       702.000000  \n",
        "     mean        354.370522  \n",
        "     std         314.921762  \n",
        "     min        -392.528897  \n",
        "     25%          61.651510  \n",
        "     50%         310.485620  \n",
        "     75%         573.948630  \n",
        "     max        1541.643469  \n",
        "7    count       702.000000  \n",
        "     mean        349.033921  \n",
        "     std         302.890506  \n",
        "     min        -228.497215  \n",
        "                        ...  \n",
        "\n",
        "[38808 rows x 17 columns]"
       ]
      }
     ],
     "prompt_number": 8
    },
    {
     "cell_type": "code",
     "collapsed": false,
     "input": [
      "iters.misfit.mean().min()"
     ],
     "language": "python",
     "metadata": {},
     "outputs": [
      {
       "metadata": {},
       "output_type": "pyout",
       "prompt_number": 10,
       "text": [
        "-141.70305012445942"
       ]
      }
     ],
     "prompt_number": 10
    },
    {
     "cell_type": "code",
     "collapsed": false,
     "input": [
      "iters.misfit.mean()"
     ],
     "language": "python",
     "metadata": {},
     "outputs": [
      {
       "metadata": {},
       "output_type": "pyout",
       "prompt_number": 11,
       "text": [
        "iter\n",
        "0        97.086213\n",
        "1        99.177406\n",
        "2        70.842464\n",
        "3       -11.435078\n",
        "4       -67.805142\n",
        "5       -92.216333\n",
        "6      -102.284909\n",
        "7      -100.647550\n",
        "8       -99.536951\n",
        "9       -98.439720\n",
        "10      -97.651832\n",
        "11      113.945058\n",
        "12      120.155117\n",
        "13      104.264473\n",
        "14       15.790137\n",
        "...\n",
        "4836    89.320671\n",
        "4837    89.658248\n",
        "4838    89.995584\n",
        "4839    90.303091\n",
        "4840    90.879491\n",
        "4841    91.195111\n",
        "4842    91.543731\n",
        "4843    91.927464\n",
        "4844    92.347442\n",
        "4845    92.803075\n",
        "4846    93.291004\n",
        "4847    93.803708\n",
        "4848    94.327776\n",
        "4849    94.841966\n",
        "4850    95.315282\n",
        "Name: misfit, Length: 4851, dtype: float64"
       ]
      }
     ],
     "prompt_number": 11
    },
    {
     "cell_type": "code",
     "collapsed": false,
     "input": [
      "plot(iters.misfit.mean())"
     ],
     "language": "python",
     "metadata": {},
     "outputs": [
      {
       "metadata": {},
       "output_type": "pyout",
       "prompt_number": 12,
       "text": [
        "[<matplotlib.lines.Line2D at 0x11070b950>]"
       ]
      },
      {
       "metadata": {
        "png": {
         "height": 255,
         "width": 385
        }
       },
       "output_type": "display_data",
       "png": "[encoded data removed]",
       "text": [
        "<matplotlib.figure.Figure at 0x110b56950>"
       ]
      }
     ],
     "prompt_number": 12
    },
    {
     "cell_type": "code",
     "collapsed": false,
     "input": [
      "plot(iters.tect_xx.mean(), iters.misfit.mean())"
     ],
     "language": "python",
     "metadata": {},
     "outputs": [
      {
       "metadata": {},
       "output_type": "pyout",
       "prompt_number": 13,
       "text": [
        "[<matplotlib.lines.Line2D at 0x10b31c290>]"
       ]
      },
      {
       "metadata": {
        "png": {
         "height": 255,
         "width": 382
        }
       },
       "output_type": "display_data",
       "png": "[encoded data removed]",
       "text": [
        "<matplotlib.figure.Figure at 0x110720850>"
       ]
      }
     ],
     "prompt_number": 13
    },
    {
     "cell_type": "code",
     "collapsed": false,
     "input": [
      "scatter(iters[iters.tect_xy.mean()==0].tect_xx.mean(), \n",
      "        iters[iters.tect_xy.mean()==0].tect_yy.mean(), s=70, \n",
      "        c=iters[iters.tect_xy.mean()==0].misfit.mean(), lw=0)\n",
      "colorbar(label='mean misfit (degrees)')\n",
      "\n",
      "xlabel('E-W compression (MPa)')\n",
      "ylabel('N-S compression (MPa)')\n",
      "show()"
     ],
     "language": "python",
     "metadata": {},
     "outputs": [
      {
       "ename": "Exception",
       "evalue": "Column(s) iter\n0       False\n1       False\n2       False\n3       False\n4       False\n5        True\n6       False\n7       False\n8       False\n9       False\n10      False\n11      False\n12      False\n13      False\n14      False\n...\n4836    False\n4837    False\n4838    False\n4839    False\n4840    False\n4841    False\n4842    False\n4843    False\n4844    False\n4845     True\n4846    False\n4847    False\n4848    False\n4849    False\n4850    False\nName: tect_xy, Length: 4851, dtype: bool already selected",
       "output_type": "pyerr",
       "traceback": [
        "\u001b[0;31m---------------------------------------------------------------------------\u001b[0m\n\u001b[0;31mException\u001b[0m                                 Traceback (most recent call last)",
        "\u001b[0;32m<ipython-input-19-0f1529b022f9>\u001b[0m in \u001b[0;36m<module>\u001b[0;34m()\u001b[0m\n\u001b[0;32m----> 1\u001b[0;31m scatter(iters[iters.tect_xy.mean()==0].tect_xx.mean(), \n\u001b[0m\u001b[1;32m      2\u001b[0m         \u001b[0miters\u001b[0m\u001b[0;34m[\u001b[0m\u001b[0miters\u001b[0m\u001b[0;34m.\u001b[0m\u001b[0mtect_xy\u001b[0m\u001b[0;34m.\u001b[0m\u001b[0mmean\u001b[0m\u001b[0;34m(\u001b[0m\u001b[0;34m)\u001b[0m\u001b[0;34m==\u001b[0m\u001b[0;36m0\u001b[0m\u001b[0;34m]\u001b[0m\u001b[0;34m.\u001b[0m\u001b[0mtect_yy\u001b[0m\u001b[0;34m.\u001b[0m\u001b[0mmean\u001b[0m\u001b[0;34m(\u001b[0m\u001b[0;34m)\u001b[0m\u001b[0;34m,\u001b[0m \u001b[0ms\u001b[0m\u001b[0;34m=\u001b[0m\u001b[0;36m70\u001b[0m\u001b[0;34m,\u001b[0m\u001b[0;34m\u001b[0m\u001b[0m\n\u001b[1;32m      3\u001b[0m         c=iters[iters.tect_xy.mean()==0].misfit.mean(), lw=0)\n\u001b[1;32m      4\u001b[0m \u001b[0mcolorbar\u001b[0m\u001b[0;34m(\u001b[0m\u001b[0mlabel\u001b[0m\u001b[0;34m=\u001b[0m\u001b[0;34m'mean misfit (degrees)'\u001b[0m\u001b[0;34m)\u001b[0m\u001b[0;34m\u001b[0m\u001b[0m\n\u001b[1;32m      5\u001b[0m \u001b[0;34m\u001b[0m\u001b[0m\n",
        "\u001b[0;32m/Users/itchy/src/anaconda/lib/python2.7/site-packages/pandas-0.13.0rc1_59_g90990db-py2.7-macosx-10.5-x86_64.egg/pandas/core/groupby.pyc\u001b[0m in \u001b[0;36m__getattr__\u001b[0;34m(self, attr)\u001b[0m\n\u001b[1;32m    276\u001b[0m     \u001b[0;32mdef\u001b[0m \u001b[0m__getattr__\u001b[0m\u001b[0;34m(\u001b[0m\u001b[0mself\u001b[0m\u001b[0;34m,\u001b[0m \u001b[0mattr\u001b[0m\u001b[0;34m)\u001b[0m\u001b[0;34m:\u001b[0m\u001b[0;34m\u001b[0m\u001b[0m\n\u001b[1;32m    277\u001b[0m         \u001b[0;32mif\u001b[0m \u001b[0mattr\u001b[0m \u001b[0;32min\u001b[0m \u001b[0mself\u001b[0m\u001b[0;34m.\u001b[0m\u001b[0mobj\u001b[0m\u001b[0;34m:\u001b[0m\u001b[0;34m\u001b[0m\u001b[0m\n\u001b[0;32m--> 278\u001b[0;31m             \u001b[0;32mreturn\u001b[0m \u001b[0mself\u001b[0m\u001b[0;34m[\u001b[0m\u001b[0mattr\u001b[0m\u001b[0;34m]\u001b[0m\u001b[0;34m\u001b[0m\u001b[0m\n\u001b[0m\u001b[1;32m    279\u001b[0m \u001b[0;34m\u001b[0m\u001b[0m\n\u001b[1;32m    280\u001b[0m         \u001b[0;32mif\u001b[0m \u001b[0mhasattr\u001b[0m\u001b[0;34m(\u001b[0m\u001b[0mself\u001b[0m\u001b[0;34m.\u001b[0m\u001b[0mobj\u001b[0m\u001b[0;34m,\u001b[0m \u001b[0mattr\u001b[0m\u001b[0;34m)\u001b[0m \u001b[0;32mand\u001b[0m \u001b[0mattr\u001b[0m \u001b[0;34m!=\u001b[0m \u001b[0;34m'_cache'\u001b[0m\u001b[0;34m:\u001b[0m\u001b[0;34m\u001b[0m\u001b[0m\n",
        "\u001b[0;32m/Users/itchy/src/anaconda/lib/python2.7/site-packages/pandas-0.13.0rc1_59_g90990db-py2.7-macosx-10.5-x86_64.egg/pandas/core/groupby.pyc\u001b[0m in \u001b[0;36m__getitem__\u001b[0;34m(self, key)\u001b[0m\n\u001b[1;32m   2440\u001b[0m     \u001b[0;32mdef\u001b[0m \u001b[0m__getitem__\u001b[0m\u001b[0;34m(\u001b[0m\u001b[0mself\u001b[0m\u001b[0;34m,\u001b[0m \u001b[0mkey\u001b[0m\u001b[0;34m)\u001b[0m\u001b[0;34m:\u001b[0m\u001b[0;34m\u001b[0m\u001b[0m\n\u001b[1;32m   2441\u001b[0m         \u001b[0;32mif\u001b[0m \u001b[0mself\u001b[0m\u001b[0;34m.\u001b[0m\u001b[0m_selection\u001b[0m \u001b[0;32mis\u001b[0m \u001b[0;32mnot\u001b[0m \u001b[0mNone\u001b[0m\u001b[0;34m:\u001b[0m\u001b[0;34m\u001b[0m\u001b[0m\n\u001b[0;32m-> 2442\u001b[0;31m             \u001b[0;32mraise\u001b[0m \u001b[0mException\u001b[0m\u001b[0;34m(\u001b[0m\u001b[0;34m'Column(s) %s already selected'\u001b[0m \u001b[0;34m%\u001b[0m \u001b[0mself\u001b[0m\u001b[0;34m.\u001b[0m\u001b[0m_selection\u001b[0m\u001b[0;34m)\u001b[0m\u001b[0;34m\u001b[0m\u001b[0m\n\u001b[0m\u001b[1;32m   2443\u001b[0m \u001b[0;34m\u001b[0m\u001b[0m\n\u001b[1;32m   2444\u001b[0m         if (isinstance(key, (list, tuple, Series, np.ndarray)) or\n",
        "\u001b[0;31mException\u001b[0m: Column(s) iter\n0       False\n1       False\n2       False\n3       False\n4       False\n5        True\n6       False\n7       False\n8       False\n9       False\n10      False\n11      False\n12      False\n13      False\n14      False\n...\n4836    False\n4837    False\n4838    False\n4839    False\n4840    False\n4841    False\n4842    False\n4843    False\n4844    False\n4845     True\n4846    False\n4847    False\n4848    False\n4849    False\n4850    False\nName: tect_xy, Length: 4851, dtype: bool already selected"
       ]
      }
     ],
     "prompt_number": 19
    },
    {
     "cell_type": "code",
     "collapsed": false,
     "input": [
      "scatter(iters.tect_xx.mean(), iters.tect_yy.mean(), s=70, \n",
      "        c=iters.weighted_misfit.mean(), lw=0)\n",
      "colorbar(label='mean misfit (degrees)')\n",
      "\n",
      "xlabel('E-W compression (MPa)')\n",
      "ylabel('N-S compression (MPa)')\n",
      "show()\n",
      "\n"
     ],
     "language": "python",
     "metadata": {},
     "outputs": [],
     "prompt_number": 20
    },
    {
     "cell_type": "code",
     "collapsed": false,
     "input": [
      "show()"
     ],
     "language": "python",
     "metadata": {},
     "outputs": [],
     "prompt_number": 7
    },
    {
     "cell_type": "code",
     "collapsed": false,
     "input": [
      "good_iters = iters[iters.misfit.mean() >= 15]"
     ],
     "language": "python",
     "metadata": {},
     "outputs": [],
     "prompt_number": 8
    },
    {
     "cell_type": "code",
     "collapsed": false,
     "input": [
      "scatter(good_iters.tect_xx.mean(), good_iters.tect_yy, s=50,\n",
      "        c=good_iters.misfit.mean(), lw=0)\n",
      "colorbar()\n",
      "xlabel('E-W compression (MPa)')\n",
      "ylabel('N-S compression (MPa)')\n",
      "show()\n"
     ],
     "language": "python",
     "metadata": {},
     "outputs": [
      {
       "ename": "Exception",
       "evalue": "Column(s) iter\n0        True\n1        True\n2        True\n3       False\n4       False\n5       False\n6       False\n7       False\n8       False\n9       False\n10      False\n11       True\n12       True\n13       True\n14       True\n...\n4836    True\n4837    True\n4838    True\n4839    True\n4840    True\n4841    True\n4842    True\n4843    True\n4844    True\n4845    True\n4846    True\n4847    True\n4848    True\n4849    True\n4850    True\nName: misfit, Length: 4851, dtype: bool already selected",
       "output_type": "pyerr",
       "traceback": [
        "\u001b[0;31m---------------------------------------------------------------------------\u001b[0m\n\u001b[0;31mException\u001b[0m                                 Traceback (most recent call last)",
        "\u001b[0;32m<ipython-input-10-2c47e222d7f3>\u001b[0m in \u001b[0;36m<module>\u001b[0;34m()\u001b[0m\n\u001b[0;32m----> 1\u001b[0;31m scatter(good_iters.tect_xx.mean(), good_iters.tect_yy, s=50,\n\u001b[0m\u001b[1;32m      2\u001b[0m         c=good_iters.misfit.mean(), lw=0)\n\u001b[1;32m      3\u001b[0m \u001b[0mcolorbar\u001b[0m\u001b[0;34m(\u001b[0m\u001b[0;34m)\u001b[0m\u001b[0;34m\u001b[0m\u001b[0m\n\u001b[1;32m      4\u001b[0m \u001b[0mxlabel\u001b[0m\u001b[0;34m(\u001b[0m\u001b[0;34m'E-W compression (MPa)'\u001b[0m\u001b[0;34m)\u001b[0m\u001b[0;34m\u001b[0m\u001b[0m\n\u001b[1;32m      5\u001b[0m \u001b[0mylabel\u001b[0m\u001b[0;34m(\u001b[0m\u001b[0;34m'N-S compression (MPa)'\u001b[0m\u001b[0;34m)\u001b[0m\u001b[0;34m\u001b[0m\u001b[0m\n",
        "\u001b[0;32m/Users/itchy/src/anaconda/lib/python2.7/site-packages/pandas-0.13.0rc1_59_g90990db-py2.7-macosx-10.5-x86_64.egg/pandas/core/groupby.pyc\u001b[0m in \u001b[0;36m__getattr__\u001b[0;34m(self, attr)\u001b[0m\n\u001b[1;32m    276\u001b[0m     \u001b[0;32mdef\u001b[0m \u001b[0m__getattr__\u001b[0m\u001b[0;34m(\u001b[0m\u001b[0mself\u001b[0m\u001b[0;34m,\u001b[0m \u001b[0mattr\u001b[0m\u001b[0;34m)\u001b[0m\u001b[0;34m:\u001b[0m\u001b[0;34m\u001b[0m\u001b[0m\n\u001b[1;32m    277\u001b[0m         \u001b[0;32mif\u001b[0m \u001b[0mattr\u001b[0m \u001b[0;32min\u001b[0m \u001b[0mself\u001b[0m\u001b[0;34m.\u001b[0m\u001b[0mobj\u001b[0m\u001b[0;34m:\u001b[0m\u001b[0;34m\u001b[0m\u001b[0m\n\u001b[0;32m--> 278\u001b[0;31m             \u001b[0;32mreturn\u001b[0m \u001b[0mself\u001b[0m\u001b[0;34m[\u001b[0m\u001b[0mattr\u001b[0m\u001b[0;34m]\u001b[0m\u001b[0;34m\u001b[0m\u001b[0m\n\u001b[0m\u001b[1;32m    279\u001b[0m \u001b[0;34m\u001b[0m\u001b[0m\n\u001b[1;32m    280\u001b[0m         \u001b[0;32mif\u001b[0m \u001b[0mhasattr\u001b[0m\u001b[0;34m(\u001b[0m\u001b[0mself\u001b[0m\u001b[0;34m.\u001b[0m\u001b[0mobj\u001b[0m\u001b[0;34m,\u001b[0m \u001b[0mattr\u001b[0m\u001b[0;34m)\u001b[0m \u001b[0;32mand\u001b[0m \u001b[0mattr\u001b[0m \u001b[0;34m!=\u001b[0m \u001b[0;34m'_cache'\u001b[0m\u001b[0;34m:\u001b[0m\u001b[0;34m\u001b[0m\u001b[0m\n",
        "\u001b[0;32m/Users/itchy/src/anaconda/lib/python2.7/site-packages/pandas-0.13.0rc1_59_g90990db-py2.7-macosx-10.5-x86_64.egg/pandas/core/groupby.pyc\u001b[0m in \u001b[0;36m__getitem__\u001b[0;34m(self, key)\u001b[0m\n\u001b[1;32m   2440\u001b[0m     \u001b[0;32mdef\u001b[0m \u001b[0m__getitem__\u001b[0m\u001b[0;34m(\u001b[0m\u001b[0mself\u001b[0m\u001b[0;34m,\u001b[0m \u001b[0mkey\u001b[0m\u001b[0;34m)\u001b[0m\u001b[0;34m:\u001b[0m\u001b[0;34m\u001b[0m\u001b[0m\n\u001b[1;32m   2441\u001b[0m         \u001b[0;32mif\u001b[0m \u001b[0mself\u001b[0m\u001b[0;34m.\u001b[0m\u001b[0m_selection\u001b[0m \u001b[0;32mis\u001b[0m \u001b[0;32mnot\u001b[0m \u001b[0mNone\u001b[0m\u001b[0;34m:\u001b[0m\u001b[0;34m\u001b[0m\u001b[0m\n\u001b[0;32m-> 2442\u001b[0;31m             \u001b[0;32mraise\u001b[0m \u001b[0mException\u001b[0m\u001b[0;34m(\u001b[0m\u001b[0;34m'Column(s) %s already selected'\u001b[0m \u001b[0;34m%\u001b[0m \u001b[0mself\u001b[0m\u001b[0;34m.\u001b[0m\u001b[0m_selection\u001b[0m\u001b[0;34m)\u001b[0m\u001b[0;34m\u001b[0m\u001b[0m\n\u001b[0m\u001b[1;32m   2443\u001b[0m \u001b[0;34m\u001b[0m\u001b[0m\n\u001b[1;32m   2444\u001b[0m         if (isinstance(key, (list, tuple, Series, np.ndarray)) or\n",
        "\u001b[0;31mException\u001b[0m: Column(s) iter\n0        True\n1        True\n2        True\n3       False\n4       False\n5       False\n6       False\n7       False\n8       False\n9       False\n10      False\n11       True\n12       True\n13       True\n14       True\n...\n4836    True\n4837    True\n4838    True\n4839    True\n4840    True\n4841    True\n4842    True\n4843    True\n4844    True\n4845    True\n4846    True\n4847    True\n4848    True\n4849    True\n4850    True\nName: misfit, Length: 4851, dtype: bool already selected"
       ]
      }
     ],
     "prompt_number": 10
    },
    {
     "cell_type": "code",
     "collapsed": false,
     "input": [],
     "language": "python",
     "metadata": {},
     "outputs": []
    }
   ],
   "metadata": {}
  }
 ]
}