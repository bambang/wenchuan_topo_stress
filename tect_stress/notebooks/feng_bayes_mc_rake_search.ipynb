{
 "metadata": {
  "name": ""
 },
 "nbformat": 3,
 "nbformat_minor": 0,
 "worksheets": [
  {
   "cells": [
    {
     "cell_type": "code",
     "collapsed": false,
     "input": [
      "%pylab inline\n",
      "%config InlineBackend.figure_format = 'retina'"
     ],
     "language": "python",
     "metadata": {},
     "outputs": [
      {
       "output_type": "stream",
       "stream": "stdout",
       "text": [
        "Populating the interactive namespace from numpy and matplotlib\n"
       ]
      }
     ],
     "prompt_number": 1
    },
    {
     "cell_type": "code",
     "collapsed": false,
     "input": [
      "import sys\n",
      "sys.path.append('../scripts/')"
     ],
     "language": "python",
     "metadata": {},
     "outputs": [],
     "prompt_number": 2
    },
    {
     "cell_type": "code",
     "collapsed": false,
     "input": [
      "import numpy as np\n",
      "import pandas as pd\n",
      "import halfspace.projections as hsp\n",
      "import time\n",
      "import stress_comps_vectorized as scv"
     ],
     "language": "python",
     "metadata": {},
     "outputs": [],
     "prompt_number": 3
    },
    {
     "cell_type": "code",
     "collapsed": false,
     "input": [
      "fb = pd.read_csv('../../slip_models/feng/feng_beich.csv', index_col=0)\n",
      "fp = pd.read_csv('../../slip_models/feng/feng_peng.csv', index_col=0)\n",
      "\n",
      "lms = pd.concat((fb, fp), axis=0)\n",
      "lms.head()"
     ],
     "language": "python",
     "metadata": {},
     "outputs": [
      {
       "html": [
        "<div style=\"max-height:1000px;max-width:1500px;overflow:auto;\">\n",
        "<table border=\"1\" class=\"dataframe\">\n",
        "  <thead>\n",
        "    <tr style=\"text-align: right;\">\n",
        "      <th></th>\n",
        "      <th>azimuth</th>\n",
        "      <th>bottom</th>\n",
        "      <th>depth</th>\n",
        "      <th>dip</th>\n",
        "      <th>dip_m</th>\n",
        "      <th>e_trace</th>\n",
        "      <th>easting</th>\n",
        "      <th>fault_seg</th>\n",
        "      <th>lat</th>\n",
        "      <th>lat_c1</th>\n",
        "      <th>lat_c2</th>\n",
        "      <th>lon</th>\n",
        "      <th>lon_c1</th>\n",
        "      <th>lon_c2</th>\n",
        "      <th>n_trace</th>\n",
        "      <th>northing</th>\n",
        "      <th>pt_index</th>\n",
        "      <th>sig_nn</th>\n",
        "      <th>strike</th>\n",
        "      <th>strike_m</th>\n",
        "      <th></th>\n",
        "    </tr>\n",
        "    <tr>\n",
        "      <th>index</th>\n",
        "      <th></th>\n",
        "      <th></th>\n",
        "      <th></th>\n",
        "      <th></th>\n",
        "      <th></th>\n",
        "      <th></th>\n",
        "      <th></th>\n",
        "      <th></th>\n",
        "      <th></th>\n",
        "      <th></th>\n",
        "      <th></th>\n",
        "      <th></th>\n",
        "      <th></th>\n",
        "      <th></th>\n",
        "      <th></th>\n",
        "      <th></th>\n",
        "      <th></th>\n",
        "      <th></th>\n",
        "      <th></th>\n",
        "      <th></th>\n",
        "    </tr>\n",
        "  </thead>\n",
        "  <tbody>\n",
        "    <tr>\n",
        "      <th>0</th>\n",
        "      <td> 36.001</td>\n",
        "      <td> -4</td>\n",
        "      <td>  2</td>\n",
        "      <td> 67</td>\n",
        "      <td> 1.2701</td>\n",
        "      <td> 228.97095</td>\n",
        "      <td> 228.284144</td>\n",
        "      <td> s1</td>\n",
        "      <td> 32.593350</td>\n",
        "      <td> 177.4075</td>\n",
        "      <td> 175.0563</td>\n",
        "      <td> 105.419597</td>\n",
        "      <td> 230.589</td>\n",
        "      <td> 227.3529</td>\n",
        "      <td> 176.2319</td>\n",
        "      <td> 176.730912</td>\n",
        "      <td> 0</td>\n",
        "      <td> 16.134942</td>\n",
        "      <td> 216.001</td>\n",
        "      <td> 0.6808</td>\n",
        "      <td>...</td>\n",
        "    </tr>\n",
        "    <tr>\n",
        "      <th>1</th>\n",
        "      <td> 36.001</td>\n",
        "      <td> -8</td>\n",
        "      <td>  6</td>\n",
        "      <td> 67</td>\n",
        "      <td> 1.8176</td>\n",
        "      <td> 228.97095</td>\n",
        "      <td> 226.910532</td>\n",
        "      <td> s1</td>\n",
        "      <td> 32.602329</td>\n",
        "      <td> 177.4075</td>\n",
        "      <td> 175.0563</td>\n",
        "      <td> 105.404995</td>\n",
        "      <td> 230.589</td>\n",
        "      <td> 227.3529</td>\n",
        "      <td> 176.2319</td>\n",
        "      <td> 177.728936</td>\n",
        "      <td> 1</td>\n",
        "      <td> 20.884637</td>\n",
        "      <td> 216.001</td>\n",
        "      <td> 0.9562</td>\n",
        "      <td>...</td>\n",
        "    </tr>\n",
        "    <tr>\n",
        "      <th>2</th>\n",
        "      <td> 36.001</td>\n",
        "      <td>-12</td>\n",
        "      <td> 10</td>\n",
        "      <td> 67</td>\n",
        "      <td> 1.1725</td>\n",
        "      <td> 228.97095</td>\n",
        "      <td> 225.536920</td>\n",
        "      <td> s1</td>\n",
        "      <td> 32.611309</td>\n",
        "      <td> 177.4075</td>\n",
        "      <td> 175.0563</td>\n",
        "      <td> 105.390393</td>\n",
        "      <td> 230.589</td>\n",
        "      <td> 227.3529</td>\n",
        "      <td> 176.2319</td>\n",
        "      <td> 178.726960</td>\n",
        "      <td> 2</td>\n",
        "      <td> 24.329660</td>\n",
        "      <td> 216.001</td>\n",
        "      <td> 0.8234</td>\n",
        "      <td>...</td>\n",
        "    </tr>\n",
        "    <tr>\n",
        "      <th>3</th>\n",
        "      <td> 36.001</td>\n",
        "      <td>-16</td>\n",
        "      <td> 14</td>\n",
        "      <td> 67</td>\n",
        "      <td> 0.4852</td>\n",
        "      <td> 228.97095</td>\n",
        "      <td> 224.163308</td>\n",
        "      <td> s1</td>\n",
        "      <td> 32.620288</td>\n",
        "      <td> 177.4075</td>\n",
        "      <td> 175.0563</td>\n",
        "      <td> 105.375790</td>\n",
        "      <td> 230.589</td>\n",
        "      <td> 227.3529</td>\n",
        "      <td> 176.2319</td>\n",
        "      <td> 179.724984</td>\n",
        "      <td> 3</td>\n",
        "      <td> 26.690489</td>\n",
        "      <td> 216.001</td>\n",
        "      <td> 0.4876</td>\n",
        "      <td>...</td>\n",
        "    </tr>\n",
        "    <tr>\n",
        "      <th>4</th>\n",
        "      <td> 36.001</td>\n",
        "      <td>-20</td>\n",
        "      <td> 18</td>\n",
        "      <td> 67</td>\n",
        "      <td> 0.1496</td>\n",
        "      <td> 228.97095</td>\n",
        "      <td> 222.789696</td>\n",
        "      <td> s1</td>\n",
        "      <td> 32.629268</td>\n",
        "      <td> 177.4075</td>\n",
        "      <td> 175.0563</td>\n",
        "      <td> 105.361188</td>\n",
        "      <td> 230.589</td>\n",
        "      <td> 227.3529</td>\n",
        "      <td> 176.2319</td>\n",
        "      <td> 180.723009</td>\n",
        "      <td> 4</td>\n",
        "      <td> 28.653278</td>\n",
        "      <td> 216.001</td>\n",
        "      <td> 0.1541</td>\n",
        "      <td>...</td>\n",
        "    </tr>\n",
        "  </tbody>\n",
        "</table>\n",
        "<p>5 rows \u00d7 35 columns</p>\n",
        "</div>"
       ],
       "metadata": {},
       "output_type": "pyout",
       "prompt_number": 4,
       "text": [
        "       azimuth  bottom  depth  dip   dip_m    e_trace     easting fault_seg  \\\n",
        "index                                                                         \n",
        "0       36.001      -4      2   67  1.2701  228.97095  228.284144        s1   \n",
        "1       36.001      -8      6   67  1.8176  228.97095  226.910532        s1   \n",
        "2       36.001     -12     10   67  1.1725  228.97095  225.536920        s1   \n",
        "3       36.001     -16     14   67  0.4852  228.97095  224.163308        s1   \n",
        "4       36.001     -20     18   67  0.1496  228.97095  222.789696        s1   \n",
        "\n",
        "             lat    lat_c1    lat_c2         lon   lon_c1    lon_c2   n_trace  \\\n",
        "index                                                                           \n",
        "0      32.593350  177.4075  175.0563  105.419597  230.589  227.3529  176.2319   \n",
        "1      32.602329  177.4075  175.0563  105.404995  230.589  227.3529  176.2319   \n",
        "2      32.611309  177.4075  175.0563  105.390393  230.589  227.3529  176.2319   \n",
        "3      32.620288  177.4075  175.0563  105.375790  230.589  227.3529  176.2319   \n",
        "4      32.629268  177.4075  175.0563  105.361188  230.589  227.3529  176.2319   \n",
        "\n",
        "         northing  pt_index     sig_nn   strike  strike_m      \n",
        "index                                                          \n",
        "0      176.730912         0  16.134942  216.001    0.6808 ...  \n",
        "1      177.728936         1  20.884637  216.001    0.9562 ...  \n",
        "2      178.726960         2  24.329660  216.001    0.8234 ...  \n",
        "3      179.724984         3  26.690489  216.001    0.4876 ...  \n",
        "4      180.723009         4  28.653278  216.001    0.1541 ...  \n",
        "\n",
        "[5 rows x 35 columns]"
       ]
      }
     ],
     "prompt_number": 4
    },
    {
     "cell_type": "code",
     "collapsed": false,
     "input": [
      "n_trials = 2e4\n",
      "\n",
      "n_points = len(lms.index)"
     ],
     "language": "python",
     "metadata": {},
     "outputs": [],
     "prompt_number": 5
    },
    {
     "cell_type": "code",
     "collapsed": false,
     "input": [
      "rho = 2700\n",
      "g = 9.81"
     ],
     "language": "python",
     "metadata": {},
     "outputs": [],
     "prompt_number": 6
    },
    {
     "cell_type": "code",
     "collapsed": false,
     "input": [
      "s1s = np.random.uniform(1,3, n_trials)\n",
      "s3s = np.random.uniform(0, 1, n_trials) * s1s\n",
      "thetas = np.random.uniform(0, 2 * np.pi, n_trials)\n",
      "\n",
      "xxs = scv.xx_stress_from_s1_s3_theta(s1s, s3s, thetas)\n",
      "yys = scv.yy_stress_from_s1_s3_theta(s1s, s3s, thetas)\n",
      "xys = scv.xy_stress_from_s1_s3_theta(s1s, s3s, thetas)\n",
      "\n",
      "del s1s, s3s, thetas"
     ],
     "language": "python",
     "metadata": {},
     "outputs": [],
     "prompt_number": 7
    },
    {
     "cell_type": "code",
     "collapsed": false,
     "input": [
      "xxs = xxs.reshape([n_trials, 1])\n",
      "yys = yys.reshape([n_trials, 1])\n",
      "xys = xys.reshape([n_trials, 1])"
     ],
     "language": "python",
     "metadata": {},
     "outputs": [],
     "prompt_number": 8
    },
    {
     "cell_type": "code",
     "collapsed": false,
     "input": [
      "t_priors = np.concatenate((xxs, yys, xys), axis=1)\n",
      "\n",
      "t_priors.shape"
     ],
     "language": "python",
     "metadata": {},
     "outputs": [
      {
       "metadata": {},
       "output_type": "pyout",
       "prompt_number": 9,
       "text": [
        "(20000, 3)"
       ]
      }
     ],
     "prompt_number": 9
    },
    {
     "cell_type": "code",
     "collapsed": false,
     "input": [
      "search_df_cols = ['iter','txx', 'tyy', 'txy', 'pt_index',\n",
      "                  'depth', 'strike', 'dip', 'slip_m',\n",
      "                  'slip_rake']"
     ],
     "language": "python",
     "metadata": {},
     "outputs": [],
     "prompt_number": 10
    },
    {
     "cell_type": "code",
     "collapsed": false,
     "input": [
      "iter_range = np.arange(n_trials, dtype='float')\n",
      "pt_range = np.arange(n_points, dtype='float')"
     ],
     "language": "python",
     "metadata": {},
     "outputs": [],
     "prompt_number": 11
    },
    {
     "cell_type": "code",
     "collapsed": false,
     "input": [
      "index_list = [[iter_range[i],t_priors[i,0],t_priors[i,1],t_priors[i,2], pi]\n",
      "             for i in iter_range for pi in pt_range]\n",
      "\n",
      "index_array= np.array(index_list)\n",
      "del index_list\n",
      "\n",
      "iter_index = np.int_(index_array[:,0].copy() )\n",
      "pt_index = np.int_(index_array[:,4].copy() )\n",
      "prior_array = index_array[:,1:4]\n",
      "\n",
      "del index_array\n",
      "#index_array.shape"
     ],
     "language": "python",
     "metadata": {},
     "outputs": [],
     "prompt_number": 12
    },
    {
     "cell_type": "code",
     "collapsed": false,
     "input": [
      "search_df=pd.DataFrame(index=np.arange(len(iter_index)), \n",
      "                       columns=search_df_cols, dtype=float)"
     ],
     "language": "python",
     "metadata": {},
     "outputs": [],
     "prompt_number": 13
    },
    {
     "cell_type": "code",
     "collapsed": false,
     "input": [
      "lms.iloc[0]"
     ],
     "language": "python",
     "metadata": {},
     "outputs": [
      {
       "metadata": {},
       "output_type": "pyout",
       "prompt_number": 14,
       "text": [
        "azimuth         36.001\n",
        "bottom              -4\n",
        "depth                2\n",
        "dip                 67\n",
        "dip_m           1.2701\n",
        "e_trace       228.9709\n",
        "easting       228.2841\n",
        "fault_seg           s1\n",
        "lat           32.59335\n",
        "lat_c1        177.4075\n",
        "lat_c2        175.0563\n",
        "lon           105.4196\n",
        "lon_c1         230.589\n",
        "lon_c2        227.3529\n",
        "n_trace       176.2319\n",
        "northing      176.7309\n",
        "pt_index             0\n",
        "sig_nn        16.13494\n",
        "strike         216.001\n",
        "strike_m        0.6808\n",
        "tau_cs       -2.227998\n",
        "tau_dd        0.727678\n",
        "tau_ss       -7.417358\n",
        "top                 -0\n",
        "utm_lat        3606285\n",
        "utm_lon         539376\n",
        "x_pixel       1398.165\n",
        "xx_stress     11.59959\n",
        "xy_stress    0.6417662\n",
        "xz_stress    -1.037034\n",
        "y_pixel       693.5308\n",
        "yy_stress     30.21103\n",
        "yz_stress     2.483645\n",
        "z_pixel          0.149\n",
        "zz_stress      19.8364\n",
        "Name: 0, dtype: object"
       ]
      }
     ],
     "prompt_number": 14
    },
    {
     "cell_type": "code",
     "collapsed": false,
     "input": [
      "search_df['iter'] = iter_index\n",
      "search_df[search_df_cols[1:4]]=prior_array\n",
      "search_df['pt_index'] = pt_index"
     ],
     "language": "python",
     "metadata": {},
     "outputs": [],
     "prompt_number": 15
    },
    {
     "cell_type": "code",
     "collapsed": false,
     "input": [
      "lms['slip_m'] = np.sqrt(lms.strike_m**2 + lms.dip_m**2)\n",
      "lms['slip_rake'] = hsp.get_rake_from_shear_components(lms.strike_m,\n",
      "                                                      lms.dip_m)"
     ],
     "language": "python",
     "metadata": {},
     "outputs": [],
     "prompt_number": 16
    },
    {
     "cell_type": "code",
     "collapsed": false,
     "input": [
      "search_df['mxx'] = 0.\n",
      "search_df['myy'] = 0.\n",
      "search_df['mxy'] = 0.\n",
      "search_df['mxz'] = 0.\n",
      "search_df['myz'] = 0.\n",
      "search_df['mzz'] = 0."
     ],
     "language": "python",
     "metadata": {},
     "outputs": [],
     "prompt_number": 17
    },
    {
     "cell_type": "code",
     "collapsed": false,
     "input": [
      "lms_fill_cols = ['depth', 'strike', 'dip', 'slip_m', 'slip_rake',\n",
      "                       'mxx', 'myy', 'mxy', 'mzz', 'mxz', 'myz']\n",
      "\n",
      "lms_copy_cols = ['depth', 'strike','dip','slip_m', 'slip_rake',\n",
      "                'xx_stress', 'yy_stress', 'xy_stress', 'zz_stress',\n",
      "                'xz_stress', 'yz_stress']\n",
      "\n",
      "lms_col_array = lms[lms_copy_cols].values\n",
      "\n",
      "lms_reps = np.tile(lms_col_array, [n_trials, 1])\n",
      "\n",
      "search_df[lms_fill_cols] = lms_reps\n",
      "\n",
      "search_df.depth *= 1000\n",
      "\n",
      "search_df[['mxx', 'myy', 'mxy', 'mzz', 'mxz', 'myz']] *= 1e6"
     ],
     "language": "python",
     "metadata": {},
     "outputs": [],
     "prompt_number": 18
    },
    {
     "cell_type": "markdown",
     "metadata": {},
     "source": [
      "## OK, now let's do some calculations"
     ]
    },
    {
     "cell_type": "code",
     "collapsed": false,
     "input": [
      "search_df['tau_s'] = scv.strike_shear(strike = search_df.strike, \n",
      "                          dip=search_df.dip, rho=rho, g=g,\n",
      "                          mxx=search_df.mxx, myy=search_df.myy,\n",
      "                          mxy=search_df.mxy, mzz=search_df.mzz,\n",
      "                          mxz=search_df.mxz, myz=search_df.myz,\n",
      "                          txx=search_df.txx, tyy=search_df.tyy,\n",
      "                          txy=search_df.txy, depth=search_df.depth)"
     ],
     "language": "python",
     "metadata": {},
     "outputs": [],
     "prompt_number": 19
    },
    {
     "cell_type": "code",
     "collapsed": false,
     "input": [
      "search_df['tau_d'] = scv.dip_shear(strike = search_df.strike, \n",
      "                          dip=search_df.dip, rho=rho, g=g,\n",
      "                          mxx=search_df.mxx, myy=search_df.myy,\n",
      "                          mxy=search_df.mxy, mzz=search_df.mzz,\n",
      "                          mxz=search_df.mxz, myz=search_df.myz,\n",
      "                          txx=search_df.txx, tyy=search_df.tyy,\n",
      "                          txy=search_df.txy, depth=search_df.depth)"
     ],
     "language": "python",
     "metadata": {},
     "outputs": [],
     "prompt_number": 20
    },
    {
     "cell_type": "code",
     "collapsed": false,
     "input": [
      "search_df['tau_rake'] = np.degrees( np.arctan2( search_df.tau_d, \n",
      "                                                search_df.tau_s) )"
     ],
     "language": "python",
     "metadata": {},
     "outputs": [],
     "prompt_number": 21
    },
    {
     "cell_type": "code",
     "collapsed": false,
     "input": [
      "search_df['rake_misfit'] = scv.angle_difference(search_df.slip_rake,\n",
      "                                            search_df.tau_rake)"
     ],
     "language": "python",
     "metadata": {},
     "outputs": [],
     "prompt_number": 22
    },
    {
     "cell_type": "code",
     "collapsed": false,
     "input": [
      "mean_slip = lms.slip_m.mean()\n",
      "max_slip = lms.slip_m.max()\n",
      "rake_err = 20 #degrees\n",
      "\n",
      "search_df['chi_sq'] = (search_df.rake_misfit**2 \n",
      "                                      * search_df.slip_m\n",
      "                                      / (rake_err**2 *  max_slip) )\n",
      "\n",
      "search_df['weighted_diff'] = (search_df.rake_misfit * search_df.slip_m  \n",
      "                              / (rake_err * max_slip) )\n",
      "\n",
      "search_df['weighted_diff_2'] = (search_df.rake_misfit * search_df.slip_m \n",
      "                                / mean_slip )"
     ],
     "language": "python",
     "metadata": {},
     "outputs": [],
     "prompt_number": 23
    },
    {
     "cell_type": "code",
     "collapsed": false,
     "input": [
      "#search_df.rake_misfit.describe()"
     ],
     "language": "python",
     "metadata": {},
     "outputs": [],
     "prompt_number": 24
    },
    {
     "cell_type": "code",
     "collapsed": false,
     "input": [
      "iters = search_df.groupby('iter')"
     ],
     "language": "python",
     "metadata": {},
     "outputs": [],
     "prompt_number": 25
    },
    {
     "cell_type": "markdown",
     "metadata": {},
     "source": [
      "$ \\exp \\{- \\frac{1}{2}  \\sqrt{ \\Sigma \\frac{|p_i - o_i|^2 s_i}{\\bar{s}} } \\}$"
     ]
    },
    {
     "cell_type": "markdown",
     "metadata": {},
     "source": [
      "$ \\exp \\{- \\frac{1}{2}  \\sqrt{ \\Sigma \\frac{|p_i - o_i|^2 \\sigma_r s_{max}}{s_i} } \\}$"
     ]
    },
    {
     "cell_type": "markdown",
     "metadata": {},
     "source": [
      "$ \\exp \\left\\{- \\frac{1}{2}  \\Sigma \\frac{|p_i - o_i|^2  s_{i}}{\\sigma^2 s_{max}} \\right\\}$"
     ]
    },
    {
     "cell_type": "markdown",
     "metadata": {},
     "source": [
      "$ \\exp \\{- \\frac{1}{2}  \\sqrt{ \\Sigma \\frac{|p_i - o_i|^2 \\sigma_r s_i}{s_{max}} } \\}$"
     ]
    },
    {
     "cell_type": "markdown",
     "metadata": {},
     "source": [
      "Use the same error on all fault points, so that the total uncertainty that would take into account the slip magnitude weighting should be:\n",
      "sigma_rake*max[s]/s_i\n",
      "note mean[s]->max[s] just so that the minimum uncertainty in the likelihood calc is sigma_rake and not >sigma_rake."
     ]
    },
    {
     "cell_type": "code",
     "collapsed": false,
     "input": [
      "#def l2(array):\n",
      "#    return np.linalg.norm(array, 2)"
     ],
     "language": "python",
     "metadata": {},
     "outputs": [],
     "prompt_number": 26
    },
    {
     "cell_type": "code",
     "collapsed": false,
     "input": [
      "#iter_l2 = iters.chi_sq.apply(l2)\n",
      "iter_l2 = iters.chi_sq.sum()\n",
      "iter_l1 = iters.weighted_diff.sum()\n",
      "\n",
      "iter_l1n = iter_l1 - iter_l1.min()\n",
      "iter_l2n = iter_l2 - iter_l2.min()"
     ],
     "language": "python",
     "metadata": {},
     "outputs": [],
     "prompt_number": 27
    },
    {
     "cell_type": "code",
     "collapsed": false,
     "input": [
      "iter_l1.describe()"
     ],
     "language": "python",
     "metadata": {},
     "outputs": [
      {
       "metadata": {},
       "output_type": "pyout",
       "prompt_number": 28,
       "text": [
        "count    20000.000000\n",
        "mean       527.116138\n",
        "std        222.805622\n",
        "min        238.349516\n",
        "25%        355.279410\n",
        "50%        477.120423\n",
        "75%        650.776704\n",
        "max       1262.116886\n",
        "Name: weighted_diff, dtype: float64"
       ]
      }
     ],
     "prompt_number": 28
    },
    {
     "cell_type": "code",
     "collapsed": false,
     "input": [
      "iter_l1n.describe()"
     ],
     "language": "python",
     "metadata": {},
     "outputs": [
      {
       "metadata": {},
       "output_type": "pyout",
       "prompt_number": 29,
       "text": [
        "count    20000.000000\n",
        "mean       288.766622\n",
        "std        222.805622\n",
        "min          0.000000\n",
        "25%        116.929894\n",
        "50%        238.770907\n",
        "75%        412.427188\n",
        "max       1023.767370\n",
        "Name: weighted_diff, dtype: float64"
       ]
      }
     ],
     "prompt_number": 29
    },
    {
     "cell_type": "code",
     "collapsed": false,
     "input": [
      "iter_l2.describe()"
     ],
     "language": "python",
     "metadata": {},
     "outputs": [
      {
       "metadata": {},
       "output_type": "pyout",
       "prompt_number": 30,
       "text": [
        "count    20000.000000\n",
        "mean      2060.280700\n",
        "std       1561.894873\n",
        "min        471.922635\n",
        "25%        956.590715\n",
        "50%       1576.221979\n",
        "75%       2596.191980\n",
        "max       9172.267489\n",
        "Name: chi_sq, dtype: float64"
       ]
      }
     ],
     "prompt_number": 30
    },
    {
     "cell_type": "code",
     "collapsed": false,
     "input": [
      "iter_l2n.describe()"
     ],
     "language": "python",
     "metadata": {},
     "outputs": [
      {
       "metadata": {},
       "output_type": "pyout",
       "prompt_number": 31,
       "text": [
        "count    20000.000000\n",
        "mean      1588.358065\n",
        "std       1561.894873\n",
        "min          0.000000\n",
        "25%        484.668080\n",
        "50%       1104.299344\n",
        "75%       2124.269345\n",
        "max       8700.344854\n",
        "Name: chi_sq, dtype: float64"
       ]
      }
     ],
     "prompt_number": 31
    },
    {
     "cell_type": "code",
     "collapsed": false,
     "input": [
      "iter_lp1 = np.exp( -np.sqrt(2)* iter_l1n)\n",
      "iter_lp2 = np.exp( - 0.5 * iter_l2n**2 )"
     ],
     "language": "python",
     "metadata": {},
     "outputs": [],
     "prompt_number": 32
    },
    {
     "cell_type": "code",
     "collapsed": false,
     "input": [
      "iter_lp1.describe()"
     ],
     "language": "python",
     "metadata": {},
     "outputs": [
      {
       "metadata": {},
       "output_type": "pyout",
       "prompt_number": 33,
       "text": [
        "count     2.000000e+04\n",
        "mean      8.449319e-04\n",
        "std       1.847607e-02\n",
        "min       0.000000e+00\n",
        "25%      4.935805e-254\n",
        "50%      2.241844e-147\n",
        "75%       1.525449e-72\n",
        "max       1.000000e+00\n",
        "Name: weighted_diff, dtype: float64"
       ]
      }
     ],
     "prompt_number": 33
    },
    {
     "cell_type": "code",
     "collapsed": false,
     "input": [
      "iter_lp2.describe()"
     ],
     "language": "python",
     "metadata": {},
     "outputs": [
      {
       "metadata": {},
       "output_type": "pyout",
       "prompt_number": 34,
       "text": [
        "count    20000.000000\n",
        "mean         0.000455\n",
        "std          0.016790\n",
        "min          0.000000\n",
        "25%          0.000000\n",
        "50%          0.000000\n",
        "75%          0.000000\n",
        "max          1.000000\n",
        "Name: chi_sq, dtype: float64"
       ]
      }
     ],
     "prompt_number": 34
    },
    {
     "cell_type": "code",
     "collapsed": false,
     "input": [
      "figure(1)\n",
      "iter_l1.hist(bins=50)\n",
      "xlabel('l1')\n",
      "\n",
      "figure(2)\n",
      "iter_l1n.hist(bins=50)\n",
      "xlabel('l1 - l1_min')"
     ],
     "language": "python",
     "metadata": {},
     "outputs": [
      {
       "metadata": {},
       "output_type": "pyout",
       "prompt_number": 35,
       "text": [
        "<matplotlib.text.Text at 0x10d677a50>"
       ]
      },
      {
       "metadata": {
        "png": {
         "height": 270,
         "width": 384
        }
       },
       "output_type": "display_data",
       "png": "[encoded data removed]",
       "text": [
        "<matplotlib.figure.Figure at 0x10b4b9490>"
       ]
      },
      {
       "metadata": {
        "png": {
         "height": 270,
         "width": 384
        }
       },
       "output_type": "display_data",
       "png": "[encoded data removed]",
       "text": [
        "<matplotlib.figure.Figure at 0x10b4c36d0>"
       ]
      }
     ],
     "prompt_number": 35
    },
    {
     "cell_type": "code",
     "collapsed": false,
     "input": [
      "figure(1)\n",
      "iter_l2.hist(bins=50)\n",
      "xlabel('l2')\n",
      "\n",
      "figure(2)\n",
      "iter_l2n.hist(bins=50)\n",
      "xlabel('l2 - l2_min')"
     ],
     "language": "python",
     "metadata": {},
     "outputs": [
      {
       "metadata": {},
       "output_type": "pyout",
       "prompt_number": 36,
       "text": [
        "<matplotlib.text.Text at 0x1f10ccad0>"
       ]
      },
      {
       "metadata": {
        "png": {
         "height": 270,
         "width": 387
        }
       },
       "output_type": "display_data",
       "png": "[encoded data removed]",
       "text": [
        "<matplotlib.figure.Figure at 0x200881810>"
       ]
      },
      {
       "metadata": {
        "png": {
         "height": 270,
         "width": 385
        }
       },
       "output_type": "display_data",
       "png": "[encoded data removed]",
       "text": [
        "<matplotlib.figure.Figure at 0x10baf9110>"
       ]
      }
     ],
     "prompt_number": 36
    },
    {
     "cell_type": "code",
     "collapsed": false,
     "input": [
      "iter_l1_likelihood = iter_lp1 #/ iter_lp1.max()\n",
      "\n",
      "iter_l2_likelihood = iter_lp2 #/ iter_lp2.max()"
     ],
     "language": "python",
     "metadata": {},
     "outputs": [],
     "prompt_number": 37
    },
    {
     "cell_type": "code",
     "collapsed": false,
     "input": [
      "rand_filter = np.random.random(n_trials)"
     ],
     "language": "python",
     "metadata": {},
     "outputs": [],
     "prompt_number": 38
    },
    {
     "cell_type": "code",
     "collapsed": false,
     "input": [
      "l1_keeps = iter_l1_likelihood[iter_l1_likelihood >= rand_filter]\n",
      "l2_keeps = iter_l2_likelihood[iter_l2_likelihood >= rand_filter]"
     ],
     "language": "python",
     "metadata": {},
     "outputs": [],
     "prompt_number": 39
    },
    {
     "cell_type": "code",
     "collapsed": false,
     "input": [
      "len(l1_keeps), len(l2_keeps)"
     ],
     "language": "python",
     "metadata": {},
     "outputs": [
      {
       "metadata": {},
       "output_type": "pyout",
       "prompt_number": 40,
       "text": [
        "(13, 8)"
       ]
      }
     ],
     "prompt_number": 40
    },
    {
     "cell_type": "code",
     "collapsed": false,
     "input": [
      "l1_keeps.hist(bins=50)"
     ],
     "language": "python",
     "metadata": {},
     "outputs": [
      {
       "metadata": {},
       "output_type": "pyout",
       "prompt_number": 41,
       "text": [
        "<matplotlib.axes.AxesSubplot at 0x10bb80d50>"
       ]
      },
      {
       "metadata": {
        "png": {
         "height": 255,
         "width": 372
        }
       },
       "output_type": "display_data",
       "png": "[encoded data removed]",
       "text": [
        "<matplotlib.figure.Figure at 0x10b4acb10>"
       ]
      }
     ],
     "prompt_number": 41
    },
    {
     "cell_type": "code",
     "collapsed": false,
     "input": [
      "l2_keeps.hist(bins=50)"
     ],
     "language": "python",
     "metadata": {},
     "outputs": [
      {
       "metadata": {},
       "output_type": "pyout",
       "prompt_number": 42,
       "text": [
        "<matplotlib.axes.AxesSubplot at 0x10bb640d0>"
       ]
      },
      {
       "metadata": {
        "png": {
         "height": 255,
         "width": 372
        }
       },
       "output_type": "display_data",
       "png": "[encoded data removed]",
       "text": [
        "<matplotlib.figure.Figure at 0x2008b9450>"
       ]
      }
     ],
     "prompt_number": 42
    },
    {
     "cell_type": "code",
     "collapsed": false,
     "input": [
      "iters_txx = iters.txx.mean()\n",
      "iters_tyy = iters.tyy.mean()\n",
      "iters_txy = iters.txy.mean()"
     ],
     "language": "python",
     "metadata": {},
     "outputs": [],
     "prompt_number": 43
    },
    {
     "cell_type": "code",
     "collapsed": false,
     "input": [
      "txx_keep = iters_txx[l1_keeps.index]\n",
      "txy_keep = iters_txy[l1_keeps.index]\n",
      "tyy_keep = iters_tyy[l1_keeps.index]"
     ],
     "language": "python",
     "metadata": {},
     "outputs": [],
     "prompt_number": 44
    },
    {
     "cell_type": "code",
     "collapsed": false,
     "input": [
      "iters[['txx', 'tyy', 'txy']].mean().iloc[l1_keeps.index]#[l2_keeps.index]"
     ],
     "language": "python",
     "metadata": {},
     "outputs": [
      {
       "html": [
        "<div style=\"max-height:1000px;max-width:1500px;overflow:auto;\">\n",
        "<table border=\"1\" class=\"dataframe\">\n",
        "  <thead>\n",
        "    <tr style=\"text-align: right;\">\n",
        "      <th></th>\n",
        "      <th>txx</th>\n",
        "      <th>tyy</th>\n",
        "      <th>txy</th>\n",
        "    </tr>\n",
        "    <tr>\n",
        "      <th>iter</th>\n",
        "      <th></th>\n",
        "      <th></th>\n",
        "      <th></th>\n",
        "    </tr>\n",
        "  </thead>\n",
        "  <tbody>\n",
        "    <tr>\n",
        "      <th>2707 </th>\n",
        "      <td> 2.205517</td>\n",
        "      <td> 0.181767</td>\n",
        "      <td>-0.552347</td>\n",
        "    </tr>\n",
        "    <tr>\n",
        "      <th>2799 </th>\n",
        "      <td> 2.488182</td>\n",
        "      <td> 0.202196</td>\n",
        "      <td>-0.577949</td>\n",
        "    </tr>\n",
        "    <tr>\n",
        "      <th>3877 </th>\n",
        "      <td> 2.869545</td>\n",
        "      <td> 0.408851</td>\n",
        "      <td>-0.543916</td>\n",
        "    </tr>\n",
        "    <tr>\n",
        "      <th>3984 </th>\n",
        "      <td> 1.648737</td>\n",
        "      <td> 0.091093</td>\n",
        "      <td>-0.359739</td>\n",
        "    </tr>\n",
        "    <tr>\n",
        "      <th>5362 </th>\n",
        "      <td> 1.574443</td>\n",
        "      <td> 0.172240</td>\n",
        "      <td>-0.407990</td>\n",
        "    </tr>\n",
        "    <tr>\n",
        "      <th>9082 </th>\n",
        "      <td> 1.107460</td>\n",
        "      <td> 0.090649</td>\n",
        "      <td>-0.250007</td>\n",
        "    </tr>\n",
        "    <tr>\n",
        "      <th>10930</th>\n",
        "      <td> 2.035804</td>\n",
        "      <td> 0.312578</td>\n",
        "      <td>-0.340375</td>\n",
        "    </tr>\n",
        "    <tr>\n",
        "      <th>11984</th>\n",
        "      <td> 1.517236</td>\n",
        "      <td> 0.103484</td>\n",
        "      <td>-0.369749</td>\n",
        "    </tr>\n",
        "    <tr>\n",
        "      <th>15967</th>\n",
        "      <td> 1.201012</td>\n",
        "      <td> 0.155390</td>\n",
        "      <td>-0.217762</td>\n",
        "    </tr>\n",
        "    <tr>\n",
        "      <th>17366</th>\n",
        "      <td> 1.657345</td>\n",
        "      <td> 0.156186</td>\n",
        "      <td>-0.337519</td>\n",
        "    </tr>\n",
        "    <tr>\n",
        "      <th>18136</th>\n",
        "      <td> 2.101551</td>\n",
        "      <td> 0.133148</td>\n",
        "      <td>-0.476244</td>\n",
        "    </tr>\n",
        "    <tr>\n",
        "      <th>18176</th>\n",
        "      <td> 1.829499</td>\n",
        "      <td> 0.166374</td>\n",
        "      <td>-0.439638</td>\n",
        "    </tr>\n",
        "    <tr>\n",
        "      <th>19636</th>\n",
        "      <td> 1.844708</td>\n",
        "      <td> 0.140633</td>\n",
        "      <td>-0.447181</td>\n",
        "    </tr>\n",
        "  </tbody>\n",
        "</table>\n",
        "<p>13 rows \u00d7 3 columns</p>\n",
        "</div>"
       ],
       "metadata": {},
       "output_type": "pyout",
       "prompt_number": 45,
       "text": [
        "            txx       tyy       txy\n",
        "iter                               \n",
        "2707   2.205517  0.181767 -0.552347\n",
        "2799   2.488182  0.202196 -0.577949\n",
        "3877   2.869545  0.408851 -0.543916\n",
        "3984   1.648737  0.091093 -0.359739\n",
        "5362   1.574443  0.172240 -0.407990\n",
        "9082   1.107460  0.090649 -0.250007\n",
        "10930  2.035804  0.312578 -0.340375\n",
        "11984  1.517236  0.103484 -0.369749\n",
        "15967  1.201012  0.155390 -0.217762\n",
        "17366  1.657345  0.156186 -0.337519\n",
        "18136  2.101551  0.133148 -0.476244\n",
        "18176  1.829499  0.166374 -0.439638\n",
        "19636  1.844708  0.140633 -0.447181\n",
        "\n",
        "[13 rows x 3 columns]"
       ]
      }
     ],
     "prompt_number": 45
    },
    {
     "cell_type": "code",
     "collapsed": false,
     "input": [
      "iters[['txx', 'tyy', 'txy']].mean().iloc[l2_keeps.index]"
     ],
     "language": "python",
     "metadata": {},
     "outputs": [
      {
       "html": [
        "<div style=\"max-height:1000px;max-width:1500px;overflow:auto;\">\n",
        "<table border=\"1\" class=\"dataframe\">\n",
        "  <thead>\n",
        "    <tr style=\"text-align: right;\">\n",
        "      <th></th>\n",
        "      <th>txx</th>\n",
        "      <th>tyy</th>\n",
        "      <th>txy</th>\n",
        "    </tr>\n",
        "    <tr>\n",
        "      <th>iter</th>\n",
        "      <th></th>\n",
        "      <th></th>\n",
        "      <th></th>\n",
        "    </tr>\n",
        "  </thead>\n",
        "  <tbody>\n",
        "    <tr>\n",
        "      <th>3984 </th>\n",
        "      <td> 1.648737</td>\n",
        "      <td> 0.091093</td>\n",
        "      <td>-0.359739</td>\n",
        "    </tr>\n",
        "    <tr>\n",
        "      <th>5432 </th>\n",
        "      <td> 1.975518</td>\n",
        "      <td> 0.112029</td>\n",
        "      <td>-0.336416</td>\n",
        "    </tr>\n",
        "    <tr>\n",
        "      <th>5437 </th>\n",
        "      <td> 2.176440</td>\n",
        "      <td> 0.128818</td>\n",
        "      <td>-0.502072</td>\n",
        "    </tr>\n",
        "    <tr>\n",
        "      <th>6055 </th>\n",
        "      <td> 1.899968</td>\n",
        "      <td> 0.120838</td>\n",
        "      <td>-0.326426</td>\n",
        "    </tr>\n",
        "    <tr>\n",
        "      <th>6437 </th>\n",
        "      <td> 2.632288</td>\n",
        "      <td> 0.151295</td>\n",
        "      <td>-0.561969</td>\n",
        "    </tr>\n",
        "    <tr>\n",
        "      <th>8163 </th>\n",
        "      <td> 2.665730</td>\n",
        "      <td> 0.187838</td>\n",
        "      <td>-0.507585</td>\n",
        "    </tr>\n",
        "    <tr>\n",
        "      <th>16244</th>\n",
        "      <td> 1.623120</td>\n",
        "      <td> 0.101588</td>\n",
        "      <td>-0.345522</td>\n",
        "    </tr>\n",
        "    <tr>\n",
        "      <th>18136</th>\n",
        "      <td> 2.101551</td>\n",
        "      <td> 0.133148</td>\n",
        "      <td>-0.476244</td>\n",
        "    </tr>\n",
        "  </tbody>\n",
        "</table>\n",
        "<p>8 rows \u00d7 3 columns</p>\n",
        "</div>"
       ],
       "metadata": {},
       "output_type": "pyout",
       "prompt_number": 46,
       "text": [
        "            txx       tyy       txy\n",
        "iter                               \n",
        "3984   1.648737  0.091093 -0.359739\n",
        "5432   1.975518  0.112029 -0.336416\n",
        "5437   2.176440  0.128818 -0.502072\n",
        "6055   1.899968  0.120838 -0.326426\n",
        "6437   2.632288  0.151295 -0.561969\n",
        "8163   2.665730  0.187838 -0.507585\n",
        "16244  1.623120  0.101588 -0.345522\n",
        "18136  2.101551  0.133148 -0.476244\n",
        "\n",
        "[8 rows x 3 columns]"
       ]
      }
     ],
     "prompt_number": 46
    },
    {
     "cell_type": "code",
     "collapsed": false,
     "input": [
      "#tau_posteriors = pd.concat([txx_keep, tyy_keep, txy_keep], axis=1,\n",
      "#                           names=['txx', 'tyy', 'txy'])\n",
      "\n",
      "#tau_posteriors.to_csv('tau_posteriors.csv', index=False)"
     ],
     "language": "python",
     "metadata": {},
     "outputs": [],
     "prompt_number": 47
    },
    {
     "cell_type": "code",
     "collapsed": false,
     "input": [
      "#tau_posteriors"
     ],
     "language": "python",
     "metadata": {},
     "outputs": [],
     "prompt_number": 48
    },
    {
     "cell_type": "code",
     "collapsed": false,
     "input": [
      "def make_xy_stress_tensor(s_xx=0, s_yy=0, s_xy=0):\n",
      "    T = np.matrix([[s_xx, s_xy],\n",
      "                   [s_xy, s_yy]])\n",
      "    \n",
      "    return T\n",
      "\n",
      "def get_princ_stress_dirs(T):\n",
      "    vals, vecs = hsp.sorted_eigens(T)\n",
      "    vecs = np.array(vecs)\n",
      "    \n",
      "    max_x = vecs[0,1] * vals[1]\n",
      "    max_y = vecs[1,1] * vals[1]\n",
      "    min_x = vecs[0,0] * vals[0]\n",
      "    min_y = vecs[1,0] * vals[0]\n",
      "    \n",
      "    return max_x, max_y, min_x, min_y\n",
      "\n",
      "\n",
      "def calc_princ_stress_dirs_from_tensor(s_xx=0, s_yy=0, s_xy=0):\n",
      "    T = make_xy_stress_tensor(s_xx=s_xx, s_yy=s_yy, s_xy=s_xy)\n",
      "    \n",
      "    max_x, max_y, min_x, min_y = get_princ_stress_dirs(T)\n",
      "    return max_x, max_y, min_x, min_y"
     ],
     "language": "python",
     "metadata": {},
     "outputs": [],
     "prompt_number": 49
    },
    {
     "cell_type": "code",
     "collapsed": false,
     "input": [
      "figure()\n",
      "for i in l1_keeps.index:\n",
      "    \n",
      "    txx, tyy, txy = iters[['txx', 'tyy', 'txy']].mean().iloc[i]\n",
      "    \n",
      "    XX, YY, xx, yy = calc_princ_stress_dirs_from_tensor(txx, tyy, txy)\n",
      "    #print(XX,YY)\n",
      "    plot([-XX, XX], [-YY, YY], 'r', alpha=0.2)\n",
      "    plot([-xx, xx], [-yy, yy], 'b', alpha=0.2)\n",
      "\n",
      "axis('equal')\n",
      "title('L1 posteriors')\n",
      "show()"
     ],
     "language": "python",
     "metadata": {},
     "outputs": [
      {
       "metadata": {
        "png": {
         "height": 265,
         "width": 374
        }
       },
       "output_type": "display_data",
       "png": "[encoded data removed]",
       "text": [
        "<matplotlib.figure.Figure at 0x10d65a110>"
       ]
      }
     ],
     "prompt_number": 50
    },
    {
     "cell_type": "code",
     "collapsed": false,
     "input": [
      "figure()\n",
      "for i in l2_keeps.index:\n",
      "    \n",
      "    txx, tyy, txy = iters[['txx', 'tyy', 'txy']].mean().iloc[i]\n",
      "    \n",
      "    XX, YY, xx, yy = calc_princ_stress_dirs_from_tensor(txx, tyy, txy)\n",
      "    #print(XX,YY)\n",
      "    plot([-XX, XX], [-YY, YY], 'r', alpha=0.2)\n",
      "    plot([-xx, xx], [-yy, yy], 'b', alpha=0.2)\n",
      "\n",
      "axis('equal')\n",
      "title('L2 posteriors')\n",
      "show()"
     ],
     "language": "python",
     "metadata": {},
     "outputs": [
      {
       "metadata": {
        "png": {
         "height": 265,
         "width": 374
        }
       },
       "output_type": "display_data",
       "png": "[encoded data removed]",
       "text": [
        "<matplotlib.figure.Figure at 0x10bc27250>"
       ]
      }
     ],
     "prompt_number": 51
    },
    {
     "cell_type": "code",
     "collapsed": false,
     "input": [],
     "language": "python",
     "metadata": {},
     "outputs": []
    }
   ],
   "metadata": {}
  }
 ]
}