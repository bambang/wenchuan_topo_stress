{
 "metadata": {
  "name": ""
 },
 "nbformat": 3,
 "nbformat_minor": 0,
 "worksheets": [
  {
   "cells": [
    {
     "cell_type": "code",
     "collapsed": false,
     "input": [
      "import numpy as np\n",
      "import halfspace.projections as hsp\n",
      "from stress_comps_vectorized import strike_shear, dip_shear, eff_normal_stress"
     ],
     "language": "python",
     "metadata": {},
     "outputs": [],
     "prompt_number": 1
    },
    {
     "cell_type": "code",
     "collapsed": false,
     "input": [
      "rho = 2700\n",
      "g = 9.81\n",
      "\n",
      "txx =              -0.532378\n",
      "tyy =               0.091610\n",
      "txy =              -0.171124\n",
      "pt_index =          0.000000\n",
      "depth =          1969.600000\n",
      "strike =          230.000000\n",
      "dip =              80.000000\n",
      "slip_m =            1.275500\n",
      "slip_rake =        81.559864\n",
      "mxx =        10976253.429215\n",
      "myy =        30172522.971082\n",
      "mxy =         1070610.613817\n",
      "mxz =         1869992.542014\n",
      "myz =         2392968.966096\n",
      "mzz =        19372076.331012"
     ],
     "language": "python",
     "metadata": {},
     "outputs": [],
     "prompt_number": 2
    },
    {
     "cell_type": "code",
     "collapsed": false,
     "input": [
      "mc_xx = txx * rho * g * depth + mxx + rho * g * depth\n",
      "mc_yy = tyy * rho * g * depth + myy + rho * g * depth\n",
      "mc_xy = txy * rho * g * depth + mxy\n",
      "mc_zz = mzz + rho * g * depth\n",
      "mc_xz = mxz\n",
      "mc_yz = myz\n",
      "\n",
      "T = hsp.make_xyz_stress_tensor(sig_xx=mc_xx, sig_yy=mc_yy, sig_zz=mc_zz,\n",
      "                               sig_xy=mc_xy, sig_yz=mc_yz, sig_xz=mc_xz)"
     ],
     "language": "python",
     "metadata": {},
     "outputs": [],
     "prompt_number": 3
    },
    {
     "cell_type": "code",
     "collapsed": false,
     "input": [
      "hsp.dip_shear_stress_from_xyz(strike=strike, dip=dip,\n",
      "                                 stress_tensor=T)"
     ],
     "language": "python",
     "metadata": {},
     "outputs": [
      {
       "metadata": {},
       "output_type": "pyout",
       "prompt_number": 4,
       "text": [
        "924052.4736637399"
       ]
      }
     ],
     "prompt_number": 4
    },
    {
     "cell_type": "code",
     "collapsed": false,
     "input": [
      "dip_shear(strike=strike, dip=dip, rho=rho, g=g,\n",
      "             mxx=mxx, myy=myy, mxy=mxy, mzz=mzz,\n",
      "             mxz=mxz, myz=myz, txx=txx, tyy=tyy, \n",
      "             txy=txy, depth=depth)"
     ],
     "language": "python",
     "metadata": {},
     "outputs": [
      {
       "metadata": {},
       "output_type": "pyout",
       "prompt_number": 5,
       "text": [
        "924052.47366374359"
       ]
      }
     ],
     "prompt_number": 5
    },
    {
     "cell_type": "code",
     "collapsed": false,
     "input": [
      "np.int( np.round( hsp.dip_shear_stress_from_xyz(strike=strike, dip=dip,\n",
      "                                 stress_tensor=T) ) )"
     ],
     "language": "python",
     "metadata": {},
     "outputs": [
      {
       "metadata": {},
       "output_type": "pyout",
       "prompt_number": 6,
       "text": [
        "924052"
       ]
      }
     ],
     "prompt_number": 6
    },
    {
     "cell_type": "code",
     "collapsed": false,
     "input": [
      "hsp.strike_shear_stress_from_xyz(strike=strike, dip=dip,\n",
      "                                 stress_tensor=T)"
     ],
     "language": "python",
     "metadata": {},
     "outputs": [
      {
       "metadata": {},
       "output_type": "pyout",
       "prompt_number": 7,
       "text": [
        "-23234844.883402772"
       ]
      }
     ],
     "prompt_number": 7
    },
    {
     "cell_type": "code",
     "collapsed": false,
     "input": [
      "np.int( np.round( hsp.strike_shear_stress_from_xyz(strike=strike, dip=dip,\n",
      "                                 stress_tensor=T) ) )"
     ],
     "language": "python",
     "metadata": {},
     "outputs": [
      {
       "metadata": {},
       "output_type": "pyout",
       "prompt_number": 8,
       "text": [
        "-23234845"
       ]
      }
     ],
     "prompt_number": 8
    },
    {
     "cell_type": "code",
     "collapsed": false,
     "input": [
      "strike_shear(strike=strike, dip=dip, rho=rho, g=g,\n",
      "             mxx=mxx, myy=myy, mxy=mxy, mzz=mzz,\n",
      "             mxz=mxz, myz=myz, txx=txx, tyy=tyy, \n",
      "             txy=txy, depth=depth)"
     ],
     "language": "python",
     "metadata": {},
     "outputs": [
      {
       "metadata": {},
       "output_type": "pyout",
       "prompt_number": 9,
       "text": [
        "-23234844.88340278"
       ]
      }
     ],
     "prompt_number": 9
    },
    {
     "cell_type": "code",
     "collapsed": false,
     "input": [
      "eff_normal_stress(strike=strike, dip=dip, rho=rho, g=g,\n",
      "             mxx=mxx, myy=myy, mxy=mxy, mzz=mzz,\n",
      "             mxz=mxz, myz=myz, txx=txx, tyy=tyy, \n",
      "             txy=txy, depth=depth)"
     ],
     "language": "python",
     "metadata": {},
     "outputs": [
      {
       "metadata": {},
       "output_type": "pyout",
       "prompt_number": 10,
       "text": [
        "73202216.435039535"
       ]
      }
     ],
     "prompt_number": 10
    },
    {
     "cell_type": "code",
     "collapsed": false,
     "input": [
      "hsp.normal_stress_from_xyz(strike=strike, dip=dip, stress_tensor=T)"
     ],
     "language": "python",
     "metadata": {},
     "outputs": [
      {
       "metadata": {},
       "output_type": "pyout",
       "prompt_number": 11,
       "text": [
        "73202216.43503954"
       ]
      }
     ],
     "prompt_number": 11
    },
    {
     "cell_type": "code",
     "collapsed": false,
     "input": [
      "pressure = hsp.first_tensor_invariant(T) /3.\n",
      "\n",
      "lamb = 0.4\n",
      "p_fluid = pressure * lamb"
     ],
     "language": "python",
     "metadata": {},
     "outputs": [],
     "prompt_number": 16
    },
    {
     "cell_type": "code",
     "collapsed": false,
     "input": [
      "Seff = T - np.array([[p_fluid, 0, 0],[0, p_fluid, 0],[0, 0, p_fluid]])"
     ],
     "language": "python",
     "metadata": {},
     "outputs": [],
     "prompt_number": 19
    },
    {
     "cell_type": "code",
     "collapsed": false,
     "input": [
      "hsp.normal_stress_from_xyz(strike=strike, dip=dip, stress_tensor=Seff)"
     ],
     "language": "python",
     "metadata": {},
     "outputs": [
      {
       "metadata": {},
       "output_type": "pyout",
       "prompt_number": 20,
       "text": [
        "47331162.727226816"
       ]
      }
     ],
     "prompt_number": 20
    },
    {
     "cell_type": "code",
     "collapsed": false,
     "input": [
      "eff_normal_stress(strike=strike, dip=dip, rho=rho, g=g,\n",
      "             mxx=mxx, myy=myy, mxy=mxy, mzz=mzz,\n",
      "             mxz=mxz, myz=myz, txx=txx, tyy=tyy, \n",
      "             txy=txy, depth=depth, lamb=lamb)"
     ],
     "language": "python",
     "metadata": {},
     "outputs": [
      {
       "metadata": {},
       "output_type": "pyout",
       "prompt_number": 21,
       "text": [
        "47331162.727226809"
       ]
      }
     ],
     "prompt_number": 21
    },
    {
     "cell_type": "code",
     "collapsed": false,
     "input": [],
     "language": "python",
     "metadata": {},
     "outputs": []
    }
   ],
   "metadata": {}
  }
 ]
}