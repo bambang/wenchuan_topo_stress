{
 "metadata": {
  "name": ""
 },
 "nbformat": 3,
 "nbformat_minor": 0,
 "worksheets": [
  {
   "cells": [
    {
     "cell_type": "code",
     "collapsed": false,
     "input": [
      "import pandas as pd\n",
      "import numpy as np"
     ],
     "language": "python",
     "metadata": {},
     "outputs": [],
     "prompt_number": 4
    },
    {
     "cell_type": "code",
     "collapsed": false,
     "input": [
      "%pylab inline\n",
      "%config InlineBackend.figure_format = 'svg'"
     ],
     "language": "python",
     "metadata": {},
     "outputs": [
      {
       "output_type": "stream",
       "stream": "stdout",
       "text": [
        "Populating the interactive namespace from numpy and matplotlib\n"
       ]
      }
     ],
     "prompt_number": 3
    },
    {
     "cell_type": "code",
     "collapsed": false,
     "input": [
      "ls ../slip_models/"
     ],
     "language": "python",
     "metadata": {},
     "outputs": [
      {
       "output_type": "stream",
       "stream": "stdout",
       "text": [
        "\u001b[1m\u001b[34maftershocks\u001b[m\u001b[m/ \u001b[1m\u001b[34mfeng\u001b[m\u001b[m/        \u001b[1m\u001b[34mqi\u001b[m\u001b[m/          \u001b[1m\u001b[34mtong\u001b[m\u001b[m/\r\n",
        "\u001b[1m\u001b[34maggregates\u001b[m\u001b[m/  \u001b[1m\u001b[34mfielding\u001b[m\u001b[m/    \u001b[1m\u001b[34mshen\u001b[m\u001b[m/        \u001b[1m\u001b[34mzhang\u001b[m\u001b[m/\r\n"
       ]
      }
     ],
     "prompt_number": 5
    },
    {
     "cell_type": "code",
     "collapsed": false,
     "input": [
      "cd ..\n"
     ],
     "language": "python",
     "metadata": {},
     "outputs": [
      {
       "output_type": "stream",
       "stream": "stdout",
       "text": [
        "/Users/styron/topo_stress/wenchuan/slip_models\n"
       ]
      }
     ],
     "prompt_number": 14
    },
    {
     "cell_type": "code",
     "collapsed": false,
     "input": [
      "ls feng/"
     ],
     "language": "python",
     "metadata": {},
     "outputs": [
      {
       "output_type": "stream",
       "stream": "stdout",
       "text": [
        "f3_utm_extend.csv  feng2_stress.csv   feng4_stress.csv\r\n",
        "feng1_stress.csv   feng3_stress.csv\r\n"
       ]
      }
     ],
     "prompt_number": 15
    },
    {
     "cell_type": "code",
     "collapsed": false,
     "input": [
      "feng1 = pd.read_csv('feng/feng1_stress.csv', index_col=0)\n",
      "feng2 = pd.read_csv('feng/feng2_stress.csv', index_col=0)\n",
      "feng3 = pd.read_csv('feng/feng3_stress.csv', index_col=0)\n",
      "feng4 = pd.read_csv('feng/feng4_stress.csv', index_col=0)"
     ],
     "language": "python",
     "metadata": {},
     "outputs": [],
     "prompt_number": 30
    },
    {
     "cell_type": "code",
     "collapsed": false,
     "input": [
      "feng1.columns"
     ],
     "language": "python",
     "metadata": {},
     "outputs": [
      {
       "metadata": {},
       "output_type": "pyout",
       "prompt_number": 33,
       "text": [
        "Index([u'pt_index', u'lon_c1', u'lat_c1', u'lon_c2', u'lat_c2', u'bottom', u'top', u'dip', u'azimuth', u'dip_m', u'strike_m', u'e_trace', u'n_trace', u'depth', u'easting', u'northing', u'lon', u'lat', u'utm_lon', u'utm_lat', u'fault_seg', u'xx_stress', u'yy_stress', u'zz_stress', u'xy_stress', u'xz_stress', u'yz_stress', u'x_pixel', u'y_pixel', u'z_pixel', u'sig_nn', u'tau_dd', u'tau_ss', u'tau_cs', u'strike'], dtype=object)"
       ]
      }
     ],
     "prompt_number": 33
    },
    {
     "cell_type": "code",
     "collapsed": false,
     "input": [],
     "language": "python",
     "metadata": {},
     "outputs": [],
     "prompt_number": 23
    },
    {
     "cell_type": "code",
     "collapsed": false,
     "input": [],
     "language": "python",
     "metadata": {},
     "outputs": [],
     "prompt_number": 31
    },
    {
     "cell_type": "code",
     "collapsed": false,
     "input": [],
     "language": "python",
     "metadata": {},
     "outputs": []
    }
   ],
   "metadata": {}
  }
 ]
}