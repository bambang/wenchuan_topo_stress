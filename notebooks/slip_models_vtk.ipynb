{
 "metadata": {
  "name": "",
  "signature": "sha256:a990ba15b90f6a719067ab8bb406167108990ca4b0cded9d29ae5e57fa93232c"
 },
 "nbformat": 3,
 "nbformat_minor": 0,
 "worksheets": [
  {
   "cells": [
    {
     "cell_type": "code",
     "collapsed": false,
     "input": [
      "import pandas as pd\n",
      "import numpy as np"
     ],
     "language": "python",
     "metadata": {},
     "outputs": [],
     "prompt_number": 1
    },
    {
     "cell_type": "code",
     "collapsed": false,
     "input": [
      "# Add these to get UTM48N into the VTK coordinate system\n",
      "\n",
      "de = 646646.40641197562\n",
      "dn = -3017134.43136694"
     ],
     "language": "python",
     "metadata": {},
     "outputs": [],
     "prompt_number": 15
    },
    {
     "cell_type": "markdown",
     "metadata": {},
     "source": [
      "## Zhang"
     ]
    },
    {
     "cell_type": "code",
     "collapsed": false,
     "input": [
      "cd ../slip_models/zhang/"
     ],
     "language": "python",
     "metadata": {},
     "outputs": [
      {
       "output_type": "stream",
       "stream": "stdout",
       "text": [
        "/Users/itchy/school/topo_stress/wenchuan/slip_models/zhang\n"
       ]
      }
     ],
     "prompt_number": 6
    },
    {
     "cell_type": "code",
     "collapsed": false,
     "input": [
      "ls"
     ],
     "language": "python",
     "metadata": {},
     "outputs": [
      {
       "output_type": "stream",
       "stream": "stdout",
       "text": [
        "calc_gz_fault_stresses.py  \u001b[34mmulti\u001b[m\u001b[m/\r\n",
        "lms_slip.csv               \u001b[34msgm\u001b[m\u001b[m/\r\n",
        "lms_stress_slip.csv\r\n"
       ]
      }
     ],
     "prompt_number": 7
    },
    {
     "cell_type": "code",
     "collapsed": false,
     "input": [
      "lms = pd.read_csv('lms_stress_slip.csv', index_col=0)"
     ],
     "language": "python",
     "metadata": {},
     "outputs": [],
     "prompt_number": 8
    },
    {
     "cell_type": "markdown",
     "metadata": {},
     "source": [
      "### already done!"
     ]
    },
    {
     "cell_type": "markdown",
     "metadata": {},
     "source": [
      "## Shen"
     ]
    },
    {
     "cell_type": "code",
     "collapsed": false,
     "input": [
      "cd ../shen/"
     ],
     "language": "python",
     "metadata": {},
     "outputs": [
      {
       "output_type": "stream",
       "stream": "stdout",
       "text": [
        "/Users/itchy/school/topo_stress/wenchuan/slip_models/shen\n"
       ]
      }
     ],
     "prompt_number": 9
    },
    {
     "cell_type": "code",
     "collapsed": false,
     "input": [
      "ls"
     ],
     "language": "python",
     "metadata": {},
     "outputs": [
      {
       "output_type": "stream",
       "stream": "stdout",
       "text": [
        "calc_shen_fault_stresses.py  shen_peng.csv\r\n",
        "shen_beich.csv               shen_peng_topo_stress.csv\r\n",
        "shen_beich_topo_stress.csv   shen_topo_stress.csv\r\n",
        "shen_lms.csv                 shen_unformatted.txt\r\n"
       ]
      }
     ],
     "prompt_number": 10
    },
    {
     "cell_type": "code",
     "collapsed": false,
     "input": [
      "sb = pd.read_csv('shen_beich_topo_stress.csv', index_col=0)\n",
      "sp = pd.read_csv('shen_peng_topo_stress.csv', index_col=0)"
     ],
     "language": "python",
     "metadata": {},
     "outputs": [],
     "prompt_number": 11
    },
    {
     "cell_type": "code",
     "collapsed": false,
     "input": [
      "sb.iloc[0]"
     ],
     "language": "python",
     "metadata": {},
     "outputs": [
      {
       "metadata": {},
       "output_type": "pyout",
       "prompt_number": 12,
       "text": [
        "length_km            3.8142\n",
        "width_km                  4\n",
        "depth_km              3.973\n",
        "dip                   96.66\n",
        "strike               222.99\n",
        "lat                 32.6194\n",
        "lon                105.4699\n",
        "s_slip_m            1.43708\n",
        "d_slip_m            1.25042\n",
        "easting_utm48      544083.8\n",
        "northing_utm48      3609192\n",
        "segment            beichuan\n",
        "xx_stress          11.64547\n",
        "yy_stress          29.36479\n",
        "zz_stress          22.78684\n",
        "xy_stress          1.066334\n",
        "xz_stress         0.2953741\n",
        "yz_stress          1.001915\n",
        "x_pixel            1403.715\n",
        "y_pixel            696.9584\n",
        "z_pixel               2.122\n",
        "sig_nn             18.98129\n",
        "tau_dd            0.9114751\n",
        "tau_ss            -8.812328\n",
        "tau_cs            -2.529431\n",
        "Name: 1, dtype: object"
       ]
      }
     ],
     "prompt_number": 12
    },
    {
     "cell_type": "code",
     "collapsed": false,
     "input": [
      "sb['vtk_easting'] = sb.easting_utm48 + de\n",
      "sb['vtk_northing'] = sb.northing_utm48 + dn\n",
      "\n",
      "sp['vtk_easting'] = sp.easting_utm48 + de\n",
      "sp['vtk_northing'] = sp.northing_utm48 + dn"
     ],
     "language": "python",
     "metadata": {},
     "outputs": [],
     "prompt_number": 16
    },
    {
     "cell_type": "code",
     "collapsed": false,
     "input": [],
     "language": "python",
     "metadata": {},
     "outputs": []
    }
   ],
   "metadata": {}
  }
 ]
}